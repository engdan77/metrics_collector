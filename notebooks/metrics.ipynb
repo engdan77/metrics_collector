{
 "cells": [
  {
   "cell_type": "code",
   "execution_count": 71,
   "metadata": {
    "collapsed": true,
    "pycharm": {
     "name": "#%%\n"
    }
   },
   "outputs": [],
   "source": [
    "import pandas as pd\n",
    "import datetime\n",
    "import plotly.express as px\n",
    "import numpy as np\n",
    "df = pd.read_pickle('health2.pickle')"
   ]
  },
  {
   "cell_type": "code",
   "execution_count": 73,
   "outputs": [
    {
     "data": {
      "text/plain": "                  date  bodymassindex_count_max  bodymassindex_count_min  \\\ndate                                                                       \n2015-11-30  2015-11-30                      NaN                      NaN   \n2015-12-01  2015-12-01                      NaN                      NaN   \n2015-12-02  2015-12-02                      NaN                      NaN   \n2015-12-03  2015-12-03                      NaN                      NaN   \n2015-12-04  2015-12-04                      NaN                      NaN   \n...                ...                      ...                      ...   \n2022-03-27  2022-03-27                      NaN                      NaN   \n2022-03-27  2022-03-27                      NaN                      NaN   \n2022-03-28  2022-03-28                      NaN                      NaN   \n2022-03-29  2022-03-29                      NaN                      NaN   \n2022-03-29  2022-03-29                      NaN                      NaN   \n\n            bodymassindex_count_mean  bodymassindex_count_sum  \\\ndate                                                            \n2015-11-30                       NaN                      NaN   \n2015-12-01                       NaN                      NaN   \n2015-12-02                       NaN                      NaN   \n2015-12-03                       NaN                      NaN   \n2015-12-04                       NaN                      NaN   \n...                              ...                      ...   \n2022-03-27                       NaN                      NaN   \n2022-03-27                       NaN                      NaN   \n2022-03-28                       NaN                      NaN   \n2022-03-29                       NaN                      NaN   \n2022-03-29                       NaN                      NaN   \n\n            bodymass_kg_max  bodymass_kg_min  bodymass_kg_mean  \\\ndate                                                             \n2015-11-30              NaN              NaN               NaN   \n2015-12-01              NaN              NaN               NaN   \n2015-12-02              NaN              NaN               NaN   \n2015-12-03              NaN              NaN               NaN   \n2015-12-04              NaN              NaN               NaN   \n...                     ...              ...               ...   \n2022-03-27              NaN              NaN               NaN   \n2022-03-27              NaN              NaN               NaN   \n2022-03-28              NaN              NaN               NaN   \n2022-03-29              NaN              NaN               NaN   \n2022-03-29              NaN              NaN               NaN   \n\n            bodymass_kg_sum  bodyfatpercentage_%  ...  \\\ndate                                              ...   \n2015-11-30              NaN                  NaN  ...   \n2015-12-01              NaN                  NaN  ...   \n2015-12-02              NaN                  NaN  ...   \n2015-12-03              NaN                  NaN  ...   \n2015-12-04              NaN                  NaN  ...   \n...                     ...                  ...  ...   \n2022-03-27              NaN                  NaN  ...   \n2022-03-27              NaN                  NaN  ...   \n2022-03-28              NaN                  NaN  ...   \n2022-03-29              NaN                  NaN  ...   \n2022-03-29              NaN                  NaN  ...   \n\n            running_steps_count_max  running_steps_count_min  \\\ndate                                                           \n2015-11-30                      NaN                      NaN   \n2015-12-01                      NaN                      NaN   \n2015-12-02                      NaN                      NaN   \n2015-12-03                      NaN                      NaN   \n2015-12-04                      NaN                      NaN   \n...                             ...                      ...   \n2022-03-27                      NaN                      NaN   \n2022-03-27                      NaN                      NaN   \n2022-03-28                      NaN                      NaN   \n2022-03-29                      NaN                      NaN   \n2022-03-29                      NaN                      NaN   \n\n            running_steps_count_mean  running_steps_count_sum  \\\ndate                                                            \n2015-11-30                       NaN                      NaN   \n2015-12-01                       NaN                      NaN   \n2015-12-02                       NaN                      NaN   \n2015-12-03                       NaN                      NaN   \n2015-12-04                       NaN                      NaN   \n...                              ...                      ...   \n2022-03-27                       NaN                      NaN   \n2022-03-27                       NaN                      NaN   \n2022-03-28                       NaN                      NaN   \n2022-03-29                       NaN                      NaN   \n2022-03-29                       NaN                      NaN   \n\n            multi_sport_distance_meters  multi_sport_duration_seconds  \\\ndate                                                                    \n2015-11-30                          NaN                           NaN   \n2015-12-01                          NaN                           NaN   \n2015-12-02                          NaN                           NaN   \n2015-12-03                          NaN                           NaN   \n2015-12-04                          NaN                           NaN   \n...                                 ...                           ...   \n2022-03-27                          NaN                           NaN   \n2022-03-27                          NaN                           NaN   \n2022-03-28                          NaN                           NaN   \n2022-03-29                          NaN                           NaN   \n2022-03-29                          NaN                           NaN   \n\n            multi_sport_calories_cal  multi_sport_maxHR_bpm  \\\ndate                                                          \n2015-11-30                       NaN                    NaN   \n2015-12-01                       NaN                    NaN   \n2015-12-02                       NaN                    NaN   \n2015-12-03                       NaN                    NaN   \n2015-12-04                       NaN                    NaN   \n...                              ...                    ...   \n2022-03-27                       NaN                    NaN   \n2022-03-27                       NaN                    NaN   \n2022-03-28                       NaN                    NaN   \n2022-03-29                       NaN                    NaN   \n2022-03-29                       NaN                    NaN   \n\n            multi_sport_averageHR_bpm  multi_sport_steps_count  \ndate                                                            \n2015-11-30                        NaN                      NaN  \n2015-12-01                        NaN                      NaN  \n2015-12-02                        NaN                      NaN  \n2015-12-03                        NaN                      NaN  \n2015-12-04                        NaN                      NaN  \n...                               ...                      ...  \n2022-03-27                        NaN                      NaN  \n2022-03-27                        NaN                      NaN  \n2022-03-28                        NaN                      NaN  \n2022-03-29                        NaN                      NaN  \n2022-03-29                        NaN                      NaN  \n\n[2472 rows x 62 columns]",
      "text/html": "<div>\n<style scoped>\n    .dataframe tbody tr th:only-of-type {\n        vertical-align: middle;\n    }\n\n    .dataframe tbody tr th {\n        vertical-align: top;\n    }\n\n    .dataframe thead th {\n        text-align: right;\n    }\n</style>\n<table border=\"1\" class=\"dataframe\">\n  <thead>\n    <tr style=\"text-align: right;\">\n      <th></th>\n      <th>date</th>\n      <th>bodymassindex_count_max</th>\n      <th>bodymassindex_count_min</th>\n      <th>bodymassindex_count_mean</th>\n      <th>bodymassindex_count_sum</th>\n      <th>bodymass_kg_max</th>\n      <th>bodymass_kg_min</th>\n      <th>bodymass_kg_mean</th>\n      <th>bodymass_kg_sum</th>\n      <th>bodyfatpercentage_%</th>\n      <th>...</th>\n      <th>running_steps_count_max</th>\n      <th>running_steps_count_min</th>\n      <th>running_steps_count_mean</th>\n      <th>running_steps_count_sum</th>\n      <th>multi_sport_distance_meters</th>\n      <th>multi_sport_duration_seconds</th>\n      <th>multi_sport_calories_cal</th>\n      <th>multi_sport_maxHR_bpm</th>\n      <th>multi_sport_averageHR_bpm</th>\n      <th>multi_sport_steps_count</th>\n    </tr>\n    <tr>\n      <th>date</th>\n      <th></th>\n      <th></th>\n      <th></th>\n      <th></th>\n      <th></th>\n      <th></th>\n      <th></th>\n      <th></th>\n      <th></th>\n      <th></th>\n      <th></th>\n      <th></th>\n      <th></th>\n      <th></th>\n      <th></th>\n      <th></th>\n      <th></th>\n      <th></th>\n      <th></th>\n      <th></th>\n      <th></th>\n    </tr>\n  </thead>\n  <tbody>\n    <tr>\n      <th>2015-11-30</th>\n      <td>2015-11-30</td>\n      <td>NaN</td>\n      <td>NaN</td>\n      <td>NaN</td>\n      <td>NaN</td>\n      <td>NaN</td>\n      <td>NaN</td>\n      <td>NaN</td>\n      <td>NaN</td>\n      <td>NaN</td>\n      <td>...</td>\n      <td>NaN</td>\n      <td>NaN</td>\n      <td>NaN</td>\n      <td>NaN</td>\n      <td>NaN</td>\n      <td>NaN</td>\n      <td>NaN</td>\n      <td>NaN</td>\n      <td>NaN</td>\n      <td>NaN</td>\n    </tr>\n    <tr>\n      <th>2015-12-01</th>\n      <td>2015-12-01</td>\n      <td>NaN</td>\n      <td>NaN</td>\n      <td>NaN</td>\n      <td>NaN</td>\n      <td>NaN</td>\n      <td>NaN</td>\n      <td>NaN</td>\n      <td>NaN</td>\n      <td>NaN</td>\n      <td>...</td>\n      <td>NaN</td>\n      <td>NaN</td>\n      <td>NaN</td>\n      <td>NaN</td>\n      <td>NaN</td>\n      <td>NaN</td>\n      <td>NaN</td>\n      <td>NaN</td>\n      <td>NaN</td>\n      <td>NaN</td>\n    </tr>\n    <tr>\n      <th>2015-12-02</th>\n      <td>2015-12-02</td>\n      <td>NaN</td>\n      <td>NaN</td>\n      <td>NaN</td>\n      <td>NaN</td>\n      <td>NaN</td>\n      <td>NaN</td>\n      <td>NaN</td>\n      <td>NaN</td>\n      <td>NaN</td>\n      <td>...</td>\n      <td>NaN</td>\n      <td>NaN</td>\n      <td>NaN</td>\n      <td>NaN</td>\n      <td>NaN</td>\n      <td>NaN</td>\n      <td>NaN</td>\n      <td>NaN</td>\n      <td>NaN</td>\n      <td>NaN</td>\n    </tr>\n    <tr>\n      <th>2015-12-03</th>\n      <td>2015-12-03</td>\n      <td>NaN</td>\n      <td>NaN</td>\n      <td>NaN</td>\n      <td>NaN</td>\n      <td>NaN</td>\n      <td>NaN</td>\n      <td>NaN</td>\n      <td>NaN</td>\n      <td>NaN</td>\n      <td>...</td>\n      <td>NaN</td>\n      <td>NaN</td>\n      <td>NaN</td>\n      <td>NaN</td>\n      <td>NaN</td>\n      <td>NaN</td>\n      <td>NaN</td>\n      <td>NaN</td>\n      <td>NaN</td>\n      <td>NaN</td>\n    </tr>\n    <tr>\n      <th>2015-12-04</th>\n      <td>2015-12-04</td>\n      <td>NaN</td>\n      <td>NaN</td>\n      <td>NaN</td>\n      <td>NaN</td>\n      <td>NaN</td>\n      <td>NaN</td>\n      <td>NaN</td>\n      <td>NaN</td>\n      <td>NaN</td>\n      <td>...</td>\n      <td>NaN</td>\n      <td>NaN</td>\n      <td>NaN</td>\n      <td>NaN</td>\n      <td>NaN</td>\n      <td>NaN</td>\n      <td>NaN</td>\n      <td>NaN</td>\n      <td>NaN</td>\n      <td>NaN</td>\n    </tr>\n    <tr>\n      <th>...</th>\n      <td>...</td>\n      <td>...</td>\n      <td>...</td>\n      <td>...</td>\n      <td>...</td>\n      <td>...</td>\n      <td>...</td>\n      <td>...</td>\n      <td>...</td>\n      <td>...</td>\n      <td>...</td>\n      <td>...</td>\n      <td>...</td>\n      <td>...</td>\n      <td>...</td>\n      <td>...</td>\n      <td>...</td>\n      <td>...</td>\n      <td>...</td>\n      <td>...</td>\n      <td>...</td>\n    </tr>\n    <tr>\n      <th>2022-03-27</th>\n      <td>2022-03-27</td>\n      <td>NaN</td>\n      <td>NaN</td>\n      <td>NaN</td>\n      <td>NaN</td>\n      <td>NaN</td>\n      <td>NaN</td>\n      <td>NaN</td>\n      <td>NaN</td>\n      <td>NaN</td>\n      <td>...</td>\n      <td>NaN</td>\n      <td>NaN</td>\n      <td>NaN</td>\n      <td>NaN</td>\n      <td>NaN</td>\n      <td>NaN</td>\n      <td>NaN</td>\n      <td>NaN</td>\n      <td>NaN</td>\n      <td>NaN</td>\n    </tr>\n    <tr>\n      <th>2022-03-27</th>\n      <td>2022-03-27</td>\n      <td>NaN</td>\n      <td>NaN</td>\n      <td>NaN</td>\n      <td>NaN</td>\n      <td>NaN</td>\n      <td>NaN</td>\n      <td>NaN</td>\n      <td>NaN</td>\n      <td>NaN</td>\n      <td>...</td>\n      <td>NaN</td>\n      <td>NaN</td>\n      <td>NaN</td>\n      <td>NaN</td>\n      <td>NaN</td>\n      <td>NaN</td>\n      <td>NaN</td>\n      <td>NaN</td>\n      <td>NaN</td>\n      <td>NaN</td>\n    </tr>\n    <tr>\n      <th>2022-03-28</th>\n      <td>2022-03-28</td>\n      <td>NaN</td>\n      <td>NaN</td>\n      <td>NaN</td>\n      <td>NaN</td>\n      <td>NaN</td>\n      <td>NaN</td>\n      <td>NaN</td>\n      <td>NaN</td>\n      <td>NaN</td>\n      <td>...</td>\n      <td>NaN</td>\n      <td>NaN</td>\n      <td>NaN</td>\n      <td>NaN</td>\n      <td>NaN</td>\n      <td>NaN</td>\n      <td>NaN</td>\n      <td>NaN</td>\n      <td>NaN</td>\n      <td>NaN</td>\n    </tr>\n    <tr>\n      <th>2022-03-29</th>\n      <td>2022-03-29</td>\n      <td>NaN</td>\n      <td>NaN</td>\n      <td>NaN</td>\n      <td>NaN</td>\n      <td>NaN</td>\n      <td>NaN</td>\n      <td>NaN</td>\n      <td>NaN</td>\n      <td>NaN</td>\n      <td>...</td>\n      <td>NaN</td>\n      <td>NaN</td>\n      <td>NaN</td>\n      <td>NaN</td>\n      <td>NaN</td>\n      <td>NaN</td>\n      <td>NaN</td>\n      <td>NaN</td>\n      <td>NaN</td>\n      <td>NaN</td>\n    </tr>\n    <tr>\n      <th>2022-03-29</th>\n      <td>2022-03-29</td>\n      <td>NaN</td>\n      <td>NaN</td>\n      <td>NaN</td>\n      <td>NaN</td>\n      <td>NaN</td>\n      <td>NaN</td>\n      <td>NaN</td>\n      <td>NaN</td>\n      <td>NaN</td>\n      <td>...</td>\n      <td>NaN</td>\n      <td>NaN</td>\n      <td>NaN</td>\n      <td>NaN</td>\n      <td>NaN</td>\n      <td>NaN</td>\n      <td>NaN</td>\n      <td>NaN</td>\n      <td>NaN</td>\n      <td>NaN</td>\n    </tr>\n  </tbody>\n</table>\n<p>2472 rows × 62 columns</p>\n</div>"
     },
     "execution_count": 73,
     "metadata": {},
     "output_type": "execute_result"
    }
   ],
   "source": [
    "df.index = pd.to_datetime(df.index)\n",
    "df.sort_index(inplace=True)\n",
    "df"
   ],
   "metadata": {
    "collapsed": false,
    "pycharm": {
     "name": "#%%\n"
    }
   }
  },
  {
   "cell_type": "markdown",
   "source": [],
   "metadata": {
    "collapsed": false,
    "pycharm": {
     "name": "#%% md\n"
    }
   }
  },
  {
   "cell_type": "code",
   "execution_count": 74,
   "outputs": [
    {
     "data": {
      "text/plain": "                  date  bodymassindex_count_max  bodymassindex_count_min  \\\ndate                                                                       \n2015-11-30  2015-11-30                      NaN                      NaN   \n2015-12-01  2015-12-01                      NaN                      NaN   \n2015-12-02  2015-12-02                      NaN                      NaN   \n2015-12-03  2015-12-03                      NaN                      NaN   \n2015-12-04  2015-12-04                      NaN                      NaN   \n...                ...                      ...                      ...   \n2022-03-27  2022-03-27                      NaN                      NaN   \n2022-03-27  2022-03-27                      NaN                      NaN   \n2022-03-28  2022-03-28                      NaN                      NaN   \n2022-03-29  2022-03-29                      NaN                      NaN   \n2022-03-29  2022-03-29                      NaN                      NaN   \n\n            bodymassindex_count_mean  bodymassindex_count_sum  \\\ndate                                                            \n2015-11-30                       NaN                      NaN   \n2015-12-01                       NaN                      NaN   \n2015-12-02                       NaN                      NaN   \n2015-12-03                       NaN                      NaN   \n2015-12-04                       NaN                      NaN   \n...                              ...                      ...   \n2022-03-27                       NaN                      NaN   \n2022-03-27                       NaN                      NaN   \n2022-03-28                       NaN                      NaN   \n2022-03-29                       NaN                      NaN   \n2022-03-29                       NaN                      NaN   \n\n            bodymass_kg_max  bodymass_kg_min  bodymass_kg_mean  \\\ndate                                                             \n2015-11-30              NaN              NaN               NaN   \n2015-12-01              NaN              NaN               NaN   \n2015-12-02              NaN              NaN               NaN   \n2015-12-03              NaN              NaN               NaN   \n2015-12-04              NaN              NaN               NaN   \n...                     ...              ...               ...   \n2022-03-27              NaN              NaN               NaN   \n2022-03-27              NaN              NaN               NaN   \n2022-03-28              NaN              NaN               NaN   \n2022-03-29              NaN              NaN               NaN   \n2022-03-29              NaN              NaN               NaN   \n\n            bodymass_kg_sum  bodyfatpercentage_%  ...  \\\ndate                                              ...   \n2015-11-30              NaN                  NaN  ...   \n2015-12-01              NaN                  NaN  ...   \n2015-12-02              NaN                  NaN  ...   \n2015-12-03              NaN                  NaN  ...   \n2015-12-04              NaN                  NaN  ...   \n...                     ...                  ...  ...   \n2022-03-27              NaN                  NaN  ...   \n2022-03-27              NaN                  NaN  ...   \n2022-03-28              NaN                  NaN  ...   \n2022-03-29              NaN                  NaN  ...   \n2022-03-29              NaN                  NaN  ...   \n\n            running_steps_count_min  running_steps_count_mean  \\\ndate                                                            \n2015-11-30                      NaN                       NaN   \n2015-12-01                      NaN                       NaN   \n2015-12-02                      NaN                       NaN   \n2015-12-03                      NaN                       NaN   \n2015-12-04                      NaN                       NaN   \n...                             ...                       ...   \n2022-03-27                      NaN                       NaN   \n2022-03-27                      NaN                       NaN   \n2022-03-28                      NaN                       NaN   \n2022-03-29                      NaN                       NaN   \n2022-03-29                      NaN                       NaN   \n\n            running_steps_count_sum  multi_sport_distance_meters  \\\ndate                                                               \n2015-11-30                      NaN                          NaN   \n2015-12-01                      NaN                          NaN   \n2015-12-02                      NaN                          NaN   \n2015-12-03                      NaN                          NaN   \n2015-12-04                      NaN                          NaN   \n...                             ...                          ...   \n2022-03-27                      NaN                          NaN   \n2022-03-27                      NaN                          NaN   \n2022-03-28                      NaN                          NaN   \n2022-03-29                      NaN                          NaN   \n2022-03-29                      NaN                          NaN   \n\n            multi_sport_duration_seconds  multi_sport_calories_cal  \\\ndate                                                                 \n2015-11-30                           NaN                       NaN   \n2015-12-01                           NaN                       NaN   \n2015-12-02                           NaN                       NaN   \n2015-12-03                           NaN                       NaN   \n2015-12-04                           NaN                       NaN   \n...                                  ...                       ...   \n2022-03-27                           NaN                       NaN   \n2022-03-27                           NaN                       NaN   \n2022-03-28                           NaN                       NaN   \n2022-03-29                           NaN                       NaN   \n2022-03-29                           NaN                       NaN   \n\n            multi_sport_maxHR_bpm  multi_sport_averageHR_bpm  \\\ndate                                                           \n2015-11-30                    NaN                        NaN   \n2015-12-01                    NaN                        NaN   \n2015-12-02                    NaN                        NaN   \n2015-12-03                    NaN                        NaN   \n2015-12-04                    NaN                        NaN   \n...                           ...                        ...   \n2022-03-27                    NaN                        NaN   \n2022-03-27                    NaN                        NaN   \n2022-03-28                    NaN                        NaN   \n2022-03-29                    NaN                        NaN   \n2022-03-29                    NaN                        NaN   \n\n            multi_sport_steps_count  avg_speed_running_trip  \ndate                                                         \n2015-11-30                      NaN                     NaN  \n2015-12-01                      NaN                     NaN  \n2015-12-02                      NaN                     NaN  \n2015-12-03                      NaN                     NaN  \n2015-12-04                      NaN                     NaN  \n...                             ...                     ...  \n2022-03-27                      NaN                     NaN  \n2022-03-27                      NaN                6.381378  \n2022-03-28                      NaN                     NaN  \n2022-03-29                      NaN                     NaN  \n2022-03-29                      NaN                6.473471  \n\n[2472 rows x 63 columns]",
      "text/html": "<div>\n<style scoped>\n    .dataframe tbody tr th:only-of-type {\n        vertical-align: middle;\n    }\n\n    .dataframe tbody tr th {\n        vertical-align: top;\n    }\n\n    .dataframe thead th {\n        text-align: right;\n    }\n</style>\n<table border=\"1\" class=\"dataframe\">\n  <thead>\n    <tr style=\"text-align: right;\">\n      <th></th>\n      <th>date</th>\n      <th>bodymassindex_count_max</th>\n      <th>bodymassindex_count_min</th>\n      <th>bodymassindex_count_mean</th>\n      <th>bodymassindex_count_sum</th>\n      <th>bodymass_kg_max</th>\n      <th>bodymass_kg_min</th>\n      <th>bodymass_kg_mean</th>\n      <th>bodymass_kg_sum</th>\n      <th>bodyfatpercentage_%</th>\n      <th>...</th>\n      <th>running_steps_count_min</th>\n      <th>running_steps_count_mean</th>\n      <th>running_steps_count_sum</th>\n      <th>multi_sport_distance_meters</th>\n      <th>multi_sport_duration_seconds</th>\n      <th>multi_sport_calories_cal</th>\n      <th>multi_sport_maxHR_bpm</th>\n      <th>multi_sport_averageHR_bpm</th>\n      <th>multi_sport_steps_count</th>\n      <th>avg_speed_running_trip</th>\n    </tr>\n    <tr>\n      <th>date</th>\n      <th></th>\n      <th></th>\n      <th></th>\n      <th></th>\n      <th></th>\n      <th></th>\n      <th></th>\n      <th></th>\n      <th></th>\n      <th></th>\n      <th></th>\n      <th></th>\n      <th></th>\n      <th></th>\n      <th></th>\n      <th></th>\n      <th></th>\n      <th></th>\n      <th></th>\n      <th></th>\n      <th></th>\n    </tr>\n  </thead>\n  <tbody>\n    <tr>\n      <th>2015-11-30</th>\n      <td>2015-11-30</td>\n      <td>NaN</td>\n      <td>NaN</td>\n      <td>NaN</td>\n      <td>NaN</td>\n      <td>NaN</td>\n      <td>NaN</td>\n      <td>NaN</td>\n      <td>NaN</td>\n      <td>NaN</td>\n      <td>...</td>\n      <td>NaN</td>\n      <td>NaN</td>\n      <td>NaN</td>\n      <td>NaN</td>\n      <td>NaN</td>\n      <td>NaN</td>\n      <td>NaN</td>\n      <td>NaN</td>\n      <td>NaN</td>\n      <td>NaN</td>\n    </tr>\n    <tr>\n      <th>2015-12-01</th>\n      <td>2015-12-01</td>\n      <td>NaN</td>\n      <td>NaN</td>\n      <td>NaN</td>\n      <td>NaN</td>\n      <td>NaN</td>\n      <td>NaN</td>\n      <td>NaN</td>\n      <td>NaN</td>\n      <td>NaN</td>\n      <td>...</td>\n      <td>NaN</td>\n      <td>NaN</td>\n      <td>NaN</td>\n      <td>NaN</td>\n      <td>NaN</td>\n      <td>NaN</td>\n      <td>NaN</td>\n      <td>NaN</td>\n      <td>NaN</td>\n      <td>NaN</td>\n    </tr>\n    <tr>\n      <th>2015-12-02</th>\n      <td>2015-12-02</td>\n      <td>NaN</td>\n      <td>NaN</td>\n      <td>NaN</td>\n      <td>NaN</td>\n      <td>NaN</td>\n      <td>NaN</td>\n      <td>NaN</td>\n      <td>NaN</td>\n      <td>NaN</td>\n      <td>...</td>\n      <td>NaN</td>\n      <td>NaN</td>\n      <td>NaN</td>\n      <td>NaN</td>\n      <td>NaN</td>\n      <td>NaN</td>\n      <td>NaN</td>\n      <td>NaN</td>\n      <td>NaN</td>\n      <td>NaN</td>\n    </tr>\n    <tr>\n      <th>2015-12-03</th>\n      <td>2015-12-03</td>\n      <td>NaN</td>\n      <td>NaN</td>\n      <td>NaN</td>\n      <td>NaN</td>\n      <td>NaN</td>\n      <td>NaN</td>\n      <td>NaN</td>\n      <td>NaN</td>\n      <td>NaN</td>\n      <td>...</td>\n      <td>NaN</td>\n      <td>NaN</td>\n      <td>NaN</td>\n      <td>NaN</td>\n      <td>NaN</td>\n      <td>NaN</td>\n      <td>NaN</td>\n      <td>NaN</td>\n      <td>NaN</td>\n      <td>NaN</td>\n    </tr>\n    <tr>\n      <th>2015-12-04</th>\n      <td>2015-12-04</td>\n      <td>NaN</td>\n      <td>NaN</td>\n      <td>NaN</td>\n      <td>NaN</td>\n      <td>NaN</td>\n      <td>NaN</td>\n      <td>NaN</td>\n      <td>NaN</td>\n      <td>NaN</td>\n      <td>...</td>\n      <td>NaN</td>\n      <td>NaN</td>\n      <td>NaN</td>\n      <td>NaN</td>\n      <td>NaN</td>\n      <td>NaN</td>\n      <td>NaN</td>\n      <td>NaN</td>\n      <td>NaN</td>\n      <td>NaN</td>\n    </tr>\n    <tr>\n      <th>...</th>\n      <td>...</td>\n      <td>...</td>\n      <td>...</td>\n      <td>...</td>\n      <td>...</td>\n      <td>...</td>\n      <td>...</td>\n      <td>...</td>\n      <td>...</td>\n      <td>...</td>\n      <td>...</td>\n      <td>...</td>\n      <td>...</td>\n      <td>...</td>\n      <td>...</td>\n      <td>...</td>\n      <td>...</td>\n      <td>...</td>\n      <td>...</td>\n      <td>...</td>\n      <td>...</td>\n    </tr>\n    <tr>\n      <th>2022-03-27</th>\n      <td>2022-03-27</td>\n      <td>NaN</td>\n      <td>NaN</td>\n      <td>NaN</td>\n      <td>NaN</td>\n      <td>NaN</td>\n      <td>NaN</td>\n      <td>NaN</td>\n      <td>NaN</td>\n      <td>NaN</td>\n      <td>...</td>\n      <td>NaN</td>\n      <td>NaN</td>\n      <td>NaN</td>\n      <td>NaN</td>\n      <td>NaN</td>\n      <td>NaN</td>\n      <td>NaN</td>\n      <td>NaN</td>\n      <td>NaN</td>\n      <td>NaN</td>\n    </tr>\n    <tr>\n      <th>2022-03-27</th>\n      <td>2022-03-27</td>\n      <td>NaN</td>\n      <td>NaN</td>\n      <td>NaN</td>\n      <td>NaN</td>\n      <td>NaN</td>\n      <td>NaN</td>\n      <td>NaN</td>\n      <td>NaN</td>\n      <td>NaN</td>\n      <td>...</td>\n      <td>NaN</td>\n      <td>NaN</td>\n      <td>NaN</td>\n      <td>NaN</td>\n      <td>NaN</td>\n      <td>NaN</td>\n      <td>NaN</td>\n      <td>NaN</td>\n      <td>NaN</td>\n      <td>6.381378</td>\n    </tr>\n    <tr>\n      <th>2022-03-28</th>\n      <td>2022-03-28</td>\n      <td>NaN</td>\n      <td>NaN</td>\n      <td>NaN</td>\n      <td>NaN</td>\n      <td>NaN</td>\n      <td>NaN</td>\n      <td>NaN</td>\n      <td>NaN</td>\n      <td>NaN</td>\n      <td>...</td>\n      <td>NaN</td>\n      <td>NaN</td>\n      <td>NaN</td>\n      <td>NaN</td>\n      <td>NaN</td>\n      <td>NaN</td>\n      <td>NaN</td>\n      <td>NaN</td>\n      <td>NaN</td>\n      <td>NaN</td>\n    </tr>\n    <tr>\n      <th>2022-03-29</th>\n      <td>2022-03-29</td>\n      <td>NaN</td>\n      <td>NaN</td>\n      <td>NaN</td>\n      <td>NaN</td>\n      <td>NaN</td>\n      <td>NaN</td>\n      <td>NaN</td>\n      <td>NaN</td>\n      <td>NaN</td>\n      <td>...</td>\n      <td>NaN</td>\n      <td>NaN</td>\n      <td>NaN</td>\n      <td>NaN</td>\n      <td>NaN</td>\n      <td>NaN</td>\n      <td>NaN</td>\n      <td>NaN</td>\n      <td>NaN</td>\n      <td>NaN</td>\n    </tr>\n    <tr>\n      <th>2022-03-29</th>\n      <td>2022-03-29</td>\n      <td>NaN</td>\n      <td>NaN</td>\n      <td>NaN</td>\n      <td>NaN</td>\n      <td>NaN</td>\n      <td>NaN</td>\n      <td>NaN</td>\n      <td>NaN</td>\n      <td>NaN</td>\n      <td>...</td>\n      <td>NaN</td>\n      <td>NaN</td>\n      <td>NaN</td>\n      <td>NaN</td>\n      <td>NaN</td>\n      <td>NaN</td>\n      <td>NaN</td>\n      <td>NaN</td>\n      <td>NaN</td>\n      <td>6.473471</td>\n    </tr>\n  </tbody>\n</table>\n<p>2472 rows × 63 columns</p>\n</div>"
     },
     "execution_count": 74,
     "metadata": {},
     "output_type": "execute_result"
    }
   ],
   "source": [
    "# Add column for average speed on running\n",
    "TRIP_DISTANCE_METERS = 6000\n",
    "MARGIN_PERCANTAGE = 8\n",
    "diff_meters = (MARGIN_PERCANTAGE / 100) * TRIP_DISTANCE_METERS\n",
    "df['avg_speed_running_trip'] = df.apply(lambda row: (row.running_duration_seconds/60) / (row.running_distance_meters / 1000) if row.running_distance_meters and row.running_distance_meters - diff_meters <= row.running_distance_meters <= row.running_distance_meters + diff_meters else np.NaN, axis=1)\n",
    "df\n"
   ],
   "metadata": {
    "collapsed": false,
    "pycharm": {
     "name": "#%%\n"
    }
   }
  },
  {
   "cell_type": "code",
   "execution_count": 75,
   "outputs": [
    {
     "data": {
      "text/plain": "            bodymass_kg_mean  stepcount_count_sum  \\\ndate                                                \n2022-02-18               NaN               2463.0   \n2022-02-19               NaN              17739.0   \n2022-02-20               NaN               7519.0   \n2022-02-21               NaN               1785.0   \n2022-02-22               NaN               1474.0   \n2022-02-23               NaN              12166.0   \n2022-02-24               NaN               1761.0   \n2022-02-25               NaN               1431.0   \n2022-02-26               NaN               8302.0   \n2022-02-27               NaN               3114.0   \n2022-02-28               NaN               4666.0   \n2022-03-01               NaN               6900.0   \n2022-03-02               NaN               3783.0   \n2022-03-03               NaN               1564.0   \n2022-03-04               NaN               3416.0   \n2022-03-05               NaN              15267.0   \n2022-03-06               NaN              12965.0   \n2022-03-07               NaN               6977.0   \n2022-03-08               NaN               8445.0   \n2022-03-09               NaN               5069.0   \n2022-03-10               NaN              12382.0   \n2022-03-11               NaN               6257.0   \n2022-03-12               NaN              17022.0   \n2022-03-13               NaN              15073.0   \n2022-03-14               NaN               3865.0   \n2022-03-15               NaN               7551.0   \n2022-03-16               NaN              10007.0   \n2022-03-17               NaN               6517.0   \n2022-03-18               NaN               9734.0   \n2022-03-19               NaN              15522.0   \n2022-03-20               NaN               9726.0   \n2022-03-21               NaN               7153.0   \n2022-03-22               NaN              12936.0   \n2022-03-23               NaN               6445.0   \n2022-03-24               NaN              10538.0   \n2022-03-25               NaN               8150.0   \n2022-03-26               NaN               8668.0   \n2022-03-27               NaN              14143.0   \n2022-03-28               NaN               6145.0   \n2022-03-29               NaN               5862.0   \n\n            distancewalkingrunning_km_sum  bodymass_kg  \\\ndate                                                     \n2022-02-18                       1.528202          NaN   \n2022-02-19                      11.845500       80.729   \n2022-02-20                       0.506180          NaN   \n2022-02-21                       7.369900          NaN   \n2022-02-22                       0.899040          NaN   \n2022-02-23                       7.340040          NaN   \n2022-02-24                       1.078330          NaN   \n2022-02-25                       0.881310          NaN   \n2022-02-26                       1.346520          NaN   \n2022-02-27                       7.815314          NaN   \n2022-02-28                       2.863704          NaN   \n2022-03-01                       1.737960          NaN   \n2022-03-02                       6.511755          NaN   \n2022-03-03                       0.980640          NaN   \n2022-03-04                       2.098721          NaN   \n2022-03-05                       3.480930       80.893   \n2022-03-06                      17.403120          NaN   \n2022-03-07                       5.442696          NaN   \n2022-03-08                       6.142016          NaN   \n2022-03-09                       3.962949          NaN   \n2022-03-10                       5.469680          NaN   \n2022-03-11                       9.622928          NaN   \n2022-03-12                       2.556800       81.151   \n2022-03-13                      19.860205          NaN   \n2022-03-14                       6.169287          NaN   \n2022-03-15                       5.503720          NaN   \n2022-03-16                       7.798371          NaN   \n2022-03-17                       4.406523          NaN   \n2022-03-18                       7.332086          NaN   \n2022-03-19                       3.212799       79.617   \n2022-03-20                      15.682210          NaN   \n2022-03-21                       5.694632          NaN   \n2022-03-22                       4.399569          NaN   \n2022-03-23                      10.695232          NaN   \n2022-03-24                       6.832152          NaN   \n2022-03-25                       5.479471          NaN   \n2022-03-26                       5.744744          NaN   \n2022-03-27                      12.115723          NaN   \n2022-03-28                       4.407582          NaN   \n2022-03-29                       4.204274          NaN   \n\n            bloodpressuresystolic_mmHg  bloodpressurediastolic_mmHg  \\\ndate                                                                  \n2022-02-18                         NaN                          NaN   \n2022-02-19                     123.000                       86.000   \n2022-02-20                         NaN                          NaN   \n2022-02-21                         NaN                          NaN   \n2022-02-22                         NaN                          NaN   \n2022-02-23                         NaN                          NaN   \n2022-02-24                         NaN                          NaN   \n2022-02-25                         NaN                          NaN   \n2022-02-26                         NaN                          NaN   \n2022-02-27                         NaN                          NaN   \n2022-02-28                         NaN                          NaN   \n2022-03-01                         NaN                          NaN   \n2022-03-02                         NaN                          NaN   \n2022-03-03                         NaN                          NaN   \n2022-03-04                         NaN                          NaN   \n2022-03-05                     126.000                       88.333   \n2022-03-06                         NaN                          NaN   \n2022-03-07                     122.333                       85.000   \n2022-03-08                         NaN                          NaN   \n2022-03-09                         NaN                          NaN   \n2022-03-10                     124.666                       87.333   \n2022-03-11                         NaN                          NaN   \n2022-03-12                         NaN                          NaN   \n2022-03-13                         NaN                          NaN   \n2022-03-14                     131.333                       92.666   \n2022-03-15                         NaN                          NaN   \n2022-03-16                     125.666                       87.333   \n2022-03-17                         NaN                          NaN   \n2022-03-18                         NaN                          NaN   \n2022-03-19                         NaN                          NaN   \n2022-03-20                         NaN                          NaN   \n2022-03-21                         NaN                          NaN   \n2022-03-22                         NaN                          NaN   \n2022-03-23                     118.333                       82.000   \n2022-03-24                         NaN                          NaN   \n2022-03-25                     124.666                       81.666   \n2022-03-26                         NaN                          NaN   \n2022-03-27                         NaN                          NaN   \n2022-03-28                     126.333                       83.000   \n2022-03-29                     127.333                       86.666   \n\n            walking_distance_meters  running_distance_meters  \\\ndate                                                           \n2022-02-18                      NaN                      NaN   \n2022-02-19                      NaN                      NaN   \n2022-02-20               765.239990              5052.509766   \n2022-02-21                      NaN                      NaN   \n2022-02-22                      NaN                      NaN   \n2022-02-23                      NaN                      NaN   \n2022-02-24                      NaN                      NaN   \n2022-02-25                      NaN                      NaN   \n2022-02-26               535.650024              5011.709961   \n2022-02-27                      NaN                      NaN   \n2022-02-28                      NaN                      NaN   \n2022-03-01                      NaN              4034.179932   \n2022-03-02                      NaN                      NaN   \n2022-03-03                      NaN                      NaN   \n2022-03-04                      NaN                      NaN   \n2022-03-05                      NaN              8008.640137   \n2022-03-06                      NaN                      NaN   \n2022-03-07                      NaN                      NaN   \n2022-03-08                      NaN                      NaN   \n2022-03-09                      NaN                      NaN   \n2022-03-10                      NaN              4029.179932   \n2022-03-11                      NaN                      NaN   \n2022-03-12              1255.130005             10188.009766   \n2022-03-13              3760.330078                      NaN   \n2022-03-14                      NaN                      NaN   \n2022-03-15                      NaN                      NaN   \n2022-03-16                      NaN                      NaN   \n2022-03-17                      NaN                      NaN   \n2022-03-18                      NaN                      NaN   \n2022-03-19              1597.640015              7016.919922   \n2022-03-20                      NaN                      NaN   \n2022-03-21                      NaN                      NaN   \n2022-03-22                      NaN              6009.850098   \n2022-03-23                      NaN                      NaN   \n2022-03-24                      NaN                      NaN   \n2022-03-25                      NaN                      NaN   \n2022-03-26                      NaN                      NaN   \n2022-03-27                      NaN              8808.209961   \n2022-03-28                      NaN                      NaN   \n2022-03-29              1019.520020              3889.139893   \n\n            avg_speed_running_trip  \ndate                                \n2022-02-18                     NaN  \n2022-02-19                     NaN  \n2022-02-20                6.619915  \n2022-02-21                     NaN  \n2022-02-22                     NaN  \n2022-02-23                     NaN  \n2022-02-24                     NaN  \n2022-02-25                     NaN  \n2022-02-26                6.326011  \n2022-02-27                     NaN  \n2022-02-28                     NaN  \n2022-03-01                6.166714  \n2022-03-02                     NaN  \n2022-03-03                     NaN  \n2022-03-04                     NaN  \n2022-03-05                7.532433  \n2022-03-06                     NaN  \n2022-03-07                     NaN  \n2022-03-08                     NaN  \n2022-03-09                     NaN  \n2022-03-10                6.475259  \n2022-03-11                     NaN  \n2022-03-12                6.696676  \n2022-03-13                     NaN  \n2022-03-14                     NaN  \n2022-03-15                     NaN  \n2022-03-16                     NaN  \n2022-03-17                     NaN  \n2022-03-18                     NaN  \n2022-03-19                6.953840  \n2022-03-20                     NaN  \n2022-03-21                     NaN  \n2022-03-22                7.321833  \n2022-03-23                     NaN  \n2022-03-24                     NaN  \n2022-03-25                     NaN  \n2022-03-26                     NaN  \n2022-03-27                6.381378  \n2022-03-28                     NaN  \n2022-03-29                6.473471  ",
      "text/html": "<div>\n<style scoped>\n    .dataframe tbody tr th:only-of-type {\n        vertical-align: middle;\n    }\n\n    .dataframe tbody tr th {\n        vertical-align: top;\n    }\n\n    .dataframe thead th {\n        text-align: right;\n    }\n</style>\n<table border=\"1\" class=\"dataframe\">\n  <thead>\n    <tr style=\"text-align: right;\">\n      <th></th>\n      <th>bodymass_kg_mean</th>\n      <th>stepcount_count_sum</th>\n      <th>distancewalkingrunning_km_sum</th>\n      <th>bodymass_kg</th>\n      <th>bloodpressuresystolic_mmHg</th>\n      <th>bloodpressurediastolic_mmHg</th>\n      <th>walking_distance_meters</th>\n      <th>running_distance_meters</th>\n      <th>avg_speed_running_trip</th>\n    </tr>\n    <tr>\n      <th>date</th>\n      <th></th>\n      <th></th>\n      <th></th>\n      <th></th>\n      <th></th>\n      <th></th>\n      <th></th>\n      <th></th>\n      <th></th>\n    </tr>\n  </thead>\n  <tbody>\n    <tr>\n      <th>2022-02-18</th>\n      <td>NaN</td>\n      <td>2463.0</td>\n      <td>1.528202</td>\n      <td>NaN</td>\n      <td>NaN</td>\n      <td>NaN</td>\n      <td>NaN</td>\n      <td>NaN</td>\n      <td>NaN</td>\n    </tr>\n    <tr>\n      <th>2022-02-19</th>\n      <td>NaN</td>\n      <td>17739.0</td>\n      <td>11.845500</td>\n      <td>80.729</td>\n      <td>123.000</td>\n      <td>86.000</td>\n      <td>NaN</td>\n      <td>NaN</td>\n      <td>NaN</td>\n    </tr>\n    <tr>\n      <th>2022-02-20</th>\n      <td>NaN</td>\n      <td>7519.0</td>\n      <td>0.506180</td>\n      <td>NaN</td>\n      <td>NaN</td>\n      <td>NaN</td>\n      <td>765.239990</td>\n      <td>5052.509766</td>\n      <td>6.619915</td>\n    </tr>\n    <tr>\n      <th>2022-02-21</th>\n      <td>NaN</td>\n      <td>1785.0</td>\n      <td>7.369900</td>\n      <td>NaN</td>\n      <td>NaN</td>\n      <td>NaN</td>\n      <td>NaN</td>\n      <td>NaN</td>\n      <td>NaN</td>\n    </tr>\n    <tr>\n      <th>2022-02-22</th>\n      <td>NaN</td>\n      <td>1474.0</td>\n      <td>0.899040</td>\n      <td>NaN</td>\n      <td>NaN</td>\n      <td>NaN</td>\n      <td>NaN</td>\n      <td>NaN</td>\n      <td>NaN</td>\n    </tr>\n    <tr>\n      <th>2022-02-23</th>\n      <td>NaN</td>\n      <td>12166.0</td>\n      <td>7.340040</td>\n      <td>NaN</td>\n      <td>NaN</td>\n      <td>NaN</td>\n      <td>NaN</td>\n      <td>NaN</td>\n      <td>NaN</td>\n    </tr>\n    <tr>\n      <th>2022-02-24</th>\n      <td>NaN</td>\n      <td>1761.0</td>\n      <td>1.078330</td>\n      <td>NaN</td>\n      <td>NaN</td>\n      <td>NaN</td>\n      <td>NaN</td>\n      <td>NaN</td>\n      <td>NaN</td>\n    </tr>\n    <tr>\n      <th>2022-02-25</th>\n      <td>NaN</td>\n      <td>1431.0</td>\n      <td>0.881310</td>\n      <td>NaN</td>\n      <td>NaN</td>\n      <td>NaN</td>\n      <td>NaN</td>\n      <td>NaN</td>\n      <td>NaN</td>\n    </tr>\n    <tr>\n      <th>2022-02-26</th>\n      <td>NaN</td>\n      <td>8302.0</td>\n      <td>1.346520</td>\n      <td>NaN</td>\n      <td>NaN</td>\n      <td>NaN</td>\n      <td>535.650024</td>\n      <td>5011.709961</td>\n      <td>6.326011</td>\n    </tr>\n    <tr>\n      <th>2022-02-27</th>\n      <td>NaN</td>\n      <td>3114.0</td>\n      <td>7.815314</td>\n      <td>NaN</td>\n      <td>NaN</td>\n      <td>NaN</td>\n      <td>NaN</td>\n      <td>NaN</td>\n      <td>NaN</td>\n    </tr>\n    <tr>\n      <th>2022-02-28</th>\n      <td>NaN</td>\n      <td>4666.0</td>\n      <td>2.863704</td>\n      <td>NaN</td>\n      <td>NaN</td>\n      <td>NaN</td>\n      <td>NaN</td>\n      <td>NaN</td>\n      <td>NaN</td>\n    </tr>\n    <tr>\n      <th>2022-03-01</th>\n      <td>NaN</td>\n      <td>6900.0</td>\n      <td>1.737960</td>\n      <td>NaN</td>\n      <td>NaN</td>\n      <td>NaN</td>\n      <td>NaN</td>\n      <td>4034.179932</td>\n      <td>6.166714</td>\n    </tr>\n    <tr>\n      <th>2022-03-02</th>\n      <td>NaN</td>\n      <td>3783.0</td>\n      <td>6.511755</td>\n      <td>NaN</td>\n      <td>NaN</td>\n      <td>NaN</td>\n      <td>NaN</td>\n      <td>NaN</td>\n      <td>NaN</td>\n    </tr>\n    <tr>\n      <th>2022-03-03</th>\n      <td>NaN</td>\n      <td>1564.0</td>\n      <td>0.980640</td>\n      <td>NaN</td>\n      <td>NaN</td>\n      <td>NaN</td>\n      <td>NaN</td>\n      <td>NaN</td>\n      <td>NaN</td>\n    </tr>\n    <tr>\n      <th>2022-03-04</th>\n      <td>NaN</td>\n      <td>3416.0</td>\n      <td>2.098721</td>\n      <td>NaN</td>\n      <td>NaN</td>\n      <td>NaN</td>\n      <td>NaN</td>\n      <td>NaN</td>\n      <td>NaN</td>\n    </tr>\n    <tr>\n      <th>2022-03-05</th>\n      <td>NaN</td>\n      <td>15267.0</td>\n      <td>3.480930</td>\n      <td>80.893</td>\n      <td>126.000</td>\n      <td>88.333</td>\n      <td>NaN</td>\n      <td>8008.640137</td>\n      <td>7.532433</td>\n    </tr>\n    <tr>\n      <th>2022-03-06</th>\n      <td>NaN</td>\n      <td>12965.0</td>\n      <td>17.403120</td>\n      <td>NaN</td>\n      <td>NaN</td>\n      <td>NaN</td>\n      <td>NaN</td>\n      <td>NaN</td>\n      <td>NaN</td>\n    </tr>\n    <tr>\n      <th>2022-03-07</th>\n      <td>NaN</td>\n      <td>6977.0</td>\n      <td>5.442696</td>\n      <td>NaN</td>\n      <td>122.333</td>\n      <td>85.000</td>\n      <td>NaN</td>\n      <td>NaN</td>\n      <td>NaN</td>\n    </tr>\n    <tr>\n      <th>2022-03-08</th>\n      <td>NaN</td>\n      <td>8445.0</td>\n      <td>6.142016</td>\n      <td>NaN</td>\n      <td>NaN</td>\n      <td>NaN</td>\n      <td>NaN</td>\n      <td>NaN</td>\n      <td>NaN</td>\n    </tr>\n    <tr>\n      <th>2022-03-09</th>\n      <td>NaN</td>\n      <td>5069.0</td>\n      <td>3.962949</td>\n      <td>NaN</td>\n      <td>NaN</td>\n      <td>NaN</td>\n      <td>NaN</td>\n      <td>NaN</td>\n      <td>NaN</td>\n    </tr>\n    <tr>\n      <th>2022-03-10</th>\n      <td>NaN</td>\n      <td>12382.0</td>\n      <td>5.469680</td>\n      <td>NaN</td>\n      <td>124.666</td>\n      <td>87.333</td>\n      <td>NaN</td>\n      <td>4029.179932</td>\n      <td>6.475259</td>\n    </tr>\n    <tr>\n      <th>2022-03-11</th>\n      <td>NaN</td>\n      <td>6257.0</td>\n      <td>9.622928</td>\n      <td>NaN</td>\n      <td>NaN</td>\n      <td>NaN</td>\n      <td>NaN</td>\n      <td>NaN</td>\n      <td>NaN</td>\n    </tr>\n    <tr>\n      <th>2022-03-12</th>\n      <td>NaN</td>\n      <td>17022.0</td>\n      <td>2.556800</td>\n      <td>81.151</td>\n      <td>NaN</td>\n      <td>NaN</td>\n      <td>1255.130005</td>\n      <td>10188.009766</td>\n      <td>6.696676</td>\n    </tr>\n    <tr>\n      <th>2022-03-13</th>\n      <td>NaN</td>\n      <td>15073.0</td>\n      <td>19.860205</td>\n      <td>NaN</td>\n      <td>NaN</td>\n      <td>NaN</td>\n      <td>3760.330078</td>\n      <td>NaN</td>\n      <td>NaN</td>\n    </tr>\n    <tr>\n      <th>2022-03-14</th>\n      <td>NaN</td>\n      <td>3865.0</td>\n      <td>6.169287</td>\n      <td>NaN</td>\n      <td>131.333</td>\n      <td>92.666</td>\n      <td>NaN</td>\n      <td>NaN</td>\n      <td>NaN</td>\n    </tr>\n    <tr>\n      <th>2022-03-15</th>\n      <td>NaN</td>\n      <td>7551.0</td>\n      <td>5.503720</td>\n      <td>NaN</td>\n      <td>NaN</td>\n      <td>NaN</td>\n      <td>NaN</td>\n      <td>NaN</td>\n      <td>NaN</td>\n    </tr>\n    <tr>\n      <th>2022-03-16</th>\n      <td>NaN</td>\n      <td>10007.0</td>\n      <td>7.798371</td>\n      <td>NaN</td>\n      <td>125.666</td>\n      <td>87.333</td>\n      <td>NaN</td>\n      <td>NaN</td>\n      <td>NaN</td>\n    </tr>\n    <tr>\n      <th>2022-03-17</th>\n      <td>NaN</td>\n      <td>6517.0</td>\n      <td>4.406523</td>\n      <td>NaN</td>\n      <td>NaN</td>\n      <td>NaN</td>\n      <td>NaN</td>\n      <td>NaN</td>\n      <td>NaN</td>\n    </tr>\n    <tr>\n      <th>2022-03-18</th>\n      <td>NaN</td>\n      <td>9734.0</td>\n      <td>7.332086</td>\n      <td>NaN</td>\n      <td>NaN</td>\n      <td>NaN</td>\n      <td>NaN</td>\n      <td>NaN</td>\n      <td>NaN</td>\n    </tr>\n    <tr>\n      <th>2022-03-19</th>\n      <td>NaN</td>\n      <td>15522.0</td>\n      <td>3.212799</td>\n      <td>79.617</td>\n      <td>NaN</td>\n      <td>NaN</td>\n      <td>1597.640015</td>\n      <td>7016.919922</td>\n      <td>6.953840</td>\n    </tr>\n    <tr>\n      <th>2022-03-20</th>\n      <td>NaN</td>\n      <td>9726.0</td>\n      <td>15.682210</td>\n      <td>NaN</td>\n      <td>NaN</td>\n      <td>NaN</td>\n      <td>NaN</td>\n      <td>NaN</td>\n      <td>NaN</td>\n    </tr>\n    <tr>\n      <th>2022-03-21</th>\n      <td>NaN</td>\n      <td>7153.0</td>\n      <td>5.694632</td>\n      <td>NaN</td>\n      <td>NaN</td>\n      <td>NaN</td>\n      <td>NaN</td>\n      <td>NaN</td>\n      <td>NaN</td>\n    </tr>\n    <tr>\n      <th>2022-03-22</th>\n      <td>NaN</td>\n      <td>12936.0</td>\n      <td>4.399569</td>\n      <td>NaN</td>\n      <td>NaN</td>\n      <td>NaN</td>\n      <td>NaN</td>\n      <td>6009.850098</td>\n      <td>7.321833</td>\n    </tr>\n    <tr>\n      <th>2022-03-23</th>\n      <td>NaN</td>\n      <td>6445.0</td>\n      <td>10.695232</td>\n      <td>NaN</td>\n      <td>118.333</td>\n      <td>82.000</td>\n      <td>NaN</td>\n      <td>NaN</td>\n      <td>NaN</td>\n    </tr>\n    <tr>\n      <th>2022-03-24</th>\n      <td>NaN</td>\n      <td>10538.0</td>\n      <td>6.832152</td>\n      <td>NaN</td>\n      <td>NaN</td>\n      <td>NaN</td>\n      <td>NaN</td>\n      <td>NaN</td>\n      <td>NaN</td>\n    </tr>\n    <tr>\n      <th>2022-03-25</th>\n      <td>NaN</td>\n      <td>8150.0</td>\n      <td>5.479471</td>\n      <td>NaN</td>\n      <td>124.666</td>\n      <td>81.666</td>\n      <td>NaN</td>\n      <td>NaN</td>\n      <td>NaN</td>\n    </tr>\n    <tr>\n      <th>2022-03-26</th>\n      <td>NaN</td>\n      <td>8668.0</td>\n      <td>5.744744</td>\n      <td>NaN</td>\n      <td>NaN</td>\n      <td>NaN</td>\n      <td>NaN</td>\n      <td>NaN</td>\n      <td>NaN</td>\n    </tr>\n    <tr>\n      <th>2022-03-27</th>\n      <td>NaN</td>\n      <td>14143.0</td>\n      <td>12.115723</td>\n      <td>NaN</td>\n      <td>NaN</td>\n      <td>NaN</td>\n      <td>NaN</td>\n      <td>8808.209961</td>\n      <td>6.381378</td>\n    </tr>\n    <tr>\n      <th>2022-03-28</th>\n      <td>NaN</td>\n      <td>6145.0</td>\n      <td>4.407582</td>\n      <td>NaN</td>\n      <td>126.333</td>\n      <td>83.000</td>\n      <td>NaN</td>\n      <td>NaN</td>\n      <td>NaN</td>\n    </tr>\n    <tr>\n      <th>2022-03-29</th>\n      <td>NaN</td>\n      <td>5862.0</td>\n      <td>4.204274</td>\n      <td>NaN</td>\n      <td>127.333</td>\n      <td>86.666</td>\n      <td>1019.520020</td>\n      <td>3889.139893</td>\n      <td>6.473471</td>\n    </tr>\n  </tbody>\n</table>\n</div>"
     },
     "execution_count": 75,
     "metadata": {},
     "output_type": "execute_result"
    }
   ],
   "source": [
    "# combining where date occurs twice\n",
    "relevant_columns = ('date', 'bodymass_kg_mean', 'stepcount_count_sum', 'distancewalkingrunning_km_sum', 'bodymass_kg', 'bloodpressuresystolic_mmHg', 'bloodpressurediastolic_mmHg', 'walking_distance_meters', 'running_distance_meters', 'avg_speed_running_trip')\n",
    "strategy = {_: 'first' for _ in relevant_columns}\n",
    "df = df.groupby(df.index).agg(strategy)\n",
    "df.sort_index()\n",
    "df.drop('date', axis=1, inplace=True)\n",
    "df.tail(40)"
   ],
   "metadata": {
    "collapsed": false,
    "pycharm": {
     "name": "#%%\n"
    }
   }
  },
  {
   "cell_type": "code",
   "execution_count": 76,
   "outputs": [
    {
     "data": {
      "text/plain": "            avg_speed_running_trip  number_of_runs\ndate                                              \n2015-11-30                6.203283               0\n2015-12-31                6.203283               0\n2016-01-31                6.203283               0\n2016-02-29                6.203283               0\n2016-03-31                6.203283               0\n...                            ...             ...\n2021-11-30                6.946182               3\n2021-12-31                6.690722               2\n2022-01-31                7.512827               2\n2022-02-28                6.619915               2\n2022-03-31                7.532433               8\n\n[77 rows x 2 columns]",
      "text/html": "<div>\n<style scoped>\n    .dataframe tbody tr th:only-of-type {\n        vertical-align: middle;\n    }\n\n    .dataframe tbody tr th {\n        vertical-align: top;\n    }\n\n    .dataframe thead th {\n        text-align: right;\n    }\n</style>\n<table border=\"1\" class=\"dataframe\">\n  <thead>\n    <tr style=\"text-align: right;\">\n      <th></th>\n      <th>avg_speed_running_trip</th>\n      <th>number_of_runs</th>\n    </tr>\n    <tr>\n      <th>date</th>\n      <th></th>\n      <th></th>\n    </tr>\n  </thead>\n  <tbody>\n    <tr>\n      <th>2015-11-30</th>\n      <td>6.203283</td>\n      <td>0</td>\n    </tr>\n    <tr>\n      <th>2015-12-31</th>\n      <td>6.203283</td>\n      <td>0</td>\n    </tr>\n    <tr>\n      <th>2016-01-31</th>\n      <td>6.203283</td>\n      <td>0</td>\n    </tr>\n    <tr>\n      <th>2016-02-29</th>\n      <td>6.203283</td>\n      <td>0</td>\n    </tr>\n    <tr>\n      <th>2016-03-31</th>\n      <td>6.203283</td>\n      <td>0</td>\n    </tr>\n    <tr>\n      <th>...</th>\n      <td>...</td>\n      <td>...</td>\n    </tr>\n    <tr>\n      <th>2021-11-30</th>\n      <td>6.946182</td>\n      <td>3</td>\n    </tr>\n    <tr>\n      <th>2021-12-31</th>\n      <td>6.690722</td>\n      <td>2</td>\n    </tr>\n    <tr>\n      <th>2022-01-31</th>\n      <td>7.512827</td>\n      <td>2</td>\n    </tr>\n    <tr>\n      <th>2022-02-28</th>\n      <td>6.619915</td>\n      <td>2</td>\n    </tr>\n    <tr>\n      <th>2022-03-31</th>\n      <td>7.532433</td>\n      <td>8</td>\n    </tr>\n  </tbody>\n</table>\n<p>77 rows × 2 columns</p>\n</div>"
     },
     "execution_count": 76,
     "metadata": {},
     "output_type": "execute_result"
    }
   ],
   "source": [
    "running_df = df.copy()\n",
    "running_df = running_df.resample('M').agg({'avg_speed_running_trip':'max', 'running_distance_meters':'count'})\n",
    "running_df.rename(columns={\"running_distance_meters\": \"number_of_runs\"}, inplace=True)\n",
    "running_df.astype(float)\n",
    "running_df['number_of_runs'].interpolate(method='linear', limit_direction='backward', axis=0, inplace=True)\n",
    "running_df = running_df.ffill().bfill()\n",
    "running_df"
   ],
   "metadata": {
    "collapsed": false,
    "pycharm": {
     "name": "#%%\n"
    }
   }
  },
  {
   "cell_type": "code",
   "execution_count": 77,
   "outputs": [
    {
     "data": {
      "application/vnd.plotly.v1+json": {
       "data": [
        {
         "name": "Number of runs",
         "x": [
          "2015-11-30T00:00:00",
          "2015-12-31T00:00:00",
          "2016-01-31T00:00:00",
          "2016-02-29T00:00:00",
          "2016-03-31T00:00:00",
          "2016-04-30T00:00:00",
          "2016-05-31T00:00:00",
          "2016-06-30T00:00:00",
          "2016-07-31T00:00:00",
          "2016-08-31T00:00:00",
          "2016-09-30T00:00:00",
          "2016-10-31T00:00:00",
          "2016-11-30T00:00:00",
          "2016-12-31T00:00:00",
          "2017-01-31T00:00:00",
          "2017-02-28T00:00:00",
          "2017-03-31T00:00:00",
          "2017-04-30T00:00:00",
          "2017-05-31T00:00:00",
          "2017-06-30T00:00:00",
          "2017-07-31T00:00:00",
          "2017-08-31T00:00:00",
          "2017-09-30T00:00:00",
          "2017-10-31T00:00:00",
          "2017-11-30T00:00:00",
          "2017-12-31T00:00:00",
          "2018-01-31T00:00:00",
          "2018-02-28T00:00:00",
          "2018-03-31T00:00:00",
          "2018-04-30T00:00:00",
          "2018-05-31T00:00:00",
          "2018-06-30T00:00:00",
          "2018-07-31T00:00:00",
          "2018-08-31T00:00:00",
          "2018-09-30T00:00:00",
          "2018-10-31T00:00:00",
          "2018-11-30T00:00:00",
          "2018-12-31T00:00:00",
          "2019-01-31T00:00:00",
          "2019-02-28T00:00:00",
          "2019-03-31T00:00:00",
          "2019-04-30T00:00:00",
          "2019-05-31T00:00:00",
          "2019-06-30T00:00:00",
          "2019-07-31T00:00:00",
          "2019-08-31T00:00:00",
          "2019-09-30T00:00:00",
          "2019-10-31T00:00:00",
          "2019-11-30T00:00:00",
          "2019-12-31T00:00:00",
          "2020-01-31T00:00:00",
          "2020-02-29T00:00:00",
          "2020-03-31T00:00:00",
          "2020-04-30T00:00:00",
          "2020-05-31T00:00:00",
          "2020-06-30T00:00:00",
          "2020-07-31T00:00:00",
          "2020-08-31T00:00:00",
          "2020-09-30T00:00:00",
          "2020-10-31T00:00:00",
          "2020-11-30T00:00:00",
          "2020-12-31T00:00:00",
          "2021-01-31T00:00:00",
          "2021-02-28T00:00:00",
          "2021-03-31T00:00:00",
          "2021-04-30T00:00:00",
          "2021-05-31T00:00:00",
          "2021-06-30T00:00:00",
          "2021-07-31T00:00:00",
          "2021-08-31T00:00:00",
          "2021-09-30T00:00:00",
          "2021-10-31T00:00:00",
          "2021-11-30T00:00:00",
          "2021-12-31T00:00:00",
          "2022-01-31T00:00:00",
          "2022-02-28T00:00:00",
          "2022-03-31T00:00:00"
         ],
         "y": [
          0,
          0,
          0,
          0,
          0,
          0,
          0,
          0,
          0,
          0,
          0,
          0,
          0,
          0,
          0,
          0,
          0,
          0,
          5,
          3,
          0,
          1,
          2,
          4,
          0,
          0,
          2,
          3,
          2,
          2,
          0,
          0,
          0,
          0,
          3,
          2,
          5,
          1,
          2,
          5,
          4,
          1,
          1,
          2,
          1,
          1,
          2,
          2,
          8,
          9,
          7,
          7,
          9,
          4,
          4,
          4,
          4,
          5,
          6,
          6,
          6,
          5,
          3,
          2,
          1,
          8,
          1,
          1,
          3,
          6,
          2,
          5,
          3,
          2,
          2,
          2,
          8
         ],
         "yaxis": "y",
         "type": "bar"
        },
        {
         "name": "Max minutes/Km",
         "x": [
          "2015-11-30T00:00:00",
          "2015-12-31T00:00:00",
          "2016-01-31T00:00:00",
          "2016-02-29T00:00:00",
          "2016-03-31T00:00:00",
          "2016-04-30T00:00:00",
          "2016-05-31T00:00:00",
          "2016-06-30T00:00:00",
          "2016-07-31T00:00:00",
          "2016-08-31T00:00:00",
          "2016-09-30T00:00:00",
          "2016-10-31T00:00:00",
          "2016-11-30T00:00:00",
          "2016-12-31T00:00:00",
          "2017-01-31T00:00:00",
          "2017-02-28T00:00:00",
          "2017-03-31T00:00:00",
          "2017-04-30T00:00:00",
          "2017-05-31T00:00:00",
          "2017-06-30T00:00:00",
          "2017-07-31T00:00:00",
          "2017-08-31T00:00:00",
          "2017-09-30T00:00:00",
          "2017-10-31T00:00:00",
          "2017-11-30T00:00:00",
          "2017-12-31T00:00:00",
          "2018-01-31T00:00:00",
          "2018-02-28T00:00:00",
          "2018-03-31T00:00:00",
          "2018-04-30T00:00:00",
          "2018-05-31T00:00:00",
          "2018-06-30T00:00:00",
          "2018-07-31T00:00:00",
          "2018-08-31T00:00:00",
          "2018-09-30T00:00:00",
          "2018-10-31T00:00:00",
          "2018-11-30T00:00:00",
          "2018-12-31T00:00:00",
          "2019-01-31T00:00:00",
          "2019-02-28T00:00:00",
          "2019-03-31T00:00:00",
          "2019-04-30T00:00:00",
          "2019-05-31T00:00:00",
          "2019-06-30T00:00:00",
          "2019-07-31T00:00:00",
          "2019-08-31T00:00:00",
          "2019-09-30T00:00:00",
          "2019-10-31T00:00:00",
          "2019-11-30T00:00:00",
          "2019-12-31T00:00:00",
          "2020-01-31T00:00:00",
          "2020-02-29T00:00:00",
          "2020-03-31T00:00:00",
          "2020-04-30T00:00:00",
          "2020-05-31T00:00:00",
          "2020-06-30T00:00:00",
          "2020-07-31T00:00:00",
          "2020-08-31T00:00:00",
          "2020-09-30T00:00:00",
          "2020-10-31T00:00:00",
          "2020-11-30T00:00:00",
          "2020-12-31T00:00:00",
          "2021-01-31T00:00:00",
          "2021-02-28T00:00:00",
          "2021-03-31T00:00:00",
          "2021-04-30T00:00:00",
          "2021-05-31T00:00:00",
          "2021-06-30T00:00:00",
          "2021-07-31T00:00:00",
          "2021-08-31T00:00:00",
          "2021-09-30T00:00:00",
          "2021-10-31T00:00:00",
          "2021-11-30T00:00:00",
          "2021-12-31T00:00:00",
          "2022-01-31T00:00:00",
          "2022-02-28T00:00:00",
          "2022-03-31T00:00:00"
         ],
         "y": [
          6.20328250674266,
          6.20328250674266,
          6.20328250674266,
          6.20328250674266,
          6.20328250674266,
          6.20328250674266,
          6.20328250674266,
          6.20328250674266,
          6.20328250674266,
          6.20328250674266,
          6.20328250674266,
          6.20328250674266,
          6.20328250674266,
          6.20328250674266,
          6.20328250674266,
          6.20328250674266,
          6.20328250674266,
          6.20328250674266,
          6.20328250674266,
          5.918908985688799,
          5.918908985688799,
          7.516386032549592,
          7.128480042875516,
          7.08337260914898,
          7.08337260914898,
          7.08337260914898,
          6.558000659593948,
          6.569866682831786,
          6.42938771848547,
          7.286179703562564,
          7.286179703562564,
          7.286179703562564,
          7.286179703562564,
          7.286179703562564,
          18.095022811221916,
          6.1832854328619336,
          6.702788818894251,
          5.97054417255804,
          7.235266157831976,
          6.867459727868819,
          6.831753133492751,
          5.267022809785013,
          6.2255293305477775,
          6.866989889278914,
          6.613119051346823,
          5.891738972036386,
          6.251788221324157,
          6.465243507145111,
          6.769429273300073,
          7.7218678576851,
          6.807144838882566,
          6.353492629457285,
          7.162438670180472,
          6.164614187835892,
          6.894851227076716,
          6.6413613146872335,
          7.25979040776555,
          7.8687857773055105,
          6.488373199451755,
          7.899823420729578,
          6.442845681659083,
          13.696589129828027,
          7.374989614500911,
          7.857363034387835,
          6.238232443541893,
          9.097162119288953,
          8.25001769557269,
          6.120504541681021,
          6.916015882312937,
          8.86503928598053,
          6.539384300186394,
          7.303827684211838,
          6.946182318997047,
          6.690721989532911,
          7.512826870566122,
          6.619914813891352,
          7.532433385695808
         ],
         "yaxis": "y2",
         "type": "scatter"
        }
       ],
       "layout": {
        "template": {
         "data": {
          "histogram2dcontour": [
           {
            "type": "histogram2dcontour",
            "colorbar": {
             "outlinewidth": 0,
             "ticks": ""
            },
            "colorscale": [
             [
              0.0,
              "#0d0887"
             ],
             [
              0.1111111111111111,
              "#46039f"
             ],
             [
              0.2222222222222222,
              "#7201a8"
             ],
             [
              0.3333333333333333,
              "#9c179e"
             ],
             [
              0.4444444444444444,
              "#bd3786"
             ],
             [
              0.5555555555555556,
              "#d8576b"
             ],
             [
              0.6666666666666666,
              "#ed7953"
             ],
             [
              0.7777777777777778,
              "#fb9f3a"
             ],
             [
              0.8888888888888888,
              "#fdca26"
             ],
             [
              1.0,
              "#f0f921"
             ]
            ]
           }
          ],
          "choropleth": [
           {
            "type": "choropleth",
            "colorbar": {
             "outlinewidth": 0,
             "ticks": ""
            }
           }
          ],
          "histogram2d": [
           {
            "type": "histogram2d",
            "colorbar": {
             "outlinewidth": 0,
             "ticks": ""
            },
            "colorscale": [
             [
              0.0,
              "#0d0887"
             ],
             [
              0.1111111111111111,
              "#46039f"
             ],
             [
              0.2222222222222222,
              "#7201a8"
             ],
             [
              0.3333333333333333,
              "#9c179e"
             ],
             [
              0.4444444444444444,
              "#bd3786"
             ],
             [
              0.5555555555555556,
              "#d8576b"
             ],
             [
              0.6666666666666666,
              "#ed7953"
             ],
             [
              0.7777777777777778,
              "#fb9f3a"
             ],
             [
              0.8888888888888888,
              "#fdca26"
             ],
             [
              1.0,
              "#f0f921"
             ]
            ]
           }
          ],
          "heatmap": [
           {
            "type": "heatmap",
            "colorbar": {
             "outlinewidth": 0,
             "ticks": ""
            },
            "colorscale": [
             [
              0.0,
              "#0d0887"
             ],
             [
              0.1111111111111111,
              "#46039f"
             ],
             [
              0.2222222222222222,
              "#7201a8"
             ],
             [
              0.3333333333333333,
              "#9c179e"
             ],
             [
              0.4444444444444444,
              "#bd3786"
             ],
             [
              0.5555555555555556,
              "#d8576b"
             ],
             [
              0.6666666666666666,
              "#ed7953"
             ],
             [
              0.7777777777777778,
              "#fb9f3a"
             ],
             [
              0.8888888888888888,
              "#fdca26"
             ],
             [
              1.0,
              "#f0f921"
             ]
            ]
           }
          ],
          "heatmapgl": [
           {
            "type": "heatmapgl",
            "colorbar": {
             "outlinewidth": 0,
             "ticks": ""
            },
            "colorscale": [
             [
              0.0,
              "#0d0887"
             ],
             [
              0.1111111111111111,
              "#46039f"
             ],
             [
              0.2222222222222222,
              "#7201a8"
             ],
             [
              0.3333333333333333,
              "#9c179e"
             ],
             [
              0.4444444444444444,
              "#bd3786"
             ],
             [
              0.5555555555555556,
              "#d8576b"
             ],
             [
              0.6666666666666666,
              "#ed7953"
             ],
             [
              0.7777777777777778,
              "#fb9f3a"
             ],
             [
              0.8888888888888888,
              "#fdca26"
             ],
             [
              1.0,
              "#f0f921"
             ]
            ]
           }
          ],
          "contourcarpet": [
           {
            "type": "contourcarpet",
            "colorbar": {
             "outlinewidth": 0,
             "ticks": ""
            }
           }
          ],
          "contour": [
           {
            "type": "contour",
            "colorbar": {
             "outlinewidth": 0,
             "ticks": ""
            },
            "colorscale": [
             [
              0.0,
              "#0d0887"
             ],
             [
              0.1111111111111111,
              "#46039f"
             ],
             [
              0.2222222222222222,
              "#7201a8"
             ],
             [
              0.3333333333333333,
              "#9c179e"
             ],
             [
              0.4444444444444444,
              "#bd3786"
             ],
             [
              0.5555555555555556,
              "#d8576b"
             ],
             [
              0.6666666666666666,
              "#ed7953"
             ],
             [
              0.7777777777777778,
              "#fb9f3a"
             ],
             [
              0.8888888888888888,
              "#fdca26"
             ],
             [
              1.0,
              "#f0f921"
             ]
            ]
           }
          ],
          "surface": [
           {
            "type": "surface",
            "colorbar": {
             "outlinewidth": 0,
             "ticks": ""
            },
            "colorscale": [
             [
              0.0,
              "#0d0887"
             ],
             [
              0.1111111111111111,
              "#46039f"
             ],
             [
              0.2222222222222222,
              "#7201a8"
             ],
             [
              0.3333333333333333,
              "#9c179e"
             ],
             [
              0.4444444444444444,
              "#bd3786"
             ],
             [
              0.5555555555555556,
              "#d8576b"
             ],
             [
              0.6666666666666666,
              "#ed7953"
             ],
             [
              0.7777777777777778,
              "#fb9f3a"
             ],
             [
              0.8888888888888888,
              "#fdca26"
             ],
             [
              1.0,
              "#f0f921"
             ]
            ]
           }
          ],
          "mesh3d": [
           {
            "type": "mesh3d",
            "colorbar": {
             "outlinewidth": 0,
             "ticks": ""
            }
           }
          ],
          "scatter": [
           {
            "marker": {
             "line": {
              "color": "#283442"
             }
            },
            "type": "scatter"
           }
          ],
          "parcoords": [
           {
            "type": "parcoords",
            "line": {
             "colorbar": {
              "outlinewidth": 0,
              "ticks": ""
             }
            }
           }
          ],
          "scatterpolargl": [
           {
            "type": "scatterpolargl",
            "marker": {
             "colorbar": {
              "outlinewidth": 0,
              "ticks": ""
             }
            }
           }
          ],
          "bar": [
           {
            "error_x": {
             "color": "#f2f5fa"
            },
            "error_y": {
             "color": "#f2f5fa"
            },
            "marker": {
             "line": {
              "color": "rgb(17,17,17)",
              "width": 0.5
             },
             "pattern": {
              "fillmode": "overlay",
              "size": 10,
              "solidity": 0.2
             }
            },
            "type": "bar"
           }
          ],
          "scattergeo": [
           {
            "type": "scattergeo",
            "marker": {
             "colorbar": {
              "outlinewidth": 0,
              "ticks": ""
             }
            }
           }
          ],
          "scatterpolar": [
           {
            "type": "scatterpolar",
            "marker": {
             "colorbar": {
              "outlinewidth": 0,
              "ticks": ""
             }
            }
           }
          ],
          "histogram": [
           {
            "marker": {
             "pattern": {
              "fillmode": "overlay",
              "size": 10,
              "solidity": 0.2
             }
            },
            "type": "histogram"
           }
          ],
          "scattergl": [
           {
            "marker": {
             "line": {
              "color": "#283442"
             }
            },
            "type": "scattergl"
           }
          ],
          "scatter3d": [
           {
            "type": "scatter3d",
            "line": {
             "colorbar": {
              "outlinewidth": 0,
              "ticks": ""
             }
            },
            "marker": {
             "colorbar": {
              "outlinewidth": 0,
              "ticks": ""
             }
            }
           }
          ],
          "scattermapbox": [
           {
            "type": "scattermapbox",
            "marker": {
             "colorbar": {
              "outlinewidth": 0,
              "ticks": ""
             }
            }
           }
          ],
          "scatterternary": [
           {
            "type": "scatterternary",
            "marker": {
             "colorbar": {
              "outlinewidth": 0,
              "ticks": ""
             }
            }
           }
          ],
          "scattercarpet": [
           {
            "type": "scattercarpet",
            "marker": {
             "colorbar": {
              "outlinewidth": 0,
              "ticks": ""
             }
            }
           }
          ],
          "carpet": [
           {
            "aaxis": {
             "endlinecolor": "#A2B1C6",
             "gridcolor": "#506784",
             "linecolor": "#506784",
             "minorgridcolor": "#506784",
             "startlinecolor": "#A2B1C6"
            },
            "baxis": {
             "endlinecolor": "#A2B1C6",
             "gridcolor": "#506784",
             "linecolor": "#506784",
             "minorgridcolor": "#506784",
             "startlinecolor": "#A2B1C6"
            },
            "type": "carpet"
           }
          ],
          "table": [
           {
            "cells": {
             "fill": {
              "color": "#506784"
             },
             "line": {
              "color": "rgb(17,17,17)"
             }
            },
            "header": {
             "fill": {
              "color": "#2a3f5f"
             },
             "line": {
              "color": "rgb(17,17,17)"
             }
            },
            "type": "table"
           }
          ],
          "barpolar": [
           {
            "marker": {
             "line": {
              "color": "rgb(17,17,17)",
              "width": 0.5
             },
             "pattern": {
              "fillmode": "overlay",
              "size": 10,
              "solidity": 0.2
             }
            },
            "type": "barpolar"
           }
          ],
          "pie": [
           {
            "automargin": true,
            "type": "pie"
           }
          ]
         },
         "layout": {
          "autotypenumbers": "strict",
          "colorway": [
           "#636efa",
           "#EF553B",
           "#00cc96",
           "#ab63fa",
           "#FFA15A",
           "#19d3f3",
           "#FF6692",
           "#B6E880",
           "#FF97FF",
           "#FECB52"
          ],
          "font": {
           "color": "#f2f5fa"
          },
          "hovermode": "closest",
          "hoverlabel": {
           "align": "left"
          },
          "paper_bgcolor": "rgb(17,17,17)",
          "plot_bgcolor": "rgb(17,17,17)",
          "polar": {
           "bgcolor": "rgb(17,17,17)",
           "angularaxis": {
            "gridcolor": "#506784",
            "linecolor": "#506784",
            "ticks": ""
           },
           "radialaxis": {
            "gridcolor": "#506784",
            "linecolor": "#506784",
            "ticks": ""
           }
          },
          "ternary": {
           "bgcolor": "rgb(17,17,17)",
           "aaxis": {
            "gridcolor": "#506784",
            "linecolor": "#506784",
            "ticks": ""
           },
           "baxis": {
            "gridcolor": "#506784",
            "linecolor": "#506784",
            "ticks": ""
           },
           "caxis": {
            "gridcolor": "#506784",
            "linecolor": "#506784",
            "ticks": ""
           }
          },
          "coloraxis": {
           "colorbar": {
            "outlinewidth": 0,
            "ticks": ""
           }
          },
          "colorscale": {
           "sequential": [
            [
             0.0,
             "#0d0887"
            ],
            [
             0.1111111111111111,
             "#46039f"
            ],
            [
             0.2222222222222222,
             "#7201a8"
            ],
            [
             0.3333333333333333,
             "#9c179e"
            ],
            [
             0.4444444444444444,
             "#bd3786"
            ],
            [
             0.5555555555555556,
             "#d8576b"
            ],
            [
             0.6666666666666666,
             "#ed7953"
            ],
            [
             0.7777777777777778,
             "#fb9f3a"
            ],
            [
             0.8888888888888888,
             "#fdca26"
            ],
            [
             1.0,
             "#f0f921"
            ]
           ],
           "sequentialminus": [
            [
             0.0,
             "#0d0887"
            ],
            [
             0.1111111111111111,
             "#46039f"
            ],
            [
             0.2222222222222222,
             "#7201a8"
            ],
            [
             0.3333333333333333,
             "#9c179e"
            ],
            [
             0.4444444444444444,
             "#bd3786"
            ],
            [
             0.5555555555555556,
             "#d8576b"
            ],
            [
             0.6666666666666666,
             "#ed7953"
            ],
            [
             0.7777777777777778,
             "#fb9f3a"
            ],
            [
             0.8888888888888888,
             "#fdca26"
            ],
            [
             1.0,
             "#f0f921"
            ]
           ],
           "diverging": [
            [
             0,
             "#8e0152"
            ],
            [
             0.1,
             "#c51b7d"
            ],
            [
             0.2,
             "#de77ae"
            ],
            [
             0.3,
             "#f1b6da"
            ],
            [
             0.4,
             "#fde0ef"
            ],
            [
             0.5,
             "#f7f7f7"
            ],
            [
             0.6,
             "#e6f5d0"
            ],
            [
             0.7,
             "#b8e186"
            ],
            [
             0.8,
             "#7fbc41"
            ],
            [
             0.9,
             "#4d9221"
            ],
            [
             1,
             "#276419"
            ]
           ]
          },
          "xaxis": {
           "gridcolor": "#283442",
           "linecolor": "#506784",
           "ticks": "",
           "title": {
            "standoff": 15
           },
           "zerolinecolor": "#283442",
           "automargin": true,
           "zerolinewidth": 2
          },
          "yaxis": {
           "gridcolor": "#283442",
           "linecolor": "#506784",
           "ticks": "",
           "title": {
            "standoff": 15
           },
           "zerolinecolor": "#283442",
           "automargin": true,
           "zerolinewidth": 2
          },
          "scene": {
           "xaxis": {
            "backgroundcolor": "rgb(17,17,17)",
            "gridcolor": "#506784",
            "linecolor": "#506784",
            "showbackground": true,
            "ticks": "",
            "zerolinecolor": "#C8D4E3",
            "gridwidth": 2
           },
           "yaxis": {
            "backgroundcolor": "rgb(17,17,17)",
            "gridcolor": "#506784",
            "linecolor": "#506784",
            "showbackground": true,
            "ticks": "",
            "zerolinecolor": "#C8D4E3",
            "gridwidth": 2
           },
           "zaxis": {
            "backgroundcolor": "rgb(17,17,17)",
            "gridcolor": "#506784",
            "linecolor": "#506784",
            "showbackground": true,
            "ticks": "",
            "zerolinecolor": "#C8D4E3",
            "gridwidth": 2
           }
          },
          "shapedefaults": {
           "line": {
            "color": "#f2f5fa"
           }
          },
          "annotationdefaults": {
           "arrowcolor": "#f2f5fa",
           "arrowhead": 0,
           "arrowwidth": 1
          },
          "geo": {
           "bgcolor": "rgb(17,17,17)",
           "landcolor": "rgb(17,17,17)",
           "subunitcolor": "#506784",
           "showland": true,
           "showlakes": true,
           "lakecolor": "rgb(17,17,17)"
          },
          "title": {
           "x": 0.05
          },
          "updatemenudefaults": {
           "bgcolor": "#506784",
           "borderwidth": 0
          },
          "sliderdefaults": {
           "bgcolor": "#C8D4E3",
           "borderwidth": 1,
           "bordercolor": "rgb(17,17,17)",
           "tickwidth": 0
          },
          "mapbox": {
           "style": "dark"
          }
         }
        },
        "xaxis": {
         "domain": [
          0.5,
          0.5
         ]
        },
        "yaxis": {
         "title": {
          "text": "Number of runs",
          "font": {
           "color": "#1f77b4"
          }
         },
         "tickfont": {
          "color": "#1f77b4"
         }
        },
        "yaxis2": {
         "title": {
          "text": "Average speed"
         },
         "overlaying": "y",
         "side": "right",
         "position": 1,
         "autorange": "reversed"
        },
        "title": {
         "text": "Count runs vs speed"
        },
        "width": 900,
        "legend": {
         "yanchor": "top",
         "y": 0.99,
         "xanchor": "left",
         "x": 0.01
        }
       },
       "config": {
        "plotlyServerURL": "https://plot.ly"
       }
      },
      "text/html": "<div>                            <div id=\"6d8454f8-9826-4e2e-964b-6b823cc06a36\" class=\"plotly-graph-div\" style=\"height:525px; width:900px;\"></div>            <script type=\"text/javascript\">                require([\"plotly\"], function(Plotly) {                    window.PLOTLYENV=window.PLOTLYENV || {};                                    if (document.getElementById(\"6d8454f8-9826-4e2e-964b-6b823cc06a36\")) {                    Plotly.newPlot(                        \"6d8454f8-9826-4e2e-964b-6b823cc06a36\",                        [{\"name\":\"Number of runs\",\"x\":[\"2015-11-30T00:00:00\",\"2015-12-31T00:00:00\",\"2016-01-31T00:00:00\",\"2016-02-29T00:00:00\",\"2016-03-31T00:00:00\",\"2016-04-30T00:00:00\",\"2016-05-31T00:00:00\",\"2016-06-30T00:00:00\",\"2016-07-31T00:00:00\",\"2016-08-31T00:00:00\",\"2016-09-30T00:00:00\",\"2016-10-31T00:00:00\",\"2016-11-30T00:00:00\",\"2016-12-31T00:00:00\",\"2017-01-31T00:00:00\",\"2017-02-28T00:00:00\",\"2017-03-31T00:00:00\",\"2017-04-30T00:00:00\",\"2017-05-31T00:00:00\",\"2017-06-30T00:00:00\",\"2017-07-31T00:00:00\",\"2017-08-31T00:00:00\",\"2017-09-30T00:00:00\",\"2017-10-31T00:00:00\",\"2017-11-30T00:00:00\",\"2017-12-31T00:00:00\",\"2018-01-31T00:00:00\",\"2018-02-28T00:00:00\",\"2018-03-31T00:00:00\",\"2018-04-30T00:00:00\",\"2018-05-31T00:00:00\",\"2018-06-30T00:00:00\",\"2018-07-31T00:00:00\",\"2018-08-31T00:00:00\",\"2018-09-30T00:00:00\",\"2018-10-31T00:00:00\",\"2018-11-30T00:00:00\",\"2018-12-31T00:00:00\",\"2019-01-31T00:00:00\",\"2019-02-28T00:00:00\",\"2019-03-31T00:00:00\",\"2019-04-30T00:00:00\",\"2019-05-31T00:00:00\",\"2019-06-30T00:00:00\",\"2019-07-31T00:00:00\",\"2019-08-31T00:00:00\",\"2019-09-30T00:00:00\",\"2019-10-31T00:00:00\",\"2019-11-30T00:00:00\",\"2019-12-31T00:00:00\",\"2020-01-31T00:00:00\",\"2020-02-29T00:00:00\",\"2020-03-31T00:00:00\",\"2020-04-30T00:00:00\",\"2020-05-31T00:00:00\",\"2020-06-30T00:00:00\",\"2020-07-31T00:00:00\",\"2020-08-31T00:00:00\",\"2020-09-30T00:00:00\",\"2020-10-31T00:00:00\",\"2020-11-30T00:00:00\",\"2020-12-31T00:00:00\",\"2021-01-31T00:00:00\",\"2021-02-28T00:00:00\",\"2021-03-31T00:00:00\",\"2021-04-30T00:00:00\",\"2021-05-31T00:00:00\",\"2021-06-30T00:00:00\",\"2021-07-31T00:00:00\",\"2021-08-31T00:00:00\",\"2021-09-30T00:00:00\",\"2021-10-31T00:00:00\",\"2021-11-30T00:00:00\",\"2021-12-31T00:00:00\",\"2022-01-31T00:00:00\",\"2022-02-28T00:00:00\",\"2022-03-31T00:00:00\"],\"y\":[0,0,0,0,0,0,0,0,0,0,0,0,0,0,0,0,0,0,5,3,0,1,2,4,0,0,2,3,2,2,0,0,0,0,3,2,5,1,2,5,4,1,1,2,1,1,2,2,8,9,7,7,9,4,4,4,4,5,6,6,6,5,3,2,1,8,1,1,3,6,2,5,3,2,2,2,8],\"yaxis\":\"y\",\"type\":\"bar\"},{\"name\":\"Max minutes/Km\",\"x\":[\"2015-11-30T00:00:00\",\"2015-12-31T00:00:00\",\"2016-01-31T00:00:00\",\"2016-02-29T00:00:00\",\"2016-03-31T00:00:00\",\"2016-04-30T00:00:00\",\"2016-05-31T00:00:00\",\"2016-06-30T00:00:00\",\"2016-07-31T00:00:00\",\"2016-08-31T00:00:00\",\"2016-09-30T00:00:00\",\"2016-10-31T00:00:00\",\"2016-11-30T00:00:00\",\"2016-12-31T00:00:00\",\"2017-01-31T00:00:00\",\"2017-02-28T00:00:00\",\"2017-03-31T00:00:00\",\"2017-04-30T00:00:00\",\"2017-05-31T00:00:00\",\"2017-06-30T00:00:00\",\"2017-07-31T00:00:00\",\"2017-08-31T00:00:00\",\"2017-09-30T00:00:00\",\"2017-10-31T00:00:00\",\"2017-11-30T00:00:00\",\"2017-12-31T00:00:00\",\"2018-01-31T00:00:00\",\"2018-02-28T00:00:00\",\"2018-03-31T00:00:00\",\"2018-04-30T00:00:00\",\"2018-05-31T00:00:00\",\"2018-06-30T00:00:00\",\"2018-07-31T00:00:00\",\"2018-08-31T00:00:00\",\"2018-09-30T00:00:00\",\"2018-10-31T00:00:00\",\"2018-11-30T00:00:00\",\"2018-12-31T00:00:00\",\"2019-01-31T00:00:00\",\"2019-02-28T00:00:00\",\"2019-03-31T00:00:00\",\"2019-04-30T00:00:00\",\"2019-05-31T00:00:00\",\"2019-06-30T00:00:00\",\"2019-07-31T00:00:00\",\"2019-08-31T00:00:00\",\"2019-09-30T00:00:00\",\"2019-10-31T00:00:00\",\"2019-11-30T00:00:00\",\"2019-12-31T00:00:00\",\"2020-01-31T00:00:00\",\"2020-02-29T00:00:00\",\"2020-03-31T00:00:00\",\"2020-04-30T00:00:00\",\"2020-05-31T00:00:00\",\"2020-06-30T00:00:00\",\"2020-07-31T00:00:00\",\"2020-08-31T00:00:00\",\"2020-09-30T00:00:00\",\"2020-10-31T00:00:00\",\"2020-11-30T00:00:00\",\"2020-12-31T00:00:00\",\"2021-01-31T00:00:00\",\"2021-02-28T00:00:00\",\"2021-03-31T00:00:00\",\"2021-04-30T00:00:00\",\"2021-05-31T00:00:00\",\"2021-06-30T00:00:00\",\"2021-07-31T00:00:00\",\"2021-08-31T00:00:00\",\"2021-09-30T00:00:00\",\"2021-10-31T00:00:00\",\"2021-11-30T00:00:00\",\"2021-12-31T00:00:00\",\"2022-01-31T00:00:00\",\"2022-02-28T00:00:00\",\"2022-03-31T00:00:00\"],\"y\":[6.20328250674266,6.20328250674266,6.20328250674266,6.20328250674266,6.20328250674266,6.20328250674266,6.20328250674266,6.20328250674266,6.20328250674266,6.20328250674266,6.20328250674266,6.20328250674266,6.20328250674266,6.20328250674266,6.20328250674266,6.20328250674266,6.20328250674266,6.20328250674266,6.20328250674266,5.918908985688799,5.918908985688799,7.516386032549592,7.128480042875516,7.08337260914898,7.08337260914898,7.08337260914898,6.558000659593948,6.569866682831786,6.42938771848547,7.286179703562564,7.286179703562564,7.286179703562564,7.286179703562564,7.286179703562564,18.095022811221916,6.1832854328619336,6.702788818894251,5.97054417255804,7.235266157831976,6.867459727868819,6.831753133492751,5.267022809785013,6.2255293305477775,6.866989889278914,6.613119051346823,5.891738972036386,6.251788221324157,6.465243507145111,6.769429273300073,7.7218678576851,6.807144838882566,6.353492629457285,7.162438670180472,6.164614187835892,6.894851227076716,6.6413613146872335,7.25979040776555,7.8687857773055105,6.488373199451755,7.899823420729578,6.442845681659083,13.696589129828027,7.374989614500911,7.857363034387835,6.238232443541893,9.097162119288953,8.25001769557269,6.120504541681021,6.916015882312937,8.86503928598053,6.539384300186394,7.303827684211838,6.946182318997047,6.690721989532911,7.512826870566122,6.619914813891352,7.532433385695808],\"yaxis\":\"y2\",\"type\":\"scatter\"}],                        {\"template\":{\"data\":{\"histogram2dcontour\":[{\"type\":\"histogram2dcontour\",\"colorbar\":{\"outlinewidth\":0,\"ticks\":\"\"},\"colorscale\":[[0.0,\"#0d0887\"],[0.1111111111111111,\"#46039f\"],[0.2222222222222222,\"#7201a8\"],[0.3333333333333333,\"#9c179e\"],[0.4444444444444444,\"#bd3786\"],[0.5555555555555556,\"#d8576b\"],[0.6666666666666666,\"#ed7953\"],[0.7777777777777778,\"#fb9f3a\"],[0.8888888888888888,\"#fdca26\"],[1.0,\"#f0f921\"]]}],\"choropleth\":[{\"type\":\"choropleth\",\"colorbar\":{\"outlinewidth\":0,\"ticks\":\"\"}}],\"histogram2d\":[{\"type\":\"histogram2d\",\"colorbar\":{\"outlinewidth\":0,\"ticks\":\"\"},\"colorscale\":[[0.0,\"#0d0887\"],[0.1111111111111111,\"#46039f\"],[0.2222222222222222,\"#7201a8\"],[0.3333333333333333,\"#9c179e\"],[0.4444444444444444,\"#bd3786\"],[0.5555555555555556,\"#d8576b\"],[0.6666666666666666,\"#ed7953\"],[0.7777777777777778,\"#fb9f3a\"],[0.8888888888888888,\"#fdca26\"],[1.0,\"#f0f921\"]]}],\"heatmap\":[{\"type\":\"heatmap\",\"colorbar\":{\"outlinewidth\":0,\"ticks\":\"\"},\"colorscale\":[[0.0,\"#0d0887\"],[0.1111111111111111,\"#46039f\"],[0.2222222222222222,\"#7201a8\"],[0.3333333333333333,\"#9c179e\"],[0.4444444444444444,\"#bd3786\"],[0.5555555555555556,\"#d8576b\"],[0.6666666666666666,\"#ed7953\"],[0.7777777777777778,\"#fb9f3a\"],[0.8888888888888888,\"#fdca26\"],[1.0,\"#f0f921\"]]}],\"heatmapgl\":[{\"type\":\"heatmapgl\",\"colorbar\":{\"outlinewidth\":0,\"ticks\":\"\"},\"colorscale\":[[0.0,\"#0d0887\"],[0.1111111111111111,\"#46039f\"],[0.2222222222222222,\"#7201a8\"],[0.3333333333333333,\"#9c179e\"],[0.4444444444444444,\"#bd3786\"],[0.5555555555555556,\"#d8576b\"],[0.6666666666666666,\"#ed7953\"],[0.7777777777777778,\"#fb9f3a\"],[0.8888888888888888,\"#fdca26\"],[1.0,\"#f0f921\"]]}],\"contourcarpet\":[{\"type\":\"contourcarpet\",\"colorbar\":{\"outlinewidth\":0,\"ticks\":\"\"}}],\"contour\":[{\"type\":\"contour\",\"colorbar\":{\"outlinewidth\":0,\"ticks\":\"\"},\"colorscale\":[[0.0,\"#0d0887\"],[0.1111111111111111,\"#46039f\"],[0.2222222222222222,\"#7201a8\"],[0.3333333333333333,\"#9c179e\"],[0.4444444444444444,\"#bd3786\"],[0.5555555555555556,\"#d8576b\"],[0.6666666666666666,\"#ed7953\"],[0.7777777777777778,\"#fb9f3a\"],[0.8888888888888888,\"#fdca26\"],[1.0,\"#f0f921\"]]}],\"surface\":[{\"type\":\"surface\",\"colorbar\":{\"outlinewidth\":0,\"ticks\":\"\"},\"colorscale\":[[0.0,\"#0d0887\"],[0.1111111111111111,\"#46039f\"],[0.2222222222222222,\"#7201a8\"],[0.3333333333333333,\"#9c179e\"],[0.4444444444444444,\"#bd3786\"],[0.5555555555555556,\"#d8576b\"],[0.6666666666666666,\"#ed7953\"],[0.7777777777777778,\"#fb9f3a\"],[0.8888888888888888,\"#fdca26\"],[1.0,\"#f0f921\"]]}],\"mesh3d\":[{\"type\":\"mesh3d\",\"colorbar\":{\"outlinewidth\":0,\"ticks\":\"\"}}],\"scatter\":[{\"marker\":{\"line\":{\"color\":\"#283442\"}},\"type\":\"scatter\"}],\"parcoords\":[{\"type\":\"parcoords\",\"line\":{\"colorbar\":{\"outlinewidth\":0,\"ticks\":\"\"}}}],\"scatterpolargl\":[{\"type\":\"scatterpolargl\",\"marker\":{\"colorbar\":{\"outlinewidth\":0,\"ticks\":\"\"}}}],\"bar\":[{\"error_x\":{\"color\":\"#f2f5fa\"},\"error_y\":{\"color\":\"#f2f5fa\"},\"marker\":{\"line\":{\"color\":\"rgb(17,17,17)\",\"width\":0.5},\"pattern\":{\"fillmode\":\"overlay\",\"size\":10,\"solidity\":0.2}},\"type\":\"bar\"}],\"scattergeo\":[{\"type\":\"scattergeo\",\"marker\":{\"colorbar\":{\"outlinewidth\":0,\"ticks\":\"\"}}}],\"scatterpolar\":[{\"type\":\"scatterpolar\",\"marker\":{\"colorbar\":{\"outlinewidth\":0,\"ticks\":\"\"}}}],\"histogram\":[{\"marker\":{\"pattern\":{\"fillmode\":\"overlay\",\"size\":10,\"solidity\":0.2}},\"type\":\"histogram\"}],\"scattergl\":[{\"marker\":{\"line\":{\"color\":\"#283442\"}},\"type\":\"scattergl\"}],\"scatter3d\":[{\"type\":\"scatter3d\",\"line\":{\"colorbar\":{\"outlinewidth\":0,\"ticks\":\"\"}},\"marker\":{\"colorbar\":{\"outlinewidth\":0,\"ticks\":\"\"}}}],\"scattermapbox\":[{\"type\":\"scattermapbox\",\"marker\":{\"colorbar\":{\"outlinewidth\":0,\"ticks\":\"\"}}}],\"scatterternary\":[{\"type\":\"scatterternary\",\"marker\":{\"colorbar\":{\"outlinewidth\":0,\"ticks\":\"\"}}}],\"scattercarpet\":[{\"type\":\"scattercarpet\",\"marker\":{\"colorbar\":{\"outlinewidth\":0,\"ticks\":\"\"}}}],\"carpet\":[{\"aaxis\":{\"endlinecolor\":\"#A2B1C6\",\"gridcolor\":\"#506784\",\"linecolor\":\"#506784\",\"minorgridcolor\":\"#506784\",\"startlinecolor\":\"#A2B1C6\"},\"baxis\":{\"endlinecolor\":\"#A2B1C6\",\"gridcolor\":\"#506784\",\"linecolor\":\"#506784\",\"minorgridcolor\":\"#506784\",\"startlinecolor\":\"#A2B1C6\"},\"type\":\"carpet\"}],\"table\":[{\"cells\":{\"fill\":{\"color\":\"#506784\"},\"line\":{\"color\":\"rgb(17,17,17)\"}},\"header\":{\"fill\":{\"color\":\"#2a3f5f\"},\"line\":{\"color\":\"rgb(17,17,17)\"}},\"type\":\"table\"}],\"barpolar\":[{\"marker\":{\"line\":{\"color\":\"rgb(17,17,17)\",\"width\":0.5},\"pattern\":{\"fillmode\":\"overlay\",\"size\":10,\"solidity\":0.2}},\"type\":\"barpolar\"}],\"pie\":[{\"automargin\":true,\"type\":\"pie\"}]},\"layout\":{\"autotypenumbers\":\"strict\",\"colorway\":[\"#636efa\",\"#EF553B\",\"#00cc96\",\"#ab63fa\",\"#FFA15A\",\"#19d3f3\",\"#FF6692\",\"#B6E880\",\"#FF97FF\",\"#FECB52\"],\"font\":{\"color\":\"#f2f5fa\"},\"hovermode\":\"closest\",\"hoverlabel\":{\"align\":\"left\"},\"paper_bgcolor\":\"rgb(17,17,17)\",\"plot_bgcolor\":\"rgb(17,17,17)\",\"polar\":{\"bgcolor\":\"rgb(17,17,17)\",\"angularaxis\":{\"gridcolor\":\"#506784\",\"linecolor\":\"#506784\",\"ticks\":\"\"},\"radialaxis\":{\"gridcolor\":\"#506784\",\"linecolor\":\"#506784\",\"ticks\":\"\"}},\"ternary\":{\"bgcolor\":\"rgb(17,17,17)\",\"aaxis\":{\"gridcolor\":\"#506784\",\"linecolor\":\"#506784\",\"ticks\":\"\"},\"baxis\":{\"gridcolor\":\"#506784\",\"linecolor\":\"#506784\",\"ticks\":\"\"},\"caxis\":{\"gridcolor\":\"#506784\",\"linecolor\":\"#506784\",\"ticks\":\"\"}},\"coloraxis\":{\"colorbar\":{\"outlinewidth\":0,\"ticks\":\"\"}},\"colorscale\":{\"sequential\":[[0.0,\"#0d0887\"],[0.1111111111111111,\"#46039f\"],[0.2222222222222222,\"#7201a8\"],[0.3333333333333333,\"#9c179e\"],[0.4444444444444444,\"#bd3786\"],[0.5555555555555556,\"#d8576b\"],[0.6666666666666666,\"#ed7953\"],[0.7777777777777778,\"#fb9f3a\"],[0.8888888888888888,\"#fdca26\"],[1.0,\"#f0f921\"]],\"sequentialminus\":[[0.0,\"#0d0887\"],[0.1111111111111111,\"#46039f\"],[0.2222222222222222,\"#7201a8\"],[0.3333333333333333,\"#9c179e\"],[0.4444444444444444,\"#bd3786\"],[0.5555555555555556,\"#d8576b\"],[0.6666666666666666,\"#ed7953\"],[0.7777777777777778,\"#fb9f3a\"],[0.8888888888888888,\"#fdca26\"],[1.0,\"#f0f921\"]],\"diverging\":[[0,\"#8e0152\"],[0.1,\"#c51b7d\"],[0.2,\"#de77ae\"],[0.3,\"#f1b6da\"],[0.4,\"#fde0ef\"],[0.5,\"#f7f7f7\"],[0.6,\"#e6f5d0\"],[0.7,\"#b8e186\"],[0.8,\"#7fbc41\"],[0.9,\"#4d9221\"],[1,\"#276419\"]]},\"xaxis\":{\"gridcolor\":\"#283442\",\"linecolor\":\"#506784\",\"ticks\":\"\",\"title\":{\"standoff\":15},\"zerolinecolor\":\"#283442\",\"automargin\":true,\"zerolinewidth\":2},\"yaxis\":{\"gridcolor\":\"#283442\",\"linecolor\":\"#506784\",\"ticks\":\"\",\"title\":{\"standoff\":15},\"zerolinecolor\":\"#283442\",\"automargin\":true,\"zerolinewidth\":2},\"scene\":{\"xaxis\":{\"backgroundcolor\":\"rgb(17,17,17)\",\"gridcolor\":\"#506784\",\"linecolor\":\"#506784\",\"showbackground\":true,\"ticks\":\"\",\"zerolinecolor\":\"#C8D4E3\",\"gridwidth\":2},\"yaxis\":{\"backgroundcolor\":\"rgb(17,17,17)\",\"gridcolor\":\"#506784\",\"linecolor\":\"#506784\",\"showbackground\":true,\"ticks\":\"\",\"zerolinecolor\":\"#C8D4E3\",\"gridwidth\":2},\"zaxis\":{\"backgroundcolor\":\"rgb(17,17,17)\",\"gridcolor\":\"#506784\",\"linecolor\":\"#506784\",\"showbackground\":true,\"ticks\":\"\",\"zerolinecolor\":\"#C8D4E3\",\"gridwidth\":2}},\"shapedefaults\":{\"line\":{\"color\":\"#f2f5fa\"}},\"annotationdefaults\":{\"arrowcolor\":\"#f2f5fa\",\"arrowhead\":0,\"arrowwidth\":1},\"geo\":{\"bgcolor\":\"rgb(17,17,17)\",\"landcolor\":\"rgb(17,17,17)\",\"subunitcolor\":\"#506784\",\"showland\":true,\"showlakes\":true,\"lakecolor\":\"rgb(17,17,17)\"},\"title\":{\"x\":0.05},\"updatemenudefaults\":{\"bgcolor\":\"#506784\",\"borderwidth\":0},\"sliderdefaults\":{\"bgcolor\":\"#C8D4E3\",\"borderwidth\":1,\"bordercolor\":\"rgb(17,17,17)\",\"tickwidth\":0},\"mapbox\":{\"style\":\"dark\"}}},\"xaxis\":{\"domain\":[0.5,0.5]},\"yaxis\":{\"title\":{\"text\":\"Number of runs\",\"font\":{\"color\":\"#1f77b4\"}},\"tickfont\":{\"color\":\"#1f77b4\"}},\"yaxis2\":{\"title\":{\"text\":\"Average speed\"},\"overlaying\":\"y\",\"side\":\"right\",\"position\":1,\"autorange\":\"reversed\"},\"title\":{\"text\":\"Count runs vs speed\"},\"width\":900,\"legend\":{\"yanchor\":\"top\",\"y\":0.99,\"xanchor\":\"left\",\"x\":0.01}},                        {\"responsive\": true}                    ).then(function(){\n                            \nvar gd = document.getElementById('6d8454f8-9826-4e2e-964b-6b823cc06a36');\nvar x = new MutationObserver(function (mutations, observer) {{\n        var display = window.getComputedStyle(gd).display;\n        if (!display || display === 'none') {{\n            console.log([gd, 'removed!']);\n            Plotly.purge(gd);\n            observer.disconnect();\n        }}\n}});\n\n// Listen for the removal of the full notebook cells\nvar notebookContainer = gd.closest('#notebook-container');\nif (notebookContainer) {{\n    x.observe(notebookContainer, {childList: true});\n}}\n\n// Listen for the clearing of the current output cell\nvar outputEl = gd.closest('.output');\nif (outputEl) {{\n    x.observe(outputEl, {childList: true});\n}}\n\n                        })                };                });            </script>        </div>"
     },
     "metadata": {},
     "output_type": "display_data"
    }
   ],
   "source": [
    "import plotly.graph_objects as go\n",
    "\n",
    "fig = go.Figure()\n",
    "\n",
    "fig.add_trace(go.Bar(x=running_df.index, y=running_df.number_of_runs, name=\"Number of runs\", yaxis='y'))\n",
    "fig.add_trace(go.Scatter(x=running_df.index, y=running_df.avg_speed_running_trip, name=\"Max minutes/Km\", yaxis=\"y2\"))\n",
    "\n",
    "# Create axis objects\n",
    "fig.update_layout(xaxis=dict(domain=[0.5, 0.5]),\n",
    "\tyaxis=dict(\n",
    "\t\ttitle=\"Number of runs\",\n",
    "\t\ttitlefont=dict(color=\"#1f77b4\"),\n",
    "\t\ttickfont=dict(color=\"#1f77b4\")),\n",
    "\tyaxis2=dict(title=\"Average speed\", overlaying=\"y\", side=\"right\", position=1, autorange=\"reversed\"))\n",
    "\n",
    "fig.update_layout(title_text=\"Monthly run counts and max pace\", width=900)\n",
    "fig.update_layout(legend=dict(yanchor=\"top\", y=0.99, xanchor=\"left\", x=0.01), legend_title_text=None)\n",
    "\n",
    "fig.show()"
   ],
   "metadata": {
    "collapsed": false,
    "pycharm": {
     "name": "#%%\n"
    }
   }
  },
  {
   "cell_type": "code",
   "execution_count": 78,
   "outputs": [
    {
     "data": {
      "text/plain": "            bodymass_kg_mean  stepcount_count_sum  \\\ndate                                                \n2015-11-30               NaN               1405.0   \n2015-12-01               NaN                334.0   \n2015-12-02               NaN               2738.0   \n2015-12-03               NaN               6074.0   \n2015-12-04               NaN               6211.0   \n...                      ...                  ...   \n2022-03-25               NaN               8150.0   \n2022-03-26               NaN               8668.0   \n2022-03-27               NaN              14143.0   \n2022-03-28               NaN               6145.0   \n2022-03-29               NaN               5862.0   \n\n            distancewalkingrunning_km_sum  bodymass_kg  \\\ndate                                                     \n2015-11-30                       0.934910          NaN   \n2015-12-01                       0.317780          NaN   \n2015-12-02                       1.799660          NaN   \n2015-12-03                       4.055108          NaN   \n2015-12-04                       4.099860          NaN   \n...                                   ...          ...   \n2022-03-25                       5.479471          NaN   \n2022-03-26                       5.744744          NaN   \n2022-03-27                      12.115723          NaN   \n2022-03-28                       4.407582          NaN   \n2022-03-29                       4.204274          NaN   \n\n            bloodpressuresystolic_mmHg  bloodpressurediastolic_mmHg  \\\ndate                                                                  \n2015-11-30                         NaN                          NaN   \n2015-12-01                         NaN                          NaN   \n2015-12-02                         NaN                          NaN   \n2015-12-03                         NaN                          NaN   \n2015-12-04                         NaN                          NaN   \n...                                ...                          ...   \n2022-03-25                     124.666                       81.666   \n2022-03-26                         NaN                          NaN   \n2022-03-27                         NaN                          NaN   \n2022-03-28                     126.333                       83.000   \n2022-03-29                     127.333                       86.666   \n\n            walking_distance_meters  running_distance_meters  \\\ndate                                                           \n2015-11-30                      NaN                      NaN   \n2015-12-01                      NaN                      NaN   \n2015-12-02                      NaN                      NaN   \n2015-12-03                      NaN                      NaN   \n2015-12-04                      NaN                      NaN   \n...                             ...                      ...   \n2022-03-25                      NaN                      NaN   \n2022-03-26                      NaN                      NaN   \n2022-03-27                      NaN              8808.209961   \n2022-03-28                      NaN                      NaN   \n2022-03-29               1019.52002              3889.139893   \n\n            avg_speed_running_trip  running_distance_garmin  \\\ndate                                                          \n2015-11-30                     NaN                  0.00000   \n2015-12-01                     NaN                  0.00000   \n2015-12-02                     NaN                  0.00000   \n2015-12-03                     NaN                  0.00000   \n2015-12-04                     NaN                  0.00000   \n...                            ...                      ...   \n2022-03-25                     NaN                  0.00000   \n2022-03-26                     NaN                  0.00000   \n2022-03-27                6.381378                  8.80821   \n2022-03-28                     NaN                  0.00000   \n2022-03-29                6.473471                  3.88914   \n\n            walking_distance_garmin  walking_running_distance_applehealth  \\\ndate                                                                        \n2015-11-30                  0.00000                              0.934910   \n2015-12-01                  0.00000                              0.317780   \n2015-12-02                  0.00000                              1.799660   \n2015-12-03                  0.00000                              4.055108   \n2015-12-04                  0.00000                              4.099860   \n...                             ...                                   ...   \n2022-03-25                  0.00000                              5.479471   \n2022-03-26                  0.00000                              5.744744   \n2022-03-27                  0.00000                             12.115723   \n2022-03-28                  0.00000                              4.407582   \n2022-03-29                  1.01952                              4.204274   \n\n            walking_km  running_km  \ndate                                \n2015-11-30    0.934910     0.00000  \n2015-12-01    0.317780     0.00000  \n2015-12-02    1.799660     0.00000  \n2015-12-03    4.055108     0.00000  \n2015-12-04    4.099860     0.00000  \n...                ...         ...  \n2022-03-25    5.479471     0.00000  \n2022-03-26    5.744744     0.00000  \n2022-03-27    3.307514     8.80821  \n2022-03-28    4.407582     0.00000  \n2022-03-29    4.204274     3.88914  \n\n[2272 rows x 14 columns]",
      "text/html": "<div>\n<style scoped>\n    .dataframe tbody tr th:only-of-type {\n        vertical-align: middle;\n    }\n\n    .dataframe tbody tr th {\n        vertical-align: top;\n    }\n\n    .dataframe thead th {\n        text-align: right;\n    }\n</style>\n<table border=\"1\" class=\"dataframe\">\n  <thead>\n    <tr style=\"text-align: right;\">\n      <th></th>\n      <th>bodymass_kg_mean</th>\n      <th>stepcount_count_sum</th>\n      <th>distancewalkingrunning_km_sum</th>\n      <th>bodymass_kg</th>\n      <th>bloodpressuresystolic_mmHg</th>\n      <th>bloodpressurediastolic_mmHg</th>\n      <th>walking_distance_meters</th>\n      <th>running_distance_meters</th>\n      <th>avg_speed_running_trip</th>\n      <th>running_distance_garmin</th>\n      <th>walking_distance_garmin</th>\n      <th>walking_running_distance_applehealth</th>\n      <th>walking_km</th>\n      <th>running_km</th>\n    </tr>\n    <tr>\n      <th>date</th>\n      <th></th>\n      <th></th>\n      <th></th>\n      <th></th>\n      <th></th>\n      <th></th>\n      <th></th>\n      <th></th>\n      <th></th>\n      <th></th>\n      <th></th>\n      <th></th>\n      <th></th>\n      <th></th>\n    </tr>\n  </thead>\n  <tbody>\n    <tr>\n      <th>2015-11-30</th>\n      <td>NaN</td>\n      <td>1405.0</td>\n      <td>0.934910</td>\n      <td>NaN</td>\n      <td>NaN</td>\n      <td>NaN</td>\n      <td>NaN</td>\n      <td>NaN</td>\n      <td>NaN</td>\n      <td>0.00000</td>\n      <td>0.00000</td>\n      <td>0.934910</td>\n      <td>0.934910</td>\n      <td>0.00000</td>\n    </tr>\n    <tr>\n      <th>2015-12-01</th>\n      <td>NaN</td>\n      <td>334.0</td>\n      <td>0.317780</td>\n      <td>NaN</td>\n      <td>NaN</td>\n      <td>NaN</td>\n      <td>NaN</td>\n      <td>NaN</td>\n      <td>NaN</td>\n      <td>0.00000</td>\n      <td>0.00000</td>\n      <td>0.317780</td>\n      <td>0.317780</td>\n      <td>0.00000</td>\n    </tr>\n    <tr>\n      <th>2015-12-02</th>\n      <td>NaN</td>\n      <td>2738.0</td>\n      <td>1.799660</td>\n      <td>NaN</td>\n      <td>NaN</td>\n      <td>NaN</td>\n      <td>NaN</td>\n      <td>NaN</td>\n      <td>NaN</td>\n      <td>0.00000</td>\n      <td>0.00000</td>\n      <td>1.799660</td>\n      <td>1.799660</td>\n      <td>0.00000</td>\n    </tr>\n    <tr>\n      <th>2015-12-03</th>\n      <td>NaN</td>\n      <td>6074.0</td>\n      <td>4.055108</td>\n      <td>NaN</td>\n      <td>NaN</td>\n      <td>NaN</td>\n      <td>NaN</td>\n      <td>NaN</td>\n      <td>NaN</td>\n      <td>0.00000</td>\n      <td>0.00000</td>\n      <td>4.055108</td>\n      <td>4.055108</td>\n      <td>0.00000</td>\n    </tr>\n    <tr>\n      <th>2015-12-04</th>\n      <td>NaN</td>\n      <td>6211.0</td>\n      <td>4.099860</td>\n      <td>NaN</td>\n      <td>NaN</td>\n      <td>NaN</td>\n      <td>NaN</td>\n      <td>NaN</td>\n      <td>NaN</td>\n      <td>0.00000</td>\n      <td>0.00000</td>\n      <td>4.099860</td>\n      <td>4.099860</td>\n      <td>0.00000</td>\n    </tr>\n    <tr>\n      <th>...</th>\n      <td>...</td>\n      <td>...</td>\n      <td>...</td>\n      <td>...</td>\n      <td>...</td>\n      <td>...</td>\n      <td>...</td>\n      <td>...</td>\n      <td>...</td>\n      <td>...</td>\n      <td>...</td>\n      <td>...</td>\n      <td>...</td>\n      <td>...</td>\n    </tr>\n    <tr>\n      <th>2022-03-25</th>\n      <td>NaN</td>\n      <td>8150.0</td>\n      <td>5.479471</td>\n      <td>NaN</td>\n      <td>124.666</td>\n      <td>81.666</td>\n      <td>NaN</td>\n      <td>NaN</td>\n      <td>NaN</td>\n      <td>0.00000</td>\n      <td>0.00000</td>\n      <td>5.479471</td>\n      <td>5.479471</td>\n      <td>0.00000</td>\n    </tr>\n    <tr>\n      <th>2022-03-26</th>\n      <td>NaN</td>\n      <td>8668.0</td>\n      <td>5.744744</td>\n      <td>NaN</td>\n      <td>NaN</td>\n      <td>NaN</td>\n      <td>NaN</td>\n      <td>NaN</td>\n      <td>NaN</td>\n      <td>0.00000</td>\n      <td>0.00000</td>\n      <td>5.744744</td>\n      <td>5.744744</td>\n      <td>0.00000</td>\n    </tr>\n    <tr>\n      <th>2022-03-27</th>\n      <td>NaN</td>\n      <td>14143.0</td>\n      <td>12.115723</td>\n      <td>NaN</td>\n      <td>NaN</td>\n      <td>NaN</td>\n      <td>NaN</td>\n      <td>8808.209961</td>\n      <td>6.381378</td>\n      <td>8.80821</td>\n      <td>0.00000</td>\n      <td>12.115723</td>\n      <td>3.307514</td>\n      <td>8.80821</td>\n    </tr>\n    <tr>\n      <th>2022-03-28</th>\n      <td>NaN</td>\n      <td>6145.0</td>\n      <td>4.407582</td>\n      <td>NaN</td>\n      <td>126.333</td>\n      <td>83.000</td>\n      <td>NaN</td>\n      <td>NaN</td>\n      <td>NaN</td>\n      <td>0.00000</td>\n      <td>0.00000</td>\n      <td>4.407582</td>\n      <td>4.407582</td>\n      <td>0.00000</td>\n    </tr>\n    <tr>\n      <th>2022-03-29</th>\n      <td>NaN</td>\n      <td>5862.0</td>\n      <td>4.204274</td>\n      <td>NaN</td>\n      <td>127.333</td>\n      <td>86.666</td>\n      <td>1019.52002</td>\n      <td>3889.139893</td>\n      <td>6.473471</td>\n      <td>3.88914</td>\n      <td>1.01952</td>\n      <td>4.204274</td>\n      <td>4.204274</td>\n      <td>3.88914</td>\n    </tr>\n  </tbody>\n</table>\n<p>2272 rows × 14 columns</p>\n</div>"
     },
     "execution_count": 78,
     "metadata": {},
     "output_type": "execute_result"
    }
   ],
   "source": [
    "df['running_distance_garmin'] = df.running_distance_meters.apply(lambda x: x / 1000 if not pd.isna(x) else 0)\n",
    "df['walking_distance_garmin'] = df.walking_distance_meters.apply(lambda x: x / 1000 if not pd.isna(x) else 0)\n",
    "df['walking_running_distance_applehealth'] = df.distancewalkingrunning_km_sum.apply(lambda x: x if not pd.isna(x) else 0)\n",
    "\n",
    "df['walking_km'] = df.apply(lambda row: row.walking_running_distance_applehealth - row.running_distance_garmin if row.walking_running_distance_applehealth >= row.walking_distance_garmin + row.running_distance_garmin else row.walking_running_distance_applehealth, axis=1)\n",
    "df['running_km'] = df.apply(lambda row: row.running_distance_garmin, axis=1)\n",
    "\n",
    "df"
   ],
   "metadata": {
    "collapsed": false,
    "pycharm": {
     "name": "#%%\n"
    }
   }
  },
  {
   "cell_type": "code",
   "execution_count": 79,
   "outputs": [],
   "source": [
    "df['total_distance_km'] = df.apply(lambda row: row.running_km + row.walking_km, axis=1)"
   ],
   "metadata": {
    "collapsed": false,
    "pycharm": {
     "name": "#%%\n"
    }
   }
  },
  {
   "cell_type": "code",
   "execution_count": 80,
   "outputs": [],
   "source": [
    "# Fixing blood preassure\n",
    "for _ in ('bloodpressurediastolic_mmHg', 'bloodpressuresystolic_mmHg', 'bodymass_kg'):\n",
    "    df[_].replace(0.0, np.NaN, inplace=True)\n",
    "    df[_].interpolate(method='linear', limit_direction='backward', inplace=True)\n",
    "\n",
    "# filtering\n",
    "df_all = df.copy()\n",
    "f, t = datetime.date(2020, 1, 1), datetime.date(2023, 1, 1)\n",
    "dff = df.query('date > @f & date < @t')\n",
    "df_filtered = dff.copy()"
   ],
   "metadata": {
    "collapsed": false,
    "pycharm": {
     "name": "#%%\n"
    }
   }
  },
  {
   "cell_type": "code",
   "execution_count": 81,
   "outputs": [
    {
     "data": {
      "text/plain": "            bodymass_kg_mean  stepcount_count_sum  \\\ndate                                                \n2020-01-05               0.0              15344.0   \n2020-01-12               0.0              15655.0   \n2020-01-19               0.0              22414.0   \n2020-01-26               0.0              49249.0   \n2020-02-02               0.0              17249.0   \n...                      ...                  ...   \n2022-03-06               0.0              48561.0   \n2022-03-13               0.0              71225.0   \n2022-03-20               0.0              62922.0   \n2022-03-27               0.0              68033.0   \n2022-04-03               0.0              12007.0   \n\n            distancewalkingrunning_km_sum  bodymass_kg  \\\ndate                                                     \n2020-01-05                       9.351720   333.280333   \n2020-01-12                       9.737703   584.640778   \n2020-01-19                      15.072184   586.308593   \n2020-01-26                      31.548989   587.976407   \n2020-02-02                      10.409071   589.644222   \n...                                   ...          ...   \n2022-03-06                      35.076830   566.112143   \n2022-03-13                      53.057274   567.285000   \n2022-03-20                      50.104996   480.989143   \n2022-03-27                      50.961523     0.000000   \n2022-04-03                       8.611856     0.000000   \n\n            bloodpressuresystolic_mmHg  bloodpressurediastolic_mmHg  \\\ndate                                                                  \n2020-01-05                  500.096885                   330.619513   \n2020-01-12                  876.568135                   580.147346   \n2020-01-19                  865.813468                   573.255319   \n2020-01-26                  845.657787                   559.702128   \n2020-02-02                  825.502106                   546.148936   \n...                                ...                          ...   \n2022-03-06                  876.952214                   614.164857   \n2022-03-13                  877.996500                   614.664500   \n2022-03-20                  877.686786                   611.711929   \n2022-03-27                  855.306214                   576.450571   \n2022-04-03                  253.666000                   169.666000   \n\n            walking_distance_meters  running_distance_meters  \\\ndate                                                           \n2020-01-05                 0.000000              4022.239990   \n2020-01-12                 0.000000             11379.779785   \n2020-01-19                 0.000000              9369.219971   \n2020-01-26                 0.000000                 0.000000   \n2020-02-02                 0.000000             11006.919922   \n...                             ...                      ...   \n2022-03-06                 0.000000             12042.820068   \n2022-03-13              5015.460083             14217.189697   \n2022-03-20              1597.640015              7016.919922   \n2022-03-27                 0.000000             14818.060059   \n2022-04-03              1019.520020              3889.139893   \n\n            avg_speed_running_trip  running_distance_garmin  \\\ndate                                                          \n2020-01-05                6.061270                  4.02224   \n2020-01-12               13.129712                 11.37978   \n2020-01-19               12.671419                  9.36922   \n2020-01-26                0.000000                  0.00000   \n2020-02-02               12.363328                 11.00692   \n...                            ...                      ...   \n2022-03-06               13.699147                 12.04282   \n2022-03-13               13.171935                 14.21719   \n2022-03-20                6.953840                  7.01692   \n2022-03-27               13.703211                 14.81806   \n2022-04-03                6.473471                  3.88914   \n\n            walking_distance_garmin  walking_running_distance_applehealth  \\\ndate                                                                        \n2020-01-05                  0.00000                              9.351720   \n2020-01-12                  0.00000                              9.737703   \n2020-01-19                  0.00000                             15.072184   \n2020-01-26                  0.00000                             31.548989   \n2020-02-02                  0.00000                             10.409071   \n...                             ...                                   ...   \n2022-03-06                  0.00000                             35.076830   \n2022-03-13                  5.01546                             53.057274   \n2022-03-20                  1.59764                             50.104996   \n2022-03-27                  0.00000                             50.961523   \n2022-04-03                  1.01952                              8.611856   \n\n            walking_km  running_km  total_distance_km  walking_running_km_mean  \ndate                                                                            \n2020-01-05    9.351720     4.02224          13.373960                25.041178  \n2020-01-12    9.737703    11.37978          21.117483                25.041178  \n2020-01-19   15.072184     9.36922          24.441404                25.041178  \n2020-01-26   31.548989     0.00000          31.548989                25.041178  \n2020-02-02   10.409071    11.00692          21.415991                25.041178  \n...                ...         ...                ...                      ...  \n2022-03-06   35.076830    12.04282          47.119650                25.041178  \n2022-03-13   49.028094    14.21719          63.245283                25.041178  \n2022-03-20   50.104996     7.01692          57.121916                25.041178  \n2022-03-27   42.153313    14.81806          56.971373                25.041178  \n2022-04-03    8.611856     3.88914          12.500996                25.041178  \n\n[118 rows x 16 columns]",
      "text/html": "<div>\n<style scoped>\n    .dataframe tbody tr th:only-of-type {\n        vertical-align: middle;\n    }\n\n    .dataframe tbody tr th {\n        vertical-align: top;\n    }\n\n    .dataframe thead th {\n        text-align: right;\n    }\n</style>\n<table border=\"1\" class=\"dataframe\">\n  <thead>\n    <tr style=\"text-align: right;\">\n      <th></th>\n      <th>bodymass_kg_mean</th>\n      <th>stepcount_count_sum</th>\n      <th>distancewalkingrunning_km_sum</th>\n      <th>bodymass_kg</th>\n      <th>bloodpressuresystolic_mmHg</th>\n      <th>bloodpressurediastolic_mmHg</th>\n      <th>walking_distance_meters</th>\n      <th>running_distance_meters</th>\n      <th>avg_speed_running_trip</th>\n      <th>running_distance_garmin</th>\n      <th>walking_distance_garmin</th>\n      <th>walking_running_distance_applehealth</th>\n      <th>walking_km</th>\n      <th>running_km</th>\n      <th>total_distance_km</th>\n      <th>walking_running_km_mean</th>\n    </tr>\n    <tr>\n      <th>date</th>\n      <th></th>\n      <th></th>\n      <th></th>\n      <th></th>\n      <th></th>\n      <th></th>\n      <th></th>\n      <th></th>\n      <th></th>\n      <th></th>\n      <th></th>\n      <th></th>\n      <th></th>\n      <th></th>\n      <th></th>\n      <th></th>\n    </tr>\n  </thead>\n  <tbody>\n    <tr>\n      <th>2020-01-05</th>\n      <td>0.0</td>\n      <td>15344.0</td>\n      <td>9.351720</td>\n      <td>333.280333</td>\n      <td>500.096885</td>\n      <td>330.619513</td>\n      <td>0.000000</td>\n      <td>4022.239990</td>\n      <td>6.061270</td>\n      <td>4.02224</td>\n      <td>0.00000</td>\n      <td>9.351720</td>\n      <td>9.351720</td>\n      <td>4.02224</td>\n      <td>13.373960</td>\n      <td>25.041178</td>\n    </tr>\n    <tr>\n      <th>2020-01-12</th>\n      <td>0.0</td>\n      <td>15655.0</td>\n      <td>9.737703</td>\n      <td>584.640778</td>\n      <td>876.568135</td>\n      <td>580.147346</td>\n      <td>0.000000</td>\n      <td>11379.779785</td>\n      <td>13.129712</td>\n      <td>11.37978</td>\n      <td>0.00000</td>\n      <td>9.737703</td>\n      <td>9.737703</td>\n      <td>11.37978</td>\n      <td>21.117483</td>\n      <td>25.041178</td>\n    </tr>\n    <tr>\n      <th>2020-01-19</th>\n      <td>0.0</td>\n      <td>22414.0</td>\n      <td>15.072184</td>\n      <td>586.308593</td>\n      <td>865.813468</td>\n      <td>573.255319</td>\n      <td>0.000000</td>\n      <td>9369.219971</td>\n      <td>12.671419</td>\n      <td>9.36922</td>\n      <td>0.00000</td>\n      <td>15.072184</td>\n      <td>15.072184</td>\n      <td>9.36922</td>\n      <td>24.441404</td>\n      <td>25.041178</td>\n    </tr>\n    <tr>\n      <th>2020-01-26</th>\n      <td>0.0</td>\n      <td>49249.0</td>\n      <td>31.548989</td>\n      <td>587.976407</td>\n      <td>845.657787</td>\n      <td>559.702128</td>\n      <td>0.000000</td>\n      <td>0.000000</td>\n      <td>0.000000</td>\n      <td>0.00000</td>\n      <td>0.00000</td>\n      <td>31.548989</td>\n      <td>31.548989</td>\n      <td>0.00000</td>\n      <td>31.548989</td>\n      <td>25.041178</td>\n    </tr>\n    <tr>\n      <th>2020-02-02</th>\n      <td>0.0</td>\n      <td>17249.0</td>\n      <td>10.409071</td>\n      <td>589.644222</td>\n      <td>825.502106</td>\n      <td>546.148936</td>\n      <td>0.000000</td>\n      <td>11006.919922</td>\n      <td>12.363328</td>\n      <td>11.00692</td>\n      <td>0.00000</td>\n      <td>10.409071</td>\n      <td>10.409071</td>\n      <td>11.00692</td>\n      <td>21.415991</td>\n      <td>25.041178</td>\n    </tr>\n    <tr>\n      <th>...</th>\n      <td>...</td>\n      <td>...</td>\n      <td>...</td>\n      <td>...</td>\n      <td>...</td>\n      <td>...</td>\n      <td>...</td>\n      <td>...</td>\n      <td>...</td>\n      <td>...</td>\n      <td>...</td>\n      <td>...</td>\n      <td>...</td>\n      <td>...</td>\n      <td>...</td>\n      <td>...</td>\n    </tr>\n    <tr>\n      <th>2022-03-06</th>\n      <td>0.0</td>\n      <td>48561.0</td>\n      <td>35.076830</td>\n      <td>566.112143</td>\n      <td>876.952214</td>\n      <td>614.164857</td>\n      <td>0.000000</td>\n      <td>12042.820068</td>\n      <td>13.699147</td>\n      <td>12.04282</td>\n      <td>0.00000</td>\n      <td>35.076830</td>\n      <td>35.076830</td>\n      <td>12.04282</td>\n      <td>47.119650</td>\n      <td>25.041178</td>\n    </tr>\n    <tr>\n      <th>2022-03-13</th>\n      <td>0.0</td>\n      <td>71225.0</td>\n      <td>53.057274</td>\n      <td>567.285000</td>\n      <td>877.996500</td>\n      <td>614.664500</td>\n      <td>5015.460083</td>\n      <td>14217.189697</td>\n      <td>13.171935</td>\n      <td>14.21719</td>\n      <td>5.01546</td>\n      <td>53.057274</td>\n      <td>49.028094</td>\n      <td>14.21719</td>\n      <td>63.245283</td>\n      <td>25.041178</td>\n    </tr>\n    <tr>\n      <th>2022-03-20</th>\n      <td>0.0</td>\n      <td>62922.0</td>\n      <td>50.104996</td>\n      <td>480.989143</td>\n      <td>877.686786</td>\n      <td>611.711929</td>\n      <td>1597.640015</td>\n      <td>7016.919922</td>\n      <td>6.953840</td>\n      <td>7.01692</td>\n      <td>1.59764</td>\n      <td>50.104996</td>\n      <td>50.104996</td>\n      <td>7.01692</td>\n      <td>57.121916</td>\n      <td>25.041178</td>\n    </tr>\n    <tr>\n      <th>2022-03-27</th>\n      <td>0.0</td>\n      <td>68033.0</td>\n      <td>50.961523</td>\n      <td>0.000000</td>\n      <td>855.306214</td>\n      <td>576.450571</td>\n      <td>0.000000</td>\n      <td>14818.060059</td>\n      <td>13.703211</td>\n      <td>14.81806</td>\n      <td>0.00000</td>\n      <td>50.961523</td>\n      <td>42.153313</td>\n      <td>14.81806</td>\n      <td>56.971373</td>\n      <td>25.041178</td>\n    </tr>\n    <tr>\n      <th>2022-04-03</th>\n      <td>0.0</td>\n      <td>12007.0</td>\n      <td>8.611856</td>\n      <td>0.000000</td>\n      <td>253.666000</td>\n      <td>169.666000</td>\n      <td>1019.520020</td>\n      <td>3889.139893</td>\n      <td>6.473471</td>\n      <td>3.88914</td>\n      <td>1.01952</td>\n      <td>8.611856</td>\n      <td>8.611856</td>\n      <td>3.88914</td>\n      <td>12.500996</td>\n      <td>25.041178</td>\n    </tr>\n  </tbody>\n</table>\n<p>118 rows × 16 columns</p>\n</div>"
     },
     "execution_count": 81,
     "metadata": {},
     "output_type": "execute_result"
    }
   ],
   "source": [
    "dff = dff.resample('W').sum()\n",
    "dff['walking_running_km_mean'] = dff.total_distance_km.mean()\n",
    "\n",
    "dff"
   ],
   "metadata": {
    "collapsed": false,
    "pycharm": {
     "name": "#%%\n"
    }
   }
  },
  {
   "cell_type": "code",
   "execution_count": 82,
   "outputs": [
    {
     "data": {
      "application/vnd.plotly.v1+json": {
       "data": [
        {
         "alignmentgroup": "True",
         "hovertemplate": "variable=walking_km<br>date=%{x}<br>value=%{y}<extra></extra>",
         "legendgroup": "walking_km",
         "marker": {
          "color": "#636efa",
          "pattern": {
           "shape": ""
          }
         },
         "name": "walking_km",
         "offsetgroup": "walking_km",
         "orientation": "v",
         "showlegend": true,
         "textposition": "auto",
         "x": [
          "2020-01-05T00:00:00",
          "2020-01-12T00:00:00",
          "2020-01-19T00:00:00",
          "2020-01-26T00:00:00",
          "2020-02-02T00:00:00",
          "2020-02-09T00:00:00",
          "2020-02-16T00:00:00",
          "2020-02-23T00:00:00",
          "2020-03-01T00:00:00",
          "2020-03-08T00:00:00",
          "2020-03-15T00:00:00",
          "2020-03-22T00:00:00",
          "2020-03-29T00:00:00",
          "2020-04-05T00:00:00",
          "2020-04-12T00:00:00",
          "2020-04-19T00:00:00",
          "2020-04-26T00:00:00",
          "2020-05-03T00:00:00",
          "2020-05-10T00:00:00",
          "2020-05-17T00:00:00",
          "2020-05-24T00:00:00",
          "2020-05-31T00:00:00",
          "2020-06-07T00:00:00",
          "2020-06-14T00:00:00",
          "2020-06-21T00:00:00",
          "2020-06-28T00:00:00",
          "2020-07-05T00:00:00",
          "2020-07-12T00:00:00",
          "2020-07-19T00:00:00",
          "2020-07-26T00:00:00",
          "2020-08-02T00:00:00",
          "2020-08-09T00:00:00",
          "2020-08-16T00:00:00",
          "2020-08-23T00:00:00",
          "2020-08-30T00:00:00",
          "2020-09-06T00:00:00",
          "2020-09-13T00:00:00",
          "2020-09-20T00:00:00",
          "2020-09-27T00:00:00",
          "2020-10-04T00:00:00",
          "2020-10-11T00:00:00",
          "2020-10-18T00:00:00",
          "2020-10-25T00:00:00",
          "2020-11-01T00:00:00",
          "2020-11-08T00:00:00",
          "2020-11-15T00:00:00",
          "2020-11-22T00:00:00",
          "2020-11-29T00:00:00",
          "2020-12-06T00:00:00",
          "2020-12-13T00:00:00",
          "2020-12-20T00:00:00",
          "2020-12-27T00:00:00",
          "2021-01-03T00:00:00",
          "2021-01-10T00:00:00",
          "2021-01-17T00:00:00",
          "2021-01-24T00:00:00",
          "2021-01-31T00:00:00",
          "2021-02-07T00:00:00",
          "2021-02-14T00:00:00",
          "2021-02-21T00:00:00",
          "2021-02-28T00:00:00",
          "2021-03-07T00:00:00",
          "2021-03-14T00:00:00",
          "2021-03-21T00:00:00",
          "2021-03-28T00:00:00",
          "2021-04-04T00:00:00",
          "2021-04-11T00:00:00",
          "2021-04-18T00:00:00",
          "2021-04-25T00:00:00",
          "2021-05-02T00:00:00",
          "2021-05-09T00:00:00",
          "2021-05-16T00:00:00",
          "2021-05-23T00:00:00",
          "2021-05-30T00:00:00",
          "2021-06-06T00:00:00",
          "2021-06-13T00:00:00",
          "2021-06-20T00:00:00",
          "2021-06-27T00:00:00",
          "2021-07-04T00:00:00",
          "2021-07-11T00:00:00",
          "2021-07-18T00:00:00",
          "2021-07-25T00:00:00",
          "2021-08-01T00:00:00",
          "2021-08-08T00:00:00",
          "2021-08-15T00:00:00",
          "2021-08-22T00:00:00",
          "2021-08-29T00:00:00",
          "2021-09-05T00:00:00",
          "2021-09-12T00:00:00",
          "2021-09-19T00:00:00",
          "2021-09-26T00:00:00",
          "2021-10-03T00:00:00",
          "2021-10-10T00:00:00",
          "2021-10-17T00:00:00",
          "2021-10-24T00:00:00",
          "2021-10-31T00:00:00",
          "2021-11-07T00:00:00",
          "2021-11-14T00:00:00",
          "2021-11-21T00:00:00",
          "2021-11-28T00:00:00",
          "2021-12-05T00:00:00",
          "2021-12-12T00:00:00",
          "2021-12-19T00:00:00",
          "2021-12-26T00:00:00",
          "2022-01-02T00:00:00",
          "2022-01-09T00:00:00",
          "2022-01-16T00:00:00",
          "2022-01-23T00:00:00",
          "2022-01-30T00:00:00",
          "2022-02-06T00:00:00",
          "2022-02-13T00:00:00",
          "2022-02-20T00:00:00",
          "2022-02-27T00:00:00",
          "2022-03-06T00:00:00",
          "2022-03-13T00:00:00",
          "2022-03-20T00:00:00",
          "2022-03-27T00:00:00",
          "2022-04-03T00:00:00"
         ],
         "xaxis": "x",
         "y": [
          9.351719999999998,
          9.737703100000001,
          15.072184,
          31.5489885,
          10.409071299999999,
          11.383339099999999,
          22.949033099999998,
          8.8135928,
          14.749070699999999,
          18.4061711,
          12.737476000000001,
          13.5705322,
          14.855303000000001,
          19.0311202,
          28.648955,
          22.639350899999997,
          19.2322373,
          21.4954488609375,
          23.671596700000002,
          20.963544999999996,
          32.890398,
          22.847132900000002,
          16.908345882812498,
          30.878578000000005,
          20.998430000000003,
          16.318924000000003,
          19.03322082,
          9.631523999999999,
          26.861889300000005,
          29.0572956,
          37.646896700000006,
          26.783934299999995,
          16.177937639999996,
          17.103225,
          20.497248,
          13.3368444,
          18.6643749,
          21.9238183,
          19.6012432,
          11.2333277,
          22.486292197656255,
          22.8947254,
          15.395371,
          15.6275682,
          12.8884761,
          12.91848639,
          13.624185999999998,
          11.423677,
          17.032316,
          10.962629498474119,
          16.761012194,
          26.683116879999996,
          15.8661314,
          16.476527,
          14.9250343,
          14.151949600000002,
          9.0898294,
          24.152457000000002,
          21.593042840000003,
          17.3566253,
          19.80829978515625,
          11.5582685,
          15.141712000000002,
          20.660785999999998,
          18.791345999999997,
          11.38667820152588,
          14.206079900000002,
          19.151460999999998,
          21.952894999999998,
          22.824781699999996,
          16.507528,
          29.807674549999998,
          10.18219,
          23.884581999999998,
          18.2123395,
          25.420795999999996,
          20.643589,
          20.35224545046875,
          12.9613664,
          17.6261754,
          35.1188203,
          25.358888299999997,
          29.409377199999998,
          30.273543402343748,
          27.256824999999992,
          17.52617298046875,
          17.018602,
          20.9100368,
          15.7823669,
          26.330123000000004,
          19.453111,
          18.333063033,
          14.800949,
          26.92645815625,
          13.342429902343751,
          17.25746152421875,
          23.886298999999998,
          12.670557,
          19.241559824218747,
          17.152634,
          21.3363874,
          23.6866863,
          18.3962339,
          28.969011,
          22.282795,
          17.679062500000004,
          13.7731723,
          22.883591000000003,
          18.774938499999998,
          18.224785,
          23.363618,
          23.826000600000004,
          26.730454,
          35.0768301,
          49.028093768359376,
          50.1049962,
          42.15331343906251,
          8.611855900000002
         ],
         "yaxis": "y",
         "type": "bar"
        },
        {
         "alignmentgroup": "True",
         "hovertemplate": "variable=running_km<br>date=%{x}<br>value=%{y}<extra></extra>",
         "legendgroup": "running_km",
         "marker": {
          "color": "#EF553B",
          "pattern": {
           "shape": ""
          }
         },
         "name": "running_km",
         "offsetgroup": "running_km",
         "orientation": "v",
         "showlegend": true,
         "textposition": "auto",
         "x": [
          "2020-01-05T00:00:00",
          "2020-01-12T00:00:00",
          "2020-01-19T00:00:00",
          "2020-01-26T00:00:00",
          "2020-02-02T00:00:00",
          "2020-02-09T00:00:00",
          "2020-02-16T00:00:00",
          "2020-02-23T00:00:00",
          "2020-03-01T00:00:00",
          "2020-03-08T00:00:00",
          "2020-03-15T00:00:00",
          "2020-03-22T00:00:00",
          "2020-03-29T00:00:00",
          "2020-04-05T00:00:00",
          "2020-04-12T00:00:00",
          "2020-04-19T00:00:00",
          "2020-04-26T00:00:00",
          "2020-05-03T00:00:00",
          "2020-05-10T00:00:00",
          "2020-05-17T00:00:00",
          "2020-05-24T00:00:00",
          "2020-05-31T00:00:00",
          "2020-06-07T00:00:00",
          "2020-06-14T00:00:00",
          "2020-06-21T00:00:00",
          "2020-06-28T00:00:00",
          "2020-07-05T00:00:00",
          "2020-07-12T00:00:00",
          "2020-07-19T00:00:00",
          "2020-07-26T00:00:00",
          "2020-08-02T00:00:00",
          "2020-08-09T00:00:00",
          "2020-08-16T00:00:00",
          "2020-08-23T00:00:00",
          "2020-08-30T00:00:00",
          "2020-09-06T00:00:00",
          "2020-09-13T00:00:00",
          "2020-09-20T00:00:00",
          "2020-09-27T00:00:00",
          "2020-10-04T00:00:00",
          "2020-10-11T00:00:00",
          "2020-10-18T00:00:00",
          "2020-10-25T00:00:00",
          "2020-11-01T00:00:00",
          "2020-11-08T00:00:00",
          "2020-11-15T00:00:00",
          "2020-11-22T00:00:00",
          "2020-11-29T00:00:00",
          "2020-12-06T00:00:00",
          "2020-12-13T00:00:00",
          "2020-12-20T00:00:00",
          "2020-12-27T00:00:00",
          "2021-01-03T00:00:00",
          "2021-01-10T00:00:00",
          "2021-01-17T00:00:00",
          "2021-01-24T00:00:00",
          "2021-01-31T00:00:00",
          "2021-02-07T00:00:00",
          "2021-02-14T00:00:00",
          "2021-02-21T00:00:00",
          "2021-02-28T00:00:00",
          "2021-03-07T00:00:00",
          "2021-03-14T00:00:00",
          "2021-03-21T00:00:00",
          "2021-03-28T00:00:00",
          "2021-04-04T00:00:00",
          "2021-04-11T00:00:00",
          "2021-04-18T00:00:00",
          "2021-04-25T00:00:00",
          "2021-05-02T00:00:00",
          "2021-05-09T00:00:00",
          "2021-05-16T00:00:00",
          "2021-05-23T00:00:00",
          "2021-05-30T00:00:00",
          "2021-06-06T00:00:00",
          "2021-06-13T00:00:00",
          "2021-06-20T00:00:00",
          "2021-06-27T00:00:00",
          "2021-07-04T00:00:00",
          "2021-07-11T00:00:00",
          "2021-07-18T00:00:00",
          "2021-07-25T00:00:00",
          "2021-08-01T00:00:00",
          "2021-08-08T00:00:00",
          "2021-08-15T00:00:00",
          "2021-08-22T00:00:00",
          "2021-08-29T00:00:00",
          "2021-09-05T00:00:00",
          "2021-09-12T00:00:00",
          "2021-09-19T00:00:00",
          "2021-09-26T00:00:00",
          "2021-10-03T00:00:00",
          "2021-10-10T00:00:00",
          "2021-10-17T00:00:00",
          "2021-10-24T00:00:00",
          "2021-10-31T00:00:00",
          "2021-11-07T00:00:00",
          "2021-11-14T00:00:00",
          "2021-11-21T00:00:00",
          "2021-11-28T00:00:00",
          "2021-12-05T00:00:00",
          "2021-12-12T00:00:00",
          "2021-12-19T00:00:00",
          "2021-12-26T00:00:00",
          "2022-01-02T00:00:00",
          "2022-01-09T00:00:00",
          "2022-01-16T00:00:00",
          "2022-01-23T00:00:00",
          "2022-01-30T00:00:00",
          "2022-02-06T00:00:00",
          "2022-02-13T00:00:00",
          "2022-02-20T00:00:00",
          "2022-02-27T00:00:00",
          "2022-03-06T00:00:00",
          "2022-03-13T00:00:00",
          "2022-03-20T00:00:00",
          "2022-03-27T00:00:00",
          "2022-04-03T00:00:00"
         ],
         "xaxis": "x",
         "y": [
          4.022239990234375,
          11.37977978515625,
          9.369219970703124,
          0.0,
          11.006919921875,
          4.45697998046875,
          10.50483984375,
          10.453399902343751,
          17.0467900390625,
          6.0062900390625,
          9.5250400390625,
          11.4545,
          11.508319824218749,
          10.02481005859375,
          4.48858984375,
          5.0053701171875,
          5.00843994140625,
          9.70151025390625,
          6.009080078125,
          4.51135986328125,
          0.0,
          0.0,
          4.8838701171875,
          5.01193994140625,
          7.508389892578125,
          0.0,
          4.01622998046875,
          11.04034033203125,
          7.00218994140625,
          0.0,
          0.0,
          4.563830078125,
          8.01652978515625,
          3.709199951171875,
          4.50891015625,
          6.0459599609375,
          11.015240234375,
          4.0180400390625,
          6.00731982421875,
          6.007330078125,
          8.5395,
          7.871530029296875,
          4.5191201171875,
          8.00581005859375,
          10.024510009765624,
          6.0228701171875,
          3.51635009765625,
          4.87660009765625,
          4.02685009765625,
          9.553599708557128,
          0.0,
          0.0,
          11.015580078125,
          4.0166298828125,
          0.0,
          4.016590087890625,
          0.0,
          0.0,
          0.0,
          6.01010009765625,
          5.01247021484375,
          0.0,
          0.0,
          6.0029501953125,
          0.0,
          4.119720115661621,
          4.5137900390625,
          11.010919921875,
          10.4047001953125,
          4.11897998046875,
          0.0,
          0.0,
          8.00208984375,
          0.0,
          0.0,
          0.0,
          0.0,
          2.41952001953125,
          0.0,
          4.00402001953125,
          0.0,
          0.0,
          8.541189697265626,
          10.77081005859375,
          6.00343017578125,
          3.55927001953125,
          6.01575,
          0.0,
          4.012320068359375,
          5.7004599609375,
          0.0,
          4.90616015625,
          5.45960009765625,
          6.01583984375,
          4.57335009765625,
          5.52193017578125,
          5.5045498046875,
          6.0079599609375,
          8.03843017578125,
          0.0,
          0.0,
          0.0,
          6.02493017578125,
          0.0,
          6.01533984375,
          0.0,
          5.00585009765625,
          0.0,
          4.6675498046875,
          0.0,
          0.0,
          5.052509765625,
          5.0117099609375,
          12.042820068359376,
          14.217189697265626,
          7.016919921875,
          14.818060058593751,
          3.889139892578125
         ],
         "yaxis": "y",
         "type": "bar"
        },
        {
         "hovertemplate": "date=%{x}<br>walking_running_km_mean=%{y}<extra></extra>",
         "legendgroup": "",
         "line": {
          "color": "#636efa",
          "dash": "solid"
         },
         "marker": {
          "symbol": "circle"
         },
         "mode": "lines",
         "name": "",
         "orientation": "v",
         "showlegend": false,
         "x": [
          "2020-01-05T00:00:00",
          "2020-01-12T00:00:00",
          "2020-01-19T00:00:00",
          "2020-01-26T00:00:00",
          "2020-02-02T00:00:00",
          "2020-02-09T00:00:00",
          "2020-02-16T00:00:00",
          "2020-02-23T00:00:00",
          "2020-03-01T00:00:00",
          "2020-03-08T00:00:00",
          "2020-03-15T00:00:00",
          "2020-03-22T00:00:00",
          "2020-03-29T00:00:00",
          "2020-04-05T00:00:00",
          "2020-04-12T00:00:00",
          "2020-04-19T00:00:00",
          "2020-04-26T00:00:00",
          "2020-05-03T00:00:00",
          "2020-05-10T00:00:00",
          "2020-05-17T00:00:00",
          "2020-05-24T00:00:00",
          "2020-05-31T00:00:00",
          "2020-06-07T00:00:00",
          "2020-06-14T00:00:00",
          "2020-06-21T00:00:00",
          "2020-06-28T00:00:00",
          "2020-07-05T00:00:00",
          "2020-07-12T00:00:00",
          "2020-07-19T00:00:00",
          "2020-07-26T00:00:00",
          "2020-08-02T00:00:00",
          "2020-08-09T00:00:00",
          "2020-08-16T00:00:00",
          "2020-08-23T00:00:00",
          "2020-08-30T00:00:00",
          "2020-09-06T00:00:00",
          "2020-09-13T00:00:00",
          "2020-09-20T00:00:00",
          "2020-09-27T00:00:00",
          "2020-10-04T00:00:00",
          "2020-10-11T00:00:00",
          "2020-10-18T00:00:00",
          "2020-10-25T00:00:00",
          "2020-11-01T00:00:00",
          "2020-11-08T00:00:00",
          "2020-11-15T00:00:00",
          "2020-11-22T00:00:00",
          "2020-11-29T00:00:00",
          "2020-12-06T00:00:00",
          "2020-12-13T00:00:00",
          "2020-12-20T00:00:00",
          "2020-12-27T00:00:00",
          "2021-01-03T00:00:00",
          "2021-01-10T00:00:00",
          "2021-01-17T00:00:00",
          "2021-01-24T00:00:00",
          "2021-01-31T00:00:00",
          "2021-02-07T00:00:00",
          "2021-02-14T00:00:00",
          "2021-02-21T00:00:00",
          "2021-02-28T00:00:00",
          "2021-03-07T00:00:00",
          "2021-03-14T00:00:00",
          "2021-03-21T00:00:00",
          "2021-03-28T00:00:00",
          "2021-04-04T00:00:00",
          "2021-04-11T00:00:00",
          "2021-04-18T00:00:00",
          "2021-04-25T00:00:00",
          "2021-05-02T00:00:00",
          "2021-05-09T00:00:00",
          "2021-05-16T00:00:00",
          "2021-05-23T00:00:00",
          "2021-05-30T00:00:00",
          "2021-06-06T00:00:00",
          "2021-06-13T00:00:00",
          "2021-06-20T00:00:00",
          "2021-06-27T00:00:00",
          "2021-07-04T00:00:00",
          "2021-07-11T00:00:00",
          "2021-07-18T00:00:00",
          "2021-07-25T00:00:00",
          "2021-08-01T00:00:00",
          "2021-08-08T00:00:00",
          "2021-08-15T00:00:00",
          "2021-08-22T00:00:00",
          "2021-08-29T00:00:00",
          "2021-09-05T00:00:00",
          "2021-09-12T00:00:00",
          "2021-09-19T00:00:00",
          "2021-09-26T00:00:00",
          "2021-10-03T00:00:00",
          "2021-10-10T00:00:00",
          "2021-10-17T00:00:00",
          "2021-10-24T00:00:00",
          "2021-10-31T00:00:00",
          "2021-11-07T00:00:00",
          "2021-11-14T00:00:00",
          "2021-11-21T00:00:00",
          "2021-11-28T00:00:00",
          "2021-12-05T00:00:00",
          "2021-12-12T00:00:00",
          "2021-12-19T00:00:00",
          "2021-12-26T00:00:00",
          "2022-01-02T00:00:00",
          "2022-01-09T00:00:00",
          "2022-01-16T00:00:00",
          "2022-01-23T00:00:00",
          "2022-01-30T00:00:00",
          "2022-02-06T00:00:00",
          "2022-02-13T00:00:00",
          "2022-02-20T00:00:00",
          "2022-02-27T00:00:00",
          "2022-03-06T00:00:00",
          "2022-03-13T00:00:00",
          "2022-03-20T00:00:00",
          "2022-03-27T00:00:00",
          "2022-04-03T00:00:00"
         ],
         "xaxis": "x",
         "y": [
          25.041178383317398,
          25.041178383317398,
          25.041178383317398,
          25.041178383317398,
          25.041178383317398,
          25.041178383317398,
          25.041178383317398,
          25.041178383317398,
          25.041178383317398,
          25.041178383317398,
          25.041178383317398,
          25.041178383317398,
          25.041178383317398,
          25.041178383317398,
          25.041178383317398,
          25.041178383317398,
          25.041178383317398,
          25.041178383317398,
          25.041178383317398,
          25.041178383317398,
          25.041178383317398,
          25.041178383317398,
          25.041178383317398,
          25.041178383317398,
          25.041178383317398,
          25.041178383317398,
          25.041178383317398,
          25.041178383317398,
          25.041178383317398,
          25.041178383317398,
          25.041178383317398,
          25.041178383317398,
          25.041178383317398,
          25.041178383317398,
          25.041178383317398,
          25.041178383317398,
          25.041178383317398,
          25.041178383317398,
          25.041178383317398,
          25.041178383317398,
          25.041178383317398,
          25.041178383317398,
          25.041178383317398,
          25.041178383317398,
          25.041178383317398,
          25.041178383317398,
          25.041178383317398,
          25.041178383317398,
          25.041178383317398,
          25.041178383317398,
          25.041178383317398,
          25.041178383317398,
          25.041178383317398,
          25.041178383317398,
          25.041178383317398,
          25.041178383317398,
          25.041178383317398,
          25.041178383317398,
          25.041178383317398,
          25.041178383317398,
          25.041178383317398,
          25.041178383317398,
          25.041178383317398,
          25.041178383317398,
          25.041178383317398,
          25.041178383317398,
          25.041178383317398,
          25.041178383317398,
          25.041178383317398,
          25.041178383317398,
          25.041178383317398,
          25.041178383317398,
          25.041178383317398,
          25.041178383317398,
          25.041178383317398,
          25.041178383317398,
          25.041178383317398,
          25.041178383317398,
          25.041178383317398,
          25.041178383317398,
          25.041178383317398,
          25.041178383317398,
          25.041178383317398,
          25.041178383317398,
          25.041178383317398,
          25.041178383317398,
          25.041178383317398,
          25.041178383317398,
          25.041178383317398,
          25.041178383317398,
          25.041178383317398,
          25.041178383317398,
          25.041178383317398,
          25.041178383317398,
          25.041178383317398,
          25.041178383317398,
          25.041178383317398,
          25.041178383317398,
          25.041178383317398,
          25.041178383317398,
          25.041178383317398,
          25.041178383317398,
          25.041178383317398,
          25.041178383317398,
          25.041178383317398,
          25.041178383317398,
          25.041178383317398,
          25.041178383317398,
          25.041178383317398,
          25.041178383317398,
          25.041178383317398,
          25.041178383317398,
          25.041178383317398,
          25.041178383317398,
          25.041178383317398,
          25.041178383317398,
          25.041178383317398,
          25.041178383317398
         ],
         "yaxis": "y",
         "type": "scatter"
        }
       ],
       "layout": {
        "template": {
         "data": {
          "histogram2dcontour": [
           {
            "type": "histogram2dcontour",
            "colorbar": {
             "outlinewidth": 0,
             "ticks": ""
            },
            "colorscale": [
             [
              0.0,
              "#0d0887"
             ],
             [
              0.1111111111111111,
              "#46039f"
             ],
             [
              0.2222222222222222,
              "#7201a8"
             ],
             [
              0.3333333333333333,
              "#9c179e"
             ],
             [
              0.4444444444444444,
              "#bd3786"
             ],
             [
              0.5555555555555556,
              "#d8576b"
             ],
             [
              0.6666666666666666,
              "#ed7953"
             ],
             [
              0.7777777777777778,
              "#fb9f3a"
             ],
             [
              0.8888888888888888,
              "#fdca26"
             ],
             [
              1.0,
              "#f0f921"
             ]
            ]
           }
          ],
          "choropleth": [
           {
            "type": "choropleth",
            "colorbar": {
             "outlinewidth": 0,
             "ticks": ""
            }
           }
          ],
          "histogram2d": [
           {
            "type": "histogram2d",
            "colorbar": {
             "outlinewidth": 0,
             "ticks": ""
            },
            "colorscale": [
             [
              0.0,
              "#0d0887"
             ],
             [
              0.1111111111111111,
              "#46039f"
             ],
             [
              0.2222222222222222,
              "#7201a8"
             ],
             [
              0.3333333333333333,
              "#9c179e"
             ],
             [
              0.4444444444444444,
              "#bd3786"
             ],
             [
              0.5555555555555556,
              "#d8576b"
             ],
             [
              0.6666666666666666,
              "#ed7953"
             ],
             [
              0.7777777777777778,
              "#fb9f3a"
             ],
             [
              0.8888888888888888,
              "#fdca26"
             ],
             [
              1.0,
              "#f0f921"
             ]
            ]
           }
          ],
          "heatmap": [
           {
            "type": "heatmap",
            "colorbar": {
             "outlinewidth": 0,
             "ticks": ""
            },
            "colorscale": [
             [
              0.0,
              "#0d0887"
             ],
             [
              0.1111111111111111,
              "#46039f"
             ],
             [
              0.2222222222222222,
              "#7201a8"
             ],
             [
              0.3333333333333333,
              "#9c179e"
             ],
             [
              0.4444444444444444,
              "#bd3786"
             ],
             [
              0.5555555555555556,
              "#d8576b"
             ],
             [
              0.6666666666666666,
              "#ed7953"
             ],
             [
              0.7777777777777778,
              "#fb9f3a"
             ],
             [
              0.8888888888888888,
              "#fdca26"
             ],
             [
              1.0,
              "#f0f921"
             ]
            ]
           }
          ],
          "heatmapgl": [
           {
            "type": "heatmapgl",
            "colorbar": {
             "outlinewidth": 0,
             "ticks": ""
            },
            "colorscale": [
             [
              0.0,
              "#0d0887"
             ],
             [
              0.1111111111111111,
              "#46039f"
             ],
             [
              0.2222222222222222,
              "#7201a8"
             ],
             [
              0.3333333333333333,
              "#9c179e"
             ],
             [
              0.4444444444444444,
              "#bd3786"
             ],
             [
              0.5555555555555556,
              "#d8576b"
             ],
             [
              0.6666666666666666,
              "#ed7953"
             ],
             [
              0.7777777777777778,
              "#fb9f3a"
             ],
             [
              0.8888888888888888,
              "#fdca26"
             ],
             [
              1.0,
              "#f0f921"
             ]
            ]
           }
          ],
          "contourcarpet": [
           {
            "type": "contourcarpet",
            "colorbar": {
             "outlinewidth": 0,
             "ticks": ""
            }
           }
          ],
          "contour": [
           {
            "type": "contour",
            "colorbar": {
             "outlinewidth": 0,
             "ticks": ""
            },
            "colorscale": [
             [
              0.0,
              "#0d0887"
             ],
             [
              0.1111111111111111,
              "#46039f"
             ],
             [
              0.2222222222222222,
              "#7201a8"
             ],
             [
              0.3333333333333333,
              "#9c179e"
             ],
             [
              0.4444444444444444,
              "#bd3786"
             ],
             [
              0.5555555555555556,
              "#d8576b"
             ],
             [
              0.6666666666666666,
              "#ed7953"
             ],
             [
              0.7777777777777778,
              "#fb9f3a"
             ],
             [
              0.8888888888888888,
              "#fdca26"
             ],
             [
              1.0,
              "#f0f921"
             ]
            ]
           }
          ],
          "surface": [
           {
            "type": "surface",
            "colorbar": {
             "outlinewidth": 0,
             "ticks": ""
            },
            "colorscale": [
             [
              0.0,
              "#0d0887"
             ],
             [
              0.1111111111111111,
              "#46039f"
             ],
             [
              0.2222222222222222,
              "#7201a8"
             ],
             [
              0.3333333333333333,
              "#9c179e"
             ],
             [
              0.4444444444444444,
              "#bd3786"
             ],
             [
              0.5555555555555556,
              "#d8576b"
             ],
             [
              0.6666666666666666,
              "#ed7953"
             ],
             [
              0.7777777777777778,
              "#fb9f3a"
             ],
             [
              0.8888888888888888,
              "#fdca26"
             ],
             [
              1.0,
              "#f0f921"
             ]
            ]
           }
          ],
          "mesh3d": [
           {
            "type": "mesh3d",
            "colorbar": {
             "outlinewidth": 0,
             "ticks": ""
            }
           }
          ],
          "scatter": [
           {
            "marker": {
             "line": {
              "color": "#283442"
             }
            },
            "type": "scatter"
           }
          ],
          "parcoords": [
           {
            "type": "parcoords",
            "line": {
             "colorbar": {
              "outlinewidth": 0,
              "ticks": ""
             }
            }
           }
          ],
          "scatterpolargl": [
           {
            "type": "scatterpolargl",
            "marker": {
             "colorbar": {
              "outlinewidth": 0,
              "ticks": ""
             }
            }
           }
          ],
          "bar": [
           {
            "error_x": {
             "color": "#f2f5fa"
            },
            "error_y": {
             "color": "#f2f5fa"
            },
            "marker": {
             "line": {
              "color": "rgb(17,17,17)",
              "width": 0.5
             },
             "pattern": {
              "fillmode": "overlay",
              "size": 10,
              "solidity": 0.2
             }
            },
            "type": "bar"
           }
          ],
          "scattergeo": [
           {
            "type": "scattergeo",
            "marker": {
             "colorbar": {
              "outlinewidth": 0,
              "ticks": ""
             }
            }
           }
          ],
          "scatterpolar": [
           {
            "type": "scatterpolar",
            "marker": {
             "colorbar": {
              "outlinewidth": 0,
              "ticks": ""
             }
            }
           }
          ],
          "histogram": [
           {
            "marker": {
             "pattern": {
              "fillmode": "overlay",
              "size": 10,
              "solidity": 0.2
             }
            },
            "type": "histogram"
           }
          ],
          "scattergl": [
           {
            "marker": {
             "line": {
              "color": "#283442"
             }
            },
            "type": "scattergl"
           }
          ],
          "scatter3d": [
           {
            "type": "scatter3d",
            "line": {
             "colorbar": {
              "outlinewidth": 0,
              "ticks": ""
             }
            },
            "marker": {
             "colorbar": {
              "outlinewidth": 0,
              "ticks": ""
             }
            }
           }
          ],
          "scattermapbox": [
           {
            "type": "scattermapbox",
            "marker": {
             "colorbar": {
              "outlinewidth": 0,
              "ticks": ""
             }
            }
           }
          ],
          "scatterternary": [
           {
            "type": "scatterternary",
            "marker": {
             "colorbar": {
              "outlinewidth": 0,
              "ticks": ""
             }
            }
           }
          ],
          "scattercarpet": [
           {
            "type": "scattercarpet",
            "marker": {
             "colorbar": {
              "outlinewidth": 0,
              "ticks": ""
             }
            }
           }
          ],
          "carpet": [
           {
            "aaxis": {
             "endlinecolor": "#A2B1C6",
             "gridcolor": "#506784",
             "linecolor": "#506784",
             "minorgridcolor": "#506784",
             "startlinecolor": "#A2B1C6"
            },
            "baxis": {
             "endlinecolor": "#A2B1C6",
             "gridcolor": "#506784",
             "linecolor": "#506784",
             "minorgridcolor": "#506784",
             "startlinecolor": "#A2B1C6"
            },
            "type": "carpet"
           }
          ],
          "table": [
           {
            "cells": {
             "fill": {
              "color": "#506784"
             },
             "line": {
              "color": "rgb(17,17,17)"
             }
            },
            "header": {
             "fill": {
              "color": "#2a3f5f"
             },
             "line": {
              "color": "rgb(17,17,17)"
             }
            },
            "type": "table"
           }
          ],
          "barpolar": [
           {
            "marker": {
             "line": {
              "color": "rgb(17,17,17)",
              "width": 0.5
             },
             "pattern": {
              "fillmode": "overlay",
              "size": 10,
              "solidity": 0.2
             }
            },
            "type": "barpolar"
           }
          ],
          "pie": [
           {
            "automargin": true,
            "type": "pie"
           }
          ]
         },
         "layout": {
          "autotypenumbers": "strict",
          "colorway": [
           "#636efa",
           "#EF553B",
           "#00cc96",
           "#ab63fa",
           "#FFA15A",
           "#19d3f3",
           "#FF6692",
           "#B6E880",
           "#FF97FF",
           "#FECB52"
          ],
          "font": {
           "color": "#f2f5fa"
          },
          "hovermode": "closest",
          "hoverlabel": {
           "align": "left"
          },
          "paper_bgcolor": "rgb(17,17,17)",
          "plot_bgcolor": "rgb(17,17,17)",
          "polar": {
           "bgcolor": "rgb(17,17,17)",
           "angularaxis": {
            "gridcolor": "#506784",
            "linecolor": "#506784",
            "ticks": ""
           },
           "radialaxis": {
            "gridcolor": "#506784",
            "linecolor": "#506784",
            "ticks": ""
           }
          },
          "ternary": {
           "bgcolor": "rgb(17,17,17)",
           "aaxis": {
            "gridcolor": "#506784",
            "linecolor": "#506784",
            "ticks": ""
           },
           "baxis": {
            "gridcolor": "#506784",
            "linecolor": "#506784",
            "ticks": ""
           },
           "caxis": {
            "gridcolor": "#506784",
            "linecolor": "#506784",
            "ticks": ""
           }
          },
          "coloraxis": {
           "colorbar": {
            "outlinewidth": 0,
            "ticks": ""
           }
          },
          "colorscale": {
           "sequential": [
            [
             0.0,
             "#0d0887"
            ],
            [
             0.1111111111111111,
             "#46039f"
            ],
            [
             0.2222222222222222,
             "#7201a8"
            ],
            [
             0.3333333333333333,
             "#9c179e"
            ],
            [
             0.4444444444444444,
             "#bd3786"
            ],
            [
             0.5555555555555556,
             "#d8576b"
            ],
            [
             0.6666666666666666,
             "#ed7953"
            ],
            [
             0.7777777777777778,
             "#fb9f3a"
            ],
            [
             0.8888888888888888,
             "#fdca26"
            ],
            [
             1.0,
             "#f0f921"
            ]
           ],
           "sequentialminus": [
            [
             0.0,
             "#0d0887"
            ],
            [
             0.1111111111111111,
             "#46039f"
            ],
            [
             0.2222222222222222,
             "#7201a8"
            ],
            [
             0.3333333333333333,
             "#9c179e"
            ],
            [
             0.4444444444444444,
             "#bd3786"
            ],
            [
             0.5555555555555556,
             "#d8576b"
            ],
            [
             0.6666666666666666,
             "#ed7953"
            ],
            [
             0.7777777777777778,
             "#fb9f3a"
            ],
            [
             0.8888888888888888,
             "#fdca26"
            ],
            [
             1.0,
             "#f0f921"
            ]
           ],
           "diverging": [
            [
             0,
             "#8e0152"
            ],
            [
             0.1,
             "#c51b7d"
            ],
            [
             0.2,
             "#de77ae"
            ],
            [
             0.3,
             "#f1b6da"
            ],
            [
             0.4,
             "#fde0ef"
            ],
            [
             0.5,
             "#f7f7f7"
            ],
            [
             0.6,
             "#e6f5d0"
            ],
            [
             0.7,
             "#b8e186"
            ],
            [
             0.8,
             "#7fbc41"
            ],
            [
             0.9,
             "#4d9221"
            ],
            [
             1,
             "#276419"
            ]
           ]
          },
          "xaxis": {
           "gridcolor": "#283442",
           "linecolor": "#506784",
           "ticks": "",
           "title": {
            "standoff": 15
           },
           "zerolinecolor": "#283442",
           "automargin": true,
           "zerolinewidth": 2
          },
          "yaxis": {
           "gridcolor": "#283442",
           "linecolor": "#506784",
           "ticks": "",
           "title": {
            "standoff": 15
           },
           "zerolinecolor": "#283442",
           "automargin": true,
           "zerolinewidth": 2
          },
          "scene": {
           "xaxis": {
            "backgroundcolor": "rgb(17,17,17)",
            "gridcolor": "#506784",
            "linecolor": "#506784",
            "showbackground": true,
            "ticks": "",
            "zerolinecolor": "#C8D4E3",
            "gridwidth": 2
           },
           "yaxis": {
            "backgroundcolor": "rgb(17,17,17)",
            "gridcolor": "#506784",
            "linecolor": "#506784",
            "showbackground": true,
            "ticks": "",
            "zerolinecolor": "#C8D4E3",
            "gridwidth": 2
           },
           "zaxis": {
            "backgroundcolor": "rgb(17,17,17)",
            "gridcolor": "#506784",
            "linecolor": "#506784",
            "showbackground": true,
            "ticks": "",
            "zerolinecolor": "#C8D4E3",
            "gridwidth": 2
           }
          },
          "shapedefaults": {
           "line": {
            "color": "#f2f5fa"
           }
          },
          "annotationdefaults": {
           "arrowcolor": "#f2f5fa",
           "arrowhead": 0,
           "arrowwidth": 1
          },
          "geo": {
           "bgcolor": "rgb(17,17,17)",
           "landcolor": "rgb(17,17,17)",
           "subunitcolor": "#506784",
           "showland": true,
           "showlakes": true,
           "lakecolor": "rgb(17,17,17)"
          },
          "title": {
           "x": 0.05
          },
          "updatemenudefaults": {
           "bgcolor": "#506784",
           "borderwidth": 0
          },
          "sliderdefaults": {
           "bgcolor": "#C8D4E3",
           "borderwidth": 1,
           "bordercolor": "rgb(17,17,17)",
           "tickwidth": 0
          },
          "mapbox": {
           "style": "dark"
          }
         }
        },
        "xaxis": {
         "anchor": "y",
         "domain": [
          0.0,
          1.0
         ],
         "title": {
          "text": "date"
         }
        },
        "yaxis": {
         "anchor": "x",
         "domain": [
          0.0,
          1.0
         ],
         "title": {
          "text": "value"
         }
        },
        "legend": {
         "title": {},
         "tracegroupgap": 0,
         "yanchor": "top",
         "y": 0.99,
         "xanchor": "left",
         "x": 0.01
        },
        "title": {
         "text": "Weekly distance"
        },
        "barmode": "relative",
        "height": 500
       },
       "config": {
        "plotlyServerURL": "https://plot.ly"
       }
      },
      "text/html": "<div>                            <div id=\"8d016521-2e80-4631-9855-35e4b7bf2376\" class=\"plotly-graph-div\" style=\"height:500px; width:100%;\"></div>            <script type=\"text/javascript\">                require([\"plotly\"], function(Plotly) {                    window.PLOTLYENV=window.PLOTLYENV || {};                                    if (document.getElementById(\"8d016521-2e80-4631-9855-35e4b7bf2376\")) {                    Plotly.newPlot(                        \"8d016521-2e80-4631-9855-35e4b7bf2376\",                        [{\"alignmentgroup\":\"True\",\"hovertemplate\":\"variable=walking_km<br>date=%{x}<br>value=%{y}<extra></extra>\",\"legendgroup\":\"walking_km\",\"marker\":{\"color\":\"#636efa\",\"pattern\":{\"shape\":\"\"}},\"name\":\"walking_km\",\"offsetgroup\":\"walking_km\",\"orientation\":\"v\",\"showlegend\":true,\"textposition\":\"auto\",\"x\":[\"2020-01-05T00:00:00\",\"2020-01-12T00:00:00\",\"2020-01-19T00:00:00\",\"2020-01-26T00:00:00\",\"2020-02-02T00:00:00\",\"2020-02-09T00:00:00\",\"2020-02-16T00:00:00\",\"2020-02-23T00:00:00\",\"2020-03-01T00:00:00\",\"2020-03-08T00:00:00\",\"2020-03-15T00:00:00\",\"2020-03-22T00:00:00\",\"2020-03-29T00:00:00\",\"2020-04-05T00:00:00\",\"2020-04-12T00:00:00\",\"2020-04-19T00:00:00\",\"2020-04-26T00:00:00\",\"2020-05-03T00:00:00\",\"2020-05-10T00:00:00\",\"2020-05-17T00:00:00\",\"2020-05-24T00:00:00\",\"2020-05-31T00:00:00\",\"2020-06-07T00:00:00\",\"2020-06-14T00:00:00\",\"2020-06-21T00:00:00\",\"2020-06-28T00:00:00\",\"2020-07-05T00:00:00\",\"2020-07-12T00:00:00\",\"2020-07-19T00:00:00\",\"2020-07-26T00:00:00\",\"2020-08-02T00:00:00\",\"2020-08-09T00:00:00\",\"2020-08-16T00:00:00\",\"2020-08-23T00:00:00\",\"2020-08-30T00:00:00\",\"2020-09-06T00:00:00\",\"2020-09-13T00:00:00\",\"2020-09-20T00:00:00\",\"2020-09-27T00:00:00\",\"2020-10-04T00:00:00\",\"2020-10-11T00:00:00\",\"2020-10-18T00:00:00\",\"2020-10-25T00:00:00\",\"2020-11-01T00:00:00\",\"2020-11-08T00:00:00\",\"2020-11-15T00:00:00\",\"2020-11-22T00:00:00\",\"2020-11-29T00:00:00\",\"2020-12-06T00:00:00\",\"2020-12-13T00:00:00\",\"2020-12-20T00:00:00\",\"2020-12-27T00:00:00\",\"2021-01-03T00:00:00\",\"2021-01-10T00:00:00\",\"2021-01-17T00:00:00\",\"2021-01-24T00:00:00\",\"2021-01-31T00:00:00\",\"2021-02-07T00:00:00\",\"2021-02-14T00:00:00\",\"2021-02-21T00:00:00\",\"2021-02-28T00:00:00\",\"2021-03-07T00:00:00\",\"2021-03-14T00:00:00\",\"2021-03-21T00:00:00\",\"2021-03-28T00:00:00\",\"2021-04-04T00:00:00\",\"2021-04-11T00:00:00\",\"2021-04-18T00:00:00\",\"2021-04-25T00:00:00\",\"2021-05-02T00:00:00\",\"2021-05-09T00:00:00\",\"2021-05-16T00:00:00\",\"2021-05-23T00:00:00\",\"2021-05-30T00:00:00\",\"2021-06-06T00:00:00\",\"2021-06-13T00:00:00\",\"2021-06-20T00:00:00\",\"2021-06-27T00:00:00\",\"2021-07-04T00:00:00\",\"2021-07-11T00:00:00\",\"2021-07-18T00:00:00\",\"2021-07-25T00:00:00\",\"2021-08-01T00:00:00\",\"2021-08-08T00:00:00\",\"2021-08-15T00:00:00\",\"2021-08-22T00:00:00\",\"2021-08-29T00:00:00\",\"2021-09-05T00:00:00\",\"2021-09-12T00:00:00\",\"2021-09-19T00:00:00\",\"2021-09-26T00:00:00\",\"2021-10-03T00:00:00\",\"2021-10-10T00:00:00\",\"2021-10-17T00:00:00\",\"2021-10-24T00:00:00\",\"2021-10-31T00:00:00\",\"2021-11-07T00:00:00\",\"2021-11-14T00:00:00\",\"2021-11-21T00:00:00\",\"2021-11-28T00:00:00\",\"2021-12-05T00:00:00\",\"2021-12-12T00:00:00\",\"2021-12-19T00:00:00\",\"2021-12-26T00:00:00\",\"2022-01-02T00:00:00\",\"2022-01-09T00:00:00\",\"2022-01-16T00:00:00\",\"2022-01-23T00:00:00\",\"2022-01-30T00:00:00\",\"2022-02-06T00:00:00\",\"2022-02-13T00:00:00\",\"2022-02-20T00:00:00\",\"2022-02-27T00:00:00\",\"2022-03-06T00:00:00\",\"2022-03-13T00:00:00\",\"2022-03-20T00:00:00\",\"2022-03-27T00:00:00\",\"2022-04-03T00:00:00\"],\"xaxis\":\"x\",\"y\":[9.351719999999998,9.737703100000001,15.072184,31.5489885,10.409071299999999,11.383339099999999,22.949033099999998,8.8135928,14.749070699999999,18.4061711,12.737476000000001,13.5705322,14.855303000000001,19.0311202,28.648955,22.639350899999997,19.2322373,21.4954488609375,23.671596700000002,20.963544999999996,32.890398,22.847132900000002,16.908345882812498,30.878578000000005,20.998430000000003,16.318924000000003,19.03322082,9.631523999999999,26.861889300000005,29.0572956,37.646896700000006,26.783934299999995,16.177937639999996,17.103225,20.497248,13.3368444,18.6643749,21.9238183,19.6012432,11.2333277,22.486292197656255,22.8947254,15.395371,15.6275682,12.8884761,12.91848639,13.624185999999998,11.423677,17.032316,10.962629498474119,16.761012194,26.683116879999996,15.8661314,16.476527,14.9250343,14.151949600000002,9.0898294,24.152457000000002,21.593042840000003,17.3566253,19.80829978515625,11.5582685,15.141712000000002,20.660785999999998,18.791345999999997,11.38667820152588,14.206079900000002,19.151460999999998,21.952894999999998,22.824781699999996,16.507528,29.807674549999998,10.18219,23.884581999999998,18.2123395,25.420795999999996,20.643589,20.35224545046875,12.9613664,17.6261754,35.1188203,25.358888299999997,29.409377199999998,30.273543402343748,27.256824999999992,17.52617298046875,17.018602,20.9100368,15.7823669,26.330123000000004,19.453111,18.333063033,14.800949,26.92645815625,13.342429902343751,17.25746152421875,23.886298999999998,12.670557,19.241559824218747,17.152634,21.3363874,23.6866863,18.3962339,28.969011,22.282795,17.679062500000004,13.7731723,22.883591000000003,18.774938499999998,18.224785,23.363618,23.826000600000004,26.730454,35.0768301,49.028093768359376,50.1049962,42.15331343906251,8.611855900000002],\"yaxis\":\"y\",\"type\":\"bar\"},{\"alignmentgroup\":\"True\",\"hovertemplate\":\"variable=running_km<br>date=%{x}<br>value=%{y}<extra></extra>\",\"legendgroup\":\"running_km\",\"marker\":{\"color\":\"#EF553B\",\"pattern\":{\"shape\":\"\"}},\"name\":\"running_km\",\"offsetgroup\":\"running_km\",\"orientation\":\"v\",\"showlegend\":true,\"textposition\":\"auto\",\"x\":[\"2020-01-05T00:00:00\",\"2020-01-12T00:00:00\",\"2020-01-19T00:00:00\",\"2020-01-26T00:00:00\",\"2020-02-02T00:00:00\",\"2020-02-09T00:00:00\",\"2020-02-16T00:00:00\",\"2020-02-23T00:00:00\",\"2020-03-01T00:00:00\",\"2020-03-08T00:00:00\",\"2020-03-15T00:00:00\",\"2020-03-22T00:00:00\",\"2020-03-29T00:00:00\",\"2020-04-05T00:00:00\",\"2020-04-12T00:00:00\",\"2020-04-19T00:00:00\",\"2020-04-26T00:00:00\",\"2020-05-03T00:00:00\",\"2020-05-10T00:00:00\",\"2020-05-17T00:00:00\",\"2020-05-24T00:00:00\",\"2020-05-31T00:00:00\",\"2020-06-07T00:00:00\",\"2020-06-14T00:00:00\",\"2020-06-21T00:00:00\",\"2020-06-28T00:00:00\",\"2020-07-05T00:00:00\",\"2020-07-12T00:00:00\",\"2020-07-19T00:00:00\",\"2020-07-26T00:00:00\",\"2020-08-02T00:00:00\",\"2020-08-09T00:00:00\",\"2020-08-16T00:00:00\",\"2020-08-23T00:00:00\",\"2020-08-30T00:00:00\",\"2020-09-06T00:00:00\",\"2020-09-13T00:00:00\",\"2020-09-20T00:00:00\",\"2020-09-27T00:00:00\",\"2020-10-04T00:00:00\",\"2020-10-11T00:00:00\",\"2020-10-18T00:00:00\",\"2020-10-25T00:00:00\",\"2020-11-01T00:00:00\",\"2020-11-08T00:00:00\",\"2020-11-15T00:00:00\",\"2020-11-22T00:00:00\",\"2020-11-29T00:00:00\",\"2020-12-06T00:00:00\",\"2020-12-13T00:00:00\",\"2020-12-20T00:00:00\",\"2020-12-27T00:00:00\",\"2021-01-03T00:00:00\",\"2021-01-10T00:00:00\",\"2021-01-17T00:00:00\",\"2021-01-24T00:00:00\",\"2021-01-31T00:00:00\",\"2021-02-07T00:00:00\",\"2021-02-14T00:00:00\",\"2021-02-21T00:00:00\",\"2021-02-28T00:00:00\",\"2021-03-07T00:00:00\",\"2021-03-14T00:00:00\",\"2021-03-21T00:00:00\",\"2021-03-28T00:00:00\",\"2021-04-04T00:00:00\",\"2021-04-11T00:00:00\",\"2021-04-18T00:00:00\",\"2021-04-25T00:00:00\",\"2021-05-02T00:00:00\",\"2021-05-09T00:00:00\",\"2021-05-16T00:00:00\",\"2021-05-23T00:00:00\",\"2021-05-30T00:00:00\",\"2021-06-06T00:00:00\",\"2021-06-13T00:00:00\",\"2021-06-20T00:00:00\",\"2021-06-27T00:00:00\",\"2021-07-04T00:00:00\",\"2021-07-11T00:00:00\",\"2021-07-18T00:00:00\",\"2021-07-25T00:00:00\",\"2021-08-01T00:00:00\",\"2021-08-08T00:00:00\",\"2021-08-15T00:00:00\",\"2021-08-22T00:00:00\",\"2021-08-29T00:00:00\",\"2021-09-05T00:00:00\",\"2021-09-12T00:00:00\",\"2021-09-19T00:00:00\",\"2021-09-26T00:00:00\",\"2021-10-03T00:00:00\",\"2021-10-10T00:00:00\",\"2021-10-17T00:00:00\",\"2021-10-24T00:00:00\",\"2021-10-31T00:00:00\",\"2021-11-07T00:00:00\",\"2021-11-14T00:00:00\",\"2021-11-21T00:00:00\",\"2021-11-28T00:00:00\",\"2021-12-05T00:00:00\",\"2021-12-12T00:00:00\",\"2021-12-19T00:00:00\",\"2021-12-26T00:00:00\",\"2022-01-02T00:00:00\",\"2022-01-09T00:00:00\",\"2022-01-16T00:00:00\",\"2022-01-23T00:00:00\",\"2022-01-30T00:00:00\",\"2022-02-06T00:00:00\",\"2022-02-13T00:00:00\",\"2022-02-20T00:00:00\",\"2022-02-27T00:00:00\",\"2022-03-06T00:00:00\",\"2022-03-13T00:00:00\",\"2022-03-20T00:00:00\",\"2022-03-27T00:00:00\",\"2022-04-03T00:00:00\"],\"xaxis\":\"x\",\"y\":[4.022239990234375,11.37977978515625,9.369219970703124,0.0,11.006919921875,4.45697998046875,10.50483984375,10.453399902343751,17.0467900390625,6.0062900390625,9.5250400390625,11.4545,11.508319824218749,10.02481005859375,4.48858984375,5.0053701171875,5.00843994140625,9.70151025390625,6.009080078125,4.51135986328125,0.0,0.0,4.8838701171875,5.01193994140625,7.508389892578125,0.0,4.01622998046875,11.04034033203125,7.00218994140625,0.0,0.0,4.563830078125,8.01652978515625,3.709199951171875,4.50891015625,6.0459599609375,11.015240234375,4.0180400390625,6.00731982421875,6.007330078125,8.5395,7.871530029296875,4.5191201171875,8.00581005859375,10.024510009765624,6.0228701171875,3.51635009765625,4.87660009765625,4.02685009765625,9.553599708557128,0.0,0.0,11.015580078125,4.0166298828125,0.0,4.016590087890625,0.0,0.0,0.0,6.01010009765625,5.01247021484375,0.0,0.0,6.0029501953125,0.0,4.119720115661621,4.5137900390625,11.010919921875,10.4047001953125,4.11897998046875,0.0,0.0,8.00208984375,0.0,0.0,0.0,0.0,2.41952001953125,0.0,4.00402001953125,0.0,0.0,8.541189697265626,10.77081005859375,6.00343017578125,3.55927001953125,6.01575,0.0,4.012320068359375,5.7004599609375,0.0,4.90616015625,5.45960009765625,6.01583984375,4.57335009765625,5.52193017578125,5.5045498046875,6.0079599609375,8.03843017578125,0.0,0.0,0.0,6.02493017578125,0.0,6.01533984375,0.0,5.00585009765625,0.0,4.6675498046875,0.0,0.0,5.052509765625,5.0117099609375,12.042820068359376,14.217189697265626,7.016919921875,14.818060058593751,3.889139892578125],\"yaxis\":\"y\",\"type\":\"bar\"},{\"hovertemplate\":\"date=%{x}<br>walking_running_km_mean=%{y}<extra></extra>\",\"legendgroup\":\"\",\"line\":{\"color\":\"#636efa\",\"dash\":\"solid\"},\"marker\":{\"symbol\":\"circle\"},\"mode\":\"lines\",\"name\":\"\",\"orientation\":\"v\",\"showlegend\":false,\"x\":[\"2020-01-05T00:00:00\",\"2020-01-12T00:00:00\",\"2020-01-19T00:00:00\",\"2020-01-26T00:00:00\",\"2020-02-02T00:00:00\",\"2020-02-09T00:00:00\",\"2020-02-16T00:00:00\",\"2020-02-23T00:00:00\",\"2020-03-01T00:00:00\",\"2020-03-08T00:00:00\",\"2020-03-15T00:00:00\",\"2020-03-22T00:00:00\",\"2020-03-29T00:00:00\",\"2020-04-05T00:00:00\",\"2020-04-12T00:00:00\",\"2020-04-19T00:00:00\",\"2020-04-26T00:00:00\",\"2020-05-03T00:00:00\",\"2020-05-10T00:00:00\",\"2020-05-17T00:00:00\",\"2020-05-24T00:00:00\",\"2020-05-31T00:00:00\",\"2020-06-07T00:00:00\",\"2020-06-14T00:00:00\",\"2020-06-21T00:00:00\",\"2020-06-28T00:00:00\",\"2020-07-05T00:00:00\",\"2020-07-12T00:00:00\",\"2020-07-19T00:00:00\",\"2020-07-26T00:00:00\",\"2020-08-02T00:00:00\",\"2020-08-09T00:00:00\",\"2020-08-16T00:00:00\",\"2020-08-23T00:00:00\",\"2020-08-30T00:00:00\",\"2020-09-06T00:00:00\",\"2020-09-13T00:00:00\",\"2020-09-20T00:00:00\",\"2020-09-27T00:00:00\",\"2020-10-04T00:00:00\",\"2020-10-11T00:00:00\",\"2020-10-18T00:00:00\",\"2020-10-25T00:00:00\",\"2020-11-01T00:00:00\",\"2020-11-08T00:00:00\",\"2020-11-15T00:00:00\",\"2020-11-22T00:00:00\",\"2020-11-29T00:00:00\",\"2020-12-06T00:00:00\",\"2020-12-13T00:00:00\",\"2020-12-20T00:00:00\",\"2020-12-27T00:00:00\",\"2021-01-03T00:00:00\",\"2021-01-10T00:00:00\",\"2021-01-17T00:00:00\",\"2021-01-24T00:00:00\",\"2021-01-31T00:00:00\",\"2021-02-07T00:00:00\",\"2021-02-14T00:00:00\",\"2021-02-21T00:00:00\",\"2021-02-28T00:00:00\",\"2021-03-07T00:00:00\",\"2021-03-14T00:00:00\",\"2021-03-21T00:00:00\",\"2021-03-28T00:00:00\",\"2021-04-04T00:00:00\",\"2021-04-11T00:00:00\",\"2021-04-18T00:00:00\",\"2021-04-25T00:00:00\",\"2021-05-02T00:00:00\",\"2021-05-09T00:00:00\",\"2021-05-16T00:00:00\",\"2021-05-23T00:00:00\",\"2021-05-30T00:00:00\",\"2021-06-06T00:00:00\",\"2021-06-13T00:00:00\",\"2021-06-20T00:00:00\",\"2021-06-27T00:00:00\",\"2021-07-04T00:00:00\",\"2021-07-11T00:00:00\",\"2021-07-18T00:00:00\",\"2021-07-25T00:00:00\",\"2021-08-01T00:00:00\",\"2021-08-08T00:00:00\",\"2021-08-15T00:00:00\",\"2021-08-22T00:00:00\",\"2021-08-29T00:00:00\",\"2021-09-05T00:00:00\",\"2021-09-12T00:00:00\",\"2021-09-19T00:00:00\",\"2021-09-26T00:00:00\",\"2021-10-03T00:00:00\",\"2021-10-10T00:00:00\",\"2021-10-17T00:00:00\",\"2021-10-24T00:00:00\",\"2021-10-31T00:00:00\",\"2021-11-07T00:00:00\",\"2021-11-14T00:00:00\",\"2021-11-21T00:00:00\",\"2021-11-28T00:00:00\",\"2021-12-05T00:00:00\",\"2021-12-12T00:00:00\",\"2021-12-19T00:00:00\",\"2021-12-26T00:00:00\",\"2022-01-02T00:00:00\",\"2022-01-09T00:00:00\",\"2022-01-16T00:00:00\",\"2022-01-23T00:00:00\",\"2022-01-30T00:00:00\",\"2022-02-06T00:00:00\",\"2022-02-13T00:00:00\",\"2022-02-20T00:00:00\",\"2022-02-27T00:00:00\",\"2022-03-06T00:00:00\",\"2022-03-13T00:00:00\",\"2022-03-20T00:00:00\",\"2022-03-27T00:00:00\",\"2022-04-03T00:00:00\"],\"xaxis\":\"x\",\"y\":[25.041178383317398,25.041178383317398,25.041178383317398,25.041178383317398,25.041178383317398,25.041178383317398,25.041178383317398,25.041178383317398,25.041178383317398,25.041178383317398,25.041178383317398,25.041178383317398,25.041178383317398,25.041178383317398,25.041178383317398,25.041178383317398,25.041178383317398,25.041178383317398,25.041178383317398,25.041178383317398,25.041178383317398,25.041178383317398,25.041178383317398,25.041178383317398,25.041178383317398,25.041178383317398,25.041178383317398,25.041178383317398,25.041178383317398,25.041178383317398,25.041178383317398,25.041178383317398,25.041178383317398,25.041178383317398,25.041178383317398,25.041178383317398,25.041178383317398,25.041178383317398,25.041178383317398,25.041178383317398,25.041178383317398,25.041178383317398,25.041178383317398,25.041178383317398,25.041178383317398,25.041178383317398,25.041178383317398,25.041178383317398,25.041178383317398,25.041178383317398,25.041178383317398,25.041178383317398,25.041178383317398,25.041178383317398,25.041178383317398,25.041178383317398,25.041178383317398,25.041178383317398,25.041178383317398,25.041178383317398,25.041178383317398,25.041178383317398,25.041178383317398,25.041178383317398,25.041178383317398,25.041178383317398,25.041178383317398,25.041178383317398,25.041178383317398,25.041178383317398,25.041178383317398,25.041178383317398,25.041178383317398,25.041178383317398,25.041178383317398,25.041178383317398,25.041178383317398,25.041178383317398,25.041178383317398,25.041178383317398,25.041178383317398,25.041178383317398,25.041178383317398,25.041178383317398,25.041178383317398,25.041178383317398,25.041178383317398,25.041178383317398,25.041178383317398,25.041178383317398,25.041178383317398,25.041178383317398,25.041178383317398,25.041178383317398,25.041178383317398,25.041178383317398,25.041178383317398,25.041178383317398,25.041178383317398,25.041178383317398,25.041178383317398,25.041178383317398,25.041178383317398,25.041178383317398,25.041178383317398,25.041178383317398,25.041178383317398,25.041178383317398,25.041178383317398,25.041178383317398,25.041178383317398,25.041178383317398,25.041178383317398,25.041178383317398,25.041178383317398,25.041178383317398,25.041178383317398,25.041178383317398],\"yaxis\":\"y\",\"type\":\"scatter\"}],                        {\"template\":{\"data\":{\"histogram2dcontour\":[{\"type\":\"histogram2dcontour\",\"colorbar\":{\"outlinewidth\":0,\"ticks\":\"\"},\"colorscale\":[[0.0,\"#0d0887\"],[0.1111111111111111,\"#46039f\"],[0.2222222222222222,\"#7201a8\"],[0.3333333333333333,\"#9c179e\"],[0.4444444444444444,\"#bd3786\"],[0.5555555555555556,\"#d8576b\"],[0.6666666666666666,\"#ed7953\"],[0.7777777777777778,\"#fb9f3a\"],[0.8888888888888888,\"#fdca26\"],[1.0,\"#f0f921\"]]}],\"choropleth\":[{\"type\":\"choropleth\",\"colorbar\":{\"outlinewidth\":0,\"ticks\":\"\"}}],\"histogram2d\":[{\"type\":\"histogram2d\",\"colorbar\":{\"outlinewidth\":0,\"ticks\":\"\"},\"colorscale\":[[0.0,\"#0d0887\"],[0.1111111111111111,\"#46039f\"],[0.2222222222222222,\"#7201a8\"],[0.3333333333333333,\"#9c179e\"],[0.4444444444444444,\"#bd3786\"],[0.5555555555555556,\"#d8576b\"],[0.6666666666666666,\"#ed7953\"],[0.7777777777777778,\"#fb9f3a\"],[0.8888888888888888,\"#fdca26\"],[1.0,\"#f0f921\"]]}],\"heatmap\":[{\"type\":\"heatmap\",\"colorbar\":{\"outlinewidth\":0,\"ticks\":\"\"},\"colorscale\":[[0.0,\"#0d0887\"],[0.1111111111111111,\"#46039f\"],[0.2222222222222222,\"#7201a8\"],[0.3333333333333333,\"#9c179e\"],[0.4444444444444444,\"#bd3786\"],[0.5555555555555556,\"#d8576b\"],[0.6666666666666666,\"#ed7953\"],[0.7777777777777778,\"#fb9f3a\"],[0.8888888888888888,\"#fdca26\"],[1.0,\"#f0f921\"]]}],\"heatmapgl\":[{\"type\":\"heatmapgl\",\"colorbar\":{\"outlinewidth\":0,\"ticks\":\"\"},\"colorscale\":[[0.0,\"#0d0887\"],[0.1111111111111111,\"#46039f\"],[0.2222222222222222,\"#7201a8\"],[0.3333333333333333,\"#9c179e\"],[0.4444444444444444,\"#bd3786\"],[0.5555555555555556,\"#d8576b\"],[0.6666666666666666,\"#ed7953\"],[0.7777777777777778,\"#fb9f3a\"],[0.8888888888888888,\"#fdca26\"],[1.0,\"#f0f921\"]]}],\"contourcarpet\":[{\"type\":\"contourcarpet\",\"colorbar\":{\"outlinewidth\":0,\"ticks\":\"\"}}],\"contour\":[{\"type\":\"contour\",\"colorbar\":{\"outlinewidth\":0,\"ticks\":\"\"},\"colorscale\":[[0.0,\"#0d0887\"],[0.1111111111111111,\"#46039f\"],[0.2222222222222222,\"#7201a8\"],[0.3333333333333333,\"#9c179e\"],[0.4444444444444444,\"#bd3786\"],[0.5555555555555556,\"#d8576b\"],[0.6666666666666666,\"#ed7953\"],[0.7777777777777778,\"#fb9f3a\"],[0.8888888888888888,\"#fdca26\"],[1.0,\"#f0f921\"]]}],\"surface\":[{\"type\":\"surface\",\"colorbar\":{\"outlinewidth\":0,\"ticks\":\"\"},\"colorscale\":[[0.0,\"#0d0887\"],[0.1111111111111111,\"#46039f\"],[0.2222222222222222,\"#7201a8\"],[0.3333333333333333,\"#9c179e\"],[0.4444444444444444,\"#bd3786\"],[0.5555555555555556,\"#d8576b\"],[0.6666666666666666,\"#ed7953\"],[0.7777777777777778,\"#fb9f3a\"],[0.8888888888888888,\"#fdca26\"],[1.0,\"#f0f921\"]]}],\"mesh3d\":[{\"type\":\"mesh3d\",\"colorbar\":{\"outlinewidth\":0,\"ticks\":\"\"}}],\"scatter\":[{\"marker\":{\"line\":{\"color\":\"#283442\"}},\"type\":\"scatter\"}],\"parcoords\":[{\"type\":\"parcoords\",\"line\":{\"colorbar\":{\"outlinewidth\":0,\"ticks\":\"\"}}}],\"scatterpolargl\":[{\"type\":\"scatterpolargl\",\"marker\":{\"colorbar\":{\"outlinewidth\":0,\"ticks\":\"\"}}}],\"bar\":[{\"error_x\":{\"color\":\"#f2f5fa\"},\"error_y\":{\"color\":\"#f2f5fa\"},\"marker\":{\"line\":{\"color\":\"rgb(17,17,17)\",\"width\":0.5},\"pattern\":{\"fillmode\":\"overlay\",\"size\":10,\"solidity\":0.2}},\"type\":\"bar\"}],\"scattergeo\":[{\"type\":\"scattergeo\",\"marker\":{\"colorbar\":{\"outlinewidth\":0,\"ticks\":\"\"}}}],\"scatterpolar\":[{\"type\":\"scatterpolar\",\"marker\":{\"colorbar\":{\"outlinewidth\":0,\"ticks\":\"\"}}}],\"histogram\":[{\"marker\":{\"pattern\":{\"fillmode\":\"overlay\",\"size\":10,\"solidity\":0.2}},\"type\":\"histogram\"}],\"scattergl\":[{\"marker\":{\"line\":{\"color\":\"#283442\"}},\"type\":\"scattergl\"}],\"scatter3d\":[{\"type\":\"scatter3d\",\"line\":{\"colorbar\":{\"outlinewidth\":0,\"ticks\":\"\"}},\"marker\":{\"colorbar\":{\"outlinewidth\":0,\"ticks\":\"\"}}}],\"scattermapbox\":[{\"type\":\"scattermapbox\",\"marker\":{\"colorbar\":{\"outlinewidth\":0,\"ticks\":\"\"}}}],\"scatterternary\":[{\"type\":\"scatterternary\",\"marker\":{\"colorbar\":{\"outlinewidth\":0,\"ticks\":\"\"}}}],\"scattercarpet\":[{\"type\":\"scattercarpet\",\"marker\":{\"colorbar\":{\"outlinewidth\":0,\"ticks\":\"\"}}}],\"carpet\":[{\"aaxis\":{\"endlinecolor\":\"#A2B1C6\",\"gridcolor\":\"#506784\",\"linecolor\":\"#506784\",\"minorgridcolor\":\"#506784\",\"startlinecolor\":\"#A2B1C6\"},\"baxis\":{\"endlinecolor\":\"#A2B1C6\",\"gridcolor\":\"#506784\",\"linecolor\":\"#506784\",\"minorgridcolor\":\"#506784\",\"startlinecolor\":\"#A2B1C6\"},\"type\":\"carpet\"}],\"table\":[{\"cells\":{\"fill\":{\"color\":\"#506784\"},\"line\":{\"color\":\"rgb(17,17,17)\"}},\"header\":{\"fill\":{\"color\":\"#2a3f5f\"},\"line\":{\"color\":\"rgb(17,17,17)\"}},\"type\":\"table\"}],\"barpolar\":[{\"marker\":{\"line\":{\"color\":\"rgb(17,17,17)\",\"width\":0.5},\"pattern\":{\"fillmode\":\"overlay\",\"size\":10,\"solidity\":0.2}},\"type\":\"barpolar\"}],\"pie\":[{\"automargin\":true,\"type\":\"pie\"}]},\"layout\":{\"autotypenumbers\":\"strict\",\"colorway\":[\"#636efa\",\"#EF553B\",\"#00cc96\",\"#ab63fa\",\"#FFA15A\",\"#19d3f3\",\"#FF6692\",\"#B6E880\",\"#FF97FF\",\"#FECB52\"],\"font\":{\"color\":\"#f2f5fa\"},\"hovermode\":\"closest\",\"hoverlabel\":{\"align\":\"left\"},\"paper_bgcolor\":\"rgb(17,17,17)\",\"plot_bgcolor\":\"rgb(17,17,17)\",\"polar\":{\"bgcolor\":\"rgb(17,17,17)\",\"angularaxis\":{\"gridcolor\":\"#506784\",\"linecolor\":\"#506784\",\"ticks\":\"\"},\"radialaxis\":{\"gridcolor\":\"#506784\",\"linecolor\":\"#506784\",\"ticks\":\"\"}},\"ternary\":{\"bgcolor\":\"rgb(17,17,17)\",\"aaxis\":{\"gridcolor\":\"#506784\",\"linecolor\":\"#506784\",\"ticks\":\"\"},\"baxis\":{\"gridcolor\":\"#506784\",\"linecolor\":\"#506784\",\"ticks\":\"\"},\"caxis\":{\"gridcolor\":\"#506784\",\"linecolor\":\"#506784\",\"ticks\":\"\"}},\"coloraxis\":{\"colorbar\":{\"outlinewidth\":0,\"ticks\":\"\"}},\"colorscale\":{\"sequential\":[[0.0,\"#0d0887\"],[0.1111111111111111,\"#46039f\"],[0.2222222222222222,\"#7201a8\"],[0.3333333333333333,\"#9c179e\"],[0.4444444444444444,\"#bd3786\"],[0.5555555555555556,\"#d8576b\"],[0.6666666666666666,\"#ed7953\"],[0.7777777777777778,\"#fb9f3a\"],[0.8888888888888888,\"#fdca26\"],[1.0,\"#f0f921\"]],\"sequentialminus\":[[0.0,\"#0d0887\"],[0.1111111111111111,\"#46039f\"],[0.2222222222222222,\"#7201a8\"],[0.3333333333333333,\"#9c179e\"],[0.4444444444444444,\"#bd3786\"],[0.5555555555555556,\"#d8576b\"],[0.6666666666666666,\"#ed7953\"],[0.7777777777777778,\"#fb9f3a\"],[0.8888888888888888,\"#fdca26\"],[1.0,\"#f0f921\"]],\"diverging\":[[0,\"#8e0152\"],[0.1,\"#c51b7d\"],[0.2,\"#de77ae\"],[0.3,\"#f1b6da\"],[0.4,\"#fde0ef\"],[0.5,\"#f7f7f7\"],[0.6,\"#e6f5d0\"],[0.7,\"#b8e186\"],[0.8,\"#7fbc41\"],[0.9,\"#4d9221\"],[1,\"#276419\"]]},\"xaxis\":{\"gridcolor\":\"#283442\",\"linecolor\":\"#506784\",\"ticks\":\"\",\"title\":{\"standoff\":15},\"zerolinecolor\":\"#283442\",\"automargin\":true,\"zerolinewidth\":2},\"yaxis\":{\"gridcolor\":\"#283442\",\"linecolor\":\"#506784\",\"ticks\":\"\",\"title\":{\"standoff\":15},\"zerolinecolor\":\"#283442\",\"automargin\":true,\"zerolinewidth\":2},\"scene\":{\"xaxis\":{\"backgroundcolor\":\"rgb(17,17,17)\",\"gridcolor\":\"#506784\",\"linecolor\":\"#506784\",\"showbackground\":true,\"ticks\":\"\",\"zerolinecolor\":\"#C8D4E3\",\"gridwidth\":2},\"yaxis\":{\"backgroundcolor\":\"rgb(17,17,17)\",\"gridcolor\":\"#506784\",\"linecolor\":\"#506784\",\"showbackground\":true,\"ticks\":\"\",\"zerolinecolor\":\"#C8D4E3\",\"gridwidth\":2},\"zaxis\":{\"backgroundcolor\":\"rgb(17,17,17)\",\"gridcolor\":\"#506784\",\"linecolor\":\"#506784\",\"showbackground\":true,\"ticks\":\"\",\"zerolinecolor\":\"#C8D4E3\",\"gridwidth\":2}},\"shapedefaults\":{\"line\":{\"color\":\"#f2f5fa\"}},\"annotationdefaults\":{\"arrowcolor\":\"#f2f5fa\",\"arrowhead\":0,\"arrowwidth\":1},\"geo\":{\"bgcolor\":\"rgb(17,17,17)\",\"landcolor\":\"rgb(17,17,17)\",\"subunitcolor\":\"#506784\",\"showland\":true,\"showlakes\":true,\"lakecolor\":\"rgb(17,17,17)\"},\"title\":{\"x\":0.05},\"updatemenudefaults\":{\"bgcolor\":\"#506784\",\"borderwidth\":0},\"sliderdefaults\":{\"bgcolor\":\"#C8D4E3\",\"borderwidth\":1,\"bordercolor\":\"rgb(17,17,17)\",\"tickwidth\":0},\"mapbox\":{\"style\":\"dark\"}}},\"xaxis\":{\"anchor\":\"y\",\"domain\":[0.0,1.0],\"title\":{\"text\":\"date\"}},\"yaxis\":{\"anchor\":\"x\",\"domain\":[0.0,1.0],\"title\":{\"text\":\"value\"}},\"legend\":{\"title\":{},\"tracegroupgap\":0,\"yanchor\":\"top\",\"y\":0.99,\"xanchor\":\"left\",\"x\":0.01},\"title\":{\"text\":\"Weekly distance\"},\"barmode\":\"relative\",\"height\":500},                        {\"responsive\": true}                    ).then(function(){\n                            \nvar gd = document.getElementById('8d016521-2e80-4631-9855-35e4b7bf2376');\nvar x = new MutationObserver(function (mutations, observer) {{\n        var display = window.getComputedStyle(gd).display;\n        if (!display || display === 'none') {{\n            console.log([gd, 'removed!']);\n            Plotly.purge(gd);\n            observer.disconnect();\n        }}\n}});\n\n// Listen for the removal of the full notebook cells\nvar notebookContainer = gd.closest('#notebook-container');\nif (notebookContainer) {{\n    x.observe(notebookContainer, {childList: true});\n}}\n\n// Listen for the clearing of the current output cell\nvar outputEl = gd.closest('.output');\nif (outputEl) {{\n    x.observe(outputEl, {childList: true});\n}}\n\n                        })                };                });            </script>        </div>"
     },
     "metadata": {},
     "output_type": "display_data"
    }
   ],
   "source": [
    "b = px.bar(dff, y=['walking_km', 'running_km'], title=\"Weekly distance\", height=500)\n",
    "b.update_layout(legend=dict(yanchor=\"top\", y=0.99, xanchor=\"left\", x=0.01), legend_title_text=None)\n",
    "l = px.line(dff, y=\"walking_running_km_mean\")\n",
    "b.add_traces(l.data)"
   ],
   "metadata": {
    "collapsed": false,
    "pycharm": {
     "name": "#%%\n"
    }
   }
  },
  {
   "cell_type": "code",
   "execution_count": 83,
   "outputs": [
    {
     "data": {
      "application/vnd.plotly.v1+json": {
       "data": [
        {
         "hovertemplate": "variable=bloodpressuresystolic_mmHg<br>date=%{x}<br>value=%{y}<extra></extra>",
         "legendgroup": "bloodpressuresystolic_mmHg",
         "line": {
          "color": "#636efa",
          "dash": "solid"
         },
         "marker": {
          "symbol": "circle"
         },
         "mode": "lines",
         "name": "bloodpressuresystolic_mmHg",
         "orientation": "v",
         "showlegend": true,
         "x": [
          "2020-01-05T00:00:00",
          "2020-01-12T00:00:00",
          "2020-01-19T00:00:00",
          "2020-01-26T00:00:00",
          "2020-02-02T00:00:00",
          "2020-02-09T00:00:00",
          "2020-02-16T00:00:00",
          "2020-02-23T00:00:00",
          "2020-03-01T00:00:00",
          "2020-03-08T00:00:00",
          "2020-03-15T00:00:00",
          "2020-03-22T00:00:00",
          "2020-03-29T00:00:00",
          "2020-04-05T00:00:00",
          "2020-04-12T00:00:00",
          "2020-04-19T00:00:00",
          "2020-04-26T00:00:00",
          "2020-05-03T00:00:00",
          "2020-05-10T00:00:00",
          "2020-05-17T00:00:00",
          "2020-05-24T00:00:00",
          "2020-05-31T00:00:00",
          "2020-06-07T00:00:00",
          "2020-06-14T00:00:00",
          "2020-06-21T00:00:00",
          "2020-06-28T00:00:00",
          "2020-07-05T00:00:00",
          "2020-07-12T00:00:00",
          "2020-07-19T00:00:00",
          "2020-07-26T00:00:00",
          "2020-08-02T00:00:00",
          "2020-08-09T00:00:00",
          "2020-08-16T00:00:00",
          "2020-08-23T00:00:00",
          "2020-08-30T00:00:00",
          "2020-09-06T00:00:00",
          "2020-09-13T00:00:00",
          "2020-09-20T00:00:00",
          "2020-09-27T00:00:00",
          "2020-10-04T00:00:00",
          "2020-10-11T00:00:00",
          "2020-10-18T00:00:00",
          "2020-10-25T00:00:00",
          "2020-11-01T00:00:00",
          "2020-11-08T00:00:00",
          "2020-11-15T00:00:00",
          "2020-11-22T00:00:00",
          "2020-11-29T00:00:00",
          "2020-12-06T00:00:00",
          "2020-12-13T00:00:00",
          "2020-12-20T00:00:00",
          "2020-12-27T00:00:00",
          "2021-01-03T00:00:00",
          "2021-01-10T00:00:00",
          "2021-01-17T00:00:00",
          "2021-01-24T00:00:00",
          "2021-01-31T00:00:00",
          "2021-02-07T00:00:00",
          "2021-02-14T00:00:00",
          "2021-02-21T00:00:00",
          "2021-02-28T00:00:00",
          "2021-03-07T00:00:00",
          "2021-03-14T00:00:00",
          "2021-03-21T00:00:00",
          "2021-03-28T00:00:00",
          "2021-04-04T00:00:00",
          "2021-04-11T00:00:00",
          "2021-04-18T00:00:00",
          "2021-04-25T00:00:00",
          "2021-05-02T00:00:00",
          "2021-05-09T00:00:00",
          "2021-05-16T00:00:00",
          "2021-05-23T00:00:00",
          "2021-05-30T00:00:00",
          "2021-06-06T00:00:00",
          "2021-06-13T00:00:00",
          "2021-06-20T00:00:00",
          "2021-06-27T00:00:00",
          "2021-07-04T00:00:00",
          "2021-07-11T00:00:00",
          "2021-07-18T00:00:00",
          "2021-07-25T00:00:00",
          "2021-08-01T00:00:00",
          "2021-08-08T00:00:00",
          "2021-08-15T00:00:00",
          "2021-08-22T00:00:00",
          "2021-08-29T00:00:00",
          "2021-09-05T00:00:00",
          "2021-09-12T00:00:00",
          "2021-09-19T00:00:00",
          "2021-09-26T00:00:00",
          "2021-10-03T00:00:00",
          "2021-10-10T00:00:00",
          "2021-10-17T00:00:00",
          "2021-10-24T00:00:00",
          "2021-10-31T00:00:00",
          "2021-11-07T00:00:00",
          "2021-11-14T00:00:00",
          "2021-11-21T00:00:00",
          "2021-11-28T00:00:00",
          "2021-12-05T00:00:00",
          "2021-12-12T00:00:00",
          "2021-12-19T00:00:00",
          "2021-12-26T00:00:00",
          "2022-01-02T00:00:00",
          "2022-01-09T00:00:00",
          "2022-01-16T00:00:00",
          "2022-01-23T00:00:00",
          "2022-01-30T00:00:00",
          "2022-02-06T00:00:00",
          "2022-02-13T00:00:00",
          "2022-02-20T00:00:00",
          "2022-02-27T00:00:00",
          "2022-03-06T00:00:00",
          "2022-03-13T00:00:00",
          "2022-03-20T00:00:00",
          "2022-03-27T00:00:00",
          "2022-04-03T00:00:00"
         ],
         "xaxis": "x",
         "y": [
          null,
          null,
          125.11112370430988,
          124.09897872340424,
          122.04227659574468,
          119.16289361702127,
          116.28351063829787,
          113.40412765957446,
          110.52474468085107,
          108.37977905073649,
          107.44588979814512,
          107.72307692307692,
          108.47692307692307,
          109.23076923076923,
          109.98461538461538,
          110.73846153846154,
          111.49230769230769,
          112.24615384615385,
          113.0,
          113.75384615384615,
          114.50769230769231,
          115.26153846153846,
          116.01538461538462,
          116.76923076923077,
          117.52307692307693,
          118.27692307692308,
          119.03076923076924,
          119.78461538461539,
          120.53846153846155,
          121.29230769230769,
          122.04615384615384,
          122.8,
          123.55384615384615,
          124.3076923076923,
          125.06153846153846,
          125.81538461538462,
          126.46153846153845,
          126.70646648130986,
          126.4377108433735,
          125.76296385542169,
          124.97575903614457,
          124.18855421686747,
          123.40134939759037,
          122.61414457831324,
          121.82693975903614,
          121.03973493975904,
          120.25253012048192,
          119.46532530120481,
          118.6781204819277,
          118.12239493107565,
          117.85710251818084,
          117.88224324324324,
          117.96633783783784,
          118.05043243243243,
          118.13452702702703,
          118.21862162162161,
          118.30271621621621,
          118.3868108108108,
          118.4709054054054,
          118.555,
          118.6390945945946,
          118.7231891891892,
          118.80728378378377,
          118.89137837837838,
          118.97547297297297,
          119.05956756756757,
          119.14366216216216,
          119.22775675675676,
          119.31185135135134,
          119.39594594594594,
          119.48004054054053,
          119.56413513513513,
          119.64822972972974,
          119.73232432432432,
          119.81641891891893,
          119.9005135135135,
          119.9846081081081,
          120.0687027027027,
          120.1527972972973,
          120.2368918918919,
          120.32098648648649,
          120.40508108108106,
          120.48917567567567,
          120.57327027027027,
          120.65736486486487,
          120.74145945945946,
          120.82555405405405,
          120.90964864864866,
          120.99374324324323,
          121.07783783783783,
          121.16193243243242,
          121.24602702702703,
          121.33012162162163,
          121.41421621621622,
          121.49831081081082,
          121.5824054054054,
          121.6665,
          121.75059459459459,
          121.83468918918919,
          121.91878378378378,
          122.00287837837838,
          122.08697297297296,
          122.17106756756756,
          122.25516216216215,
          122.33925675675675,
          122.42335135135136,
          122.50744594594595,
          122.59154054054055,
          122.67563513513512,
          122.75972972972973,
          122.84382432432432,
          122.99534298584298,
          123.61883011583011,
          124.64285714285715,
          126.79351190476189,
          128.99974999999998,
          128.92552777777777,
          128.14777777777778
         ],
         "yaxis": "y",
         "type": "scatter"
        },
        {
         "hovertemplate": "variable=bloodpressurediastolic_mmHg<br>date=%{x}<br>value=%{y}<extra></extra>",
         "legendgroup": "bloodpressurediastolic_mmHg",
         "line": {
          "color": "#EF553B",
          "dash": "solid"
         },
         "marker": {
          "symbol": "circle"
         },
         "mode": "lines",
         "name": "bloodpressurediastolic_mmHg",
         "orientation": "v",
         "showlegend": true,
         "x": [
          "2020-01-05T00:00:00",
          "2020-01-12T00:00:00",
          "2020-01-19T00:00:00",
          "2020-01-26T00:00:00",
          "2020-02-02T00:00:00",
          "2020-02-09T00:00:00",
          "2020-02-16T00:00:00",
          "2020-02-23T00:00:00",
          "2020-03-01T00:00:00",
          "2020-03-08T00:00:00",
          "2020-03-15T00:00:00",
          "2020-03-22T00:00:00",
          "2020-03-29T00:00:00",
          "2020-04-05T00:00:00",
          "2020-04-12T00:00:00",
          "2020-04-19T00:00:00",
          "2020-04-26T00:00:00",
          "2020-05-03T00:00:00",
          "2020-05-10T00:00:00",
          "2020-05-17T00:00:00",
          "2020-05-24T00:00:00",
          "2020-05-31T00:00:00",
          "2020-06-07T00:00:00",
          "2020-06-14T00:00:00",
          "2020-06-21T00:00:00",
          "2020-06-28T00:00:00",
          "2020-07-05T00:00:00",
          "2020-07-12T00:00:00",
          "2020-07-19T00:00:00",
          "2020-07-26T00:00:00",
          "2020-08-02T00:00:00",
          "2020-08-09T00:00:00",
          "2020-08-16T00:00:00",
          "2020-08-23T00:00:00",
          "2020-08-30T00:00:00",
          "2020-09-06T00:00:00",
          "2020-09-13T00:00:00",
          "2020-09-20T00:00:00",
          "2020-09-27T00:00:00",
          "2020-10-04T00:00:00",
          "2020-10-11T00:00:00",
          "2020-10-18T00:00:00",
          "2020-10-25T00:00:00",
          "2020-11-01T00:00:00",
          "2020-11-08T00:00:00",
          "2020-11-15T00:00:00",
          "2020-11-22T00:00:00",
          "2020-11-29T00:00:00",
          "2020-12-06T00:00:00",
          "2020-12-13T00:00:00",
          "2020-12-20T00:00:00",
          "2020-12-27T00:00:00",
          "2021-01-03T00:00:00",
          "2021-01-10T00:00:00",
          "2021-01-17T00:00:00",
          "2021-01-24T00:00:00",
          "2021-01-31T00:00:00",
          "2021-02-07T00:00:00",
          "2021-02-14T00:00:00",
          "2021-02-21T00:00:00",
          "2021-02-28T00:00:00",
          "2021-03-07T00:00:00",
          "2021-03-14T00:00:00",
          "2021-03-21T00:00:00",
          "2021-03-28T00:00:00",
          "2021-04-04T00:00:00",
          "2021-04-11T00:00:00",
          "2021-04-18T00:00:00",
          "2021-04-25T00:00:00",
          "2021-05-02T00:00:00",
          "2021-05-09T00:00:00",
          "2021-05-16T00:00:00",
          "2021-05-23T00:00:00",
          "2021-05-30T00:00:00",
          "2021-06-06T00:00:00",
          "2021-06-13T00:00:00",
          "2021-06-20T00:00:00",
          "2021-06-27T00:00:00",
          "2021-07-04T00:00:00",
          "2021-07-11T00:00:00",
          "2021-07-18T00:00:00",
          "2021-07-25T00:00:00",
          "2021-08-01T00:00:00",
          "2021-08-08T00:00:00",
          "2021-08-15T00:00:00",
          "2021-08-22T00:00:00",
          "2021-08-29T00:00:00",
          "2021-09-05T00:00:00",
          "2021-09-12T00:00:00",
          "2021-09-19T00:00:00",
          "2021-09-26T00:00:00",
          "2021-10-03T00:00:00",
          "2021-10-10T00:00:00",
          "2021-10-17T00:00:00",
          "2021-10-24T00:00:00",
          "2021-10-31T00:00:00",
          "2021-11-07T00:00:00",
          "2021-11-14T00:00:00",
          "2021-11-21T00:00:00",
          "2021-11-28T00:00:00",
          "2021-12-05T00:00:00",
          "2021-12-12T00:00:00",
          "2021-12-19T00:00:00",
          "2021-12-26T00:00:00",
          "2022-01-02T00:00:00",
          "2022-01-09T00:00:00",
          "2022-01-16T00:00:00",
          "2022-01-23T00:00:00",
          "2022-01-30T00:00:00",
          "2022-02-06T00:00:00",
          "2022-02-13T00:00:00",
          "2022-02-20T00:00:00",
          "2022-02-27T00:00:00",
          "2022-03-06T00:00:00",
          "2022-03-13T00:00:00",
          "2022-03-20T00:00:00",
          "2022-03-27T00:00:00",
          "2022-04-03T00:00:00"
         ],
         "xaxis": "x",
         "y": [
          null,
          null,
          82.81306210220039,
          82.17021276595744,
          80.7872340425532,
          78.85106382978724,
          76.91489361702128,
          74.97872340425532,
          73.04255319148936,
          71.57271718494273,
          70.89584560829242,
          71.01193846153846,
          71.45466153846154,
          71.89738461538461,
          72.3401076923077,
          72.78283076923077,
          73.22555384615384,
          73.66827692307692,
          74.111,
          74.55372307692308,
          74.99644615384615,
          75.43916923076922,
          75.88189230769231,
          76.32461538461538,
          76.76733846153846,
          77.21006153846155,
          77.65278461538462,
          78.09550769230769,
          78.53823076923076,
          78.98095384615385,
          79.42367692307693,
          79.8664,
          80.30912307692307,
          80.75184615384615,
          81.19456923076922,
          81.6372923076923,
          82.01676923076923,
          82.20582842137782,
          82.1723373493976,
          81.9795421686747,
          81.75461445783132,
          81.52968674698793,
          81.30475903614457,
          81.0798313253012,
          80.85490361445783,
          80.62997590361444,
          80.40504819277108,
          80.1801204819277,
          79.95519277108434,
          79.83612708491624,
          79.82532408914939,
          79.92278378378377,
          80.02264414414414,
          80.12250450450449,
          80.22236486486486,
          80.32222522522522,
          80.42208558558559,
          80.52194594594594,
          80.62180630630631,
          80.72166666666665,
          80.82152702702703,
          80.92138738738738,
          81.02124774774774,
          81.1211081081081,
          81.22096846846847,
          81.32082882882884,
          81.42068918918919,
          81.52054954954956,
          81.6204099099099,
          81.72027027027026,
          81.82013063063062,
          81.91999099099098,
          82.01985135135135,
          82.11971171171172,
          82.21957207207208,
          82.31943243243244,
          82.4192927927928,
          82.51915315315314,
          82.61901351351351,
          82.71887387387386,
          82.81873423423423,
          82.9185945945946,
          83.01845495495496,
          83.11831531531531,
          83.21817567567568,
          83.31803603603603,
          83.41789639639639,
          83.51775675675675,
          83.61761711711712,
          83.71747747747747,
          83.81733783783784,
          83.9171981981982,
          84.01705855855856,
          84.11691891891891,
          84.21677927927928,
          84.31663963963963,
          84.4165,
          84.51636036036037,
          84.61622072072072,
          84.71608108108109,
          84.81594144144144,
          84.9158018018018,
          85.01566216216216,
          85.11552252252251,
          85.21538288288288,
          85.31524324324324,
          85.4151036036036,
          85.51496396396396,
          85.61482432432433,
          85.7146846846847,
          85.81454504504505,
          85.96519776919776,
          86.47139703989704,
          87.27759523809523,
          88.99963095238097,
          90.77725,
          89.17415476190477,
          87.61857142857143
         ],
         "yaxis": "y",
         "type": "scatter"
        }
       ],
       "layout": {
        "template": {
         "data": {
          "histogram2dcontour": [
           {
            "type": "histogram2dcontour",
            "colorbar": {
             "outlinewidth": 0,
             "ticks": ""
            },
            "colorscale": [
             [
              0.0,
              "#0d0887"
             ],
             [
              0.1111111111111111,
              "#46039f"
             ],
             [
              0.2222222222222222,
              "#7201a8"
             ],
             [
              0.3333333333333333,
              "#9c179e"
             ],
             [
              0.4444444444444444,
              "#bd3786"
             ],
             [
              0.5555555555555556,
              "#d8576b"
             ],
             [
              0.6666666666666666,
              "#ed7953"
             ],
             [
              0.7777777777777778,
              "#fb9f3a"
             ],
             [
              0.8888888888888888,
              "#fdca26"
             ],
             [
              1.0,
              "#f0f921"
             ]
            ]
           }
          ],
          "choropleth": [
           {
            "type": "choropleth",
            "colorbar": {
             "outlinewidth": 0,
             "ticks": ""
            }
           }
          ],
          "histogram2d": [
           {
            "type": "histogram2d",
            "colorbar": {
             "outlinewidth": 0,
             "ticks": ""
            },
            "colorscale": [
             [
              0.0,
              "#0d0887"
             ],
             [
              0.1111111111111111,
              "#46039f"
             ],
             [
              0.2222222222222222,
              "#7201a8"
             ],
             [
              0.3333333333333333,
              "#9c179e"
             ],
             [
              0.4444444444444444,
              "#bd3786"
             ],
             [
              0.5555555555555556,
              "#d8576b"
             ],
             [
              0.6666666666666666,
              "#ed7953"
             ],
             [
              0.7777777777777778,
              "#fb9f3a"
             ],
             [
              0.8888888888888888,
              "#fdca26"
             ],
             [
              1.0,
              "#f0f921"
             ]
            ]
           }
          ],
          "heatmap": [
           {
            "type": "heatmap",
            "colorbar": {
             "outlinewidth": 0,
             "ticks": ""
            },
            "colorscale": [
             [
              0.0,
              "#0d0887"
             ],
             [
              0.1111111111111111,
              "#46039f"
             ],
             [
              0.2222222222222222,
              "#7201a8"
             ],
             [
              0.3333333333333333,
              "#9c179e"
             ],
             [
              0.4444444444444444,
              "#bd3786"
             ],
             [
              0.5555555555555556,
              "#d8576b"
             ],
             [
              0.6666666666666666,
              "#ed7953"
             ],
             [
              0.7777777777777778,
              "#fb9f3a"
             ],
             [
              0.8888888888888888,
              "#fdca26"
             ],
             [
              1.0,
              "#f0f921"
             ]
            ]
           }
          ],
          "heatmapgl": [
           {
            "type": "heatmapgl",
            "colorbar": {
             "outlinewidth": 0,
             "ticks": ""
            },
            "colorscale": [
             [
              0.0,
              "#0d0887"
             ],
             [
              0.1111111111111111,
              "#46039f"
             ],
             [
              0.2222222222222222,
              "#7201a8"
             ],
             [
              0.3333333333333333,
              "#9c179e"
             ],
             [
              0.4444444444444444,
              "#bd3786"
             ],
             [
              0.5555555555555556,
              "#d8576b"
             ],
             [
              0.6666666666666666,
              "#ed7953"
             ],
             [
              0.7777777777777778,
              "#fb9f3a"
             ],
             [
              0.8888888888888888,
              "#fdca26"
             ],
             [
              1.0,
              "#f0f921"
             ]
            ]
           }
          ],
          "contourcarpet": [
           {
            "type": "contourcarpet",
            "colorbar": {
             "outlinewidth": 0,
             "ticks": ""
            }
           }
          ],
          "contour": [
           {
            "type": "contour",
            "colorbar": {
             "outlinewidth": 0,
             "ticks": ""
            },
            "colorscale": [
             [
              0.0,
              "#0d0887"
             ],
             [
              0.1111111111111111,
              "#46039f"
             ],
             [
              0.2222222222222222,
              "#7201a8"
             ],
             [
              0.3333333333333333,
              "#9c179e"
             ],
             [
              0.4444444444444444,
              "#bd3786"
             ],
             [
              0.5555555555555556,
              "#d8576b"
             ],
             [
              0.6666666666666666,
              "#ed7953"
             ],
             [
              0.7777777777777778,
              "#fb9f3a"
             ],
             [
              0.8888888888888888,
              "#fdca26"
             ],
             [
              1.0,
              "#f0f921"
             ]
            ]
           }
          ],
          "surface": [
           {
            "type": "surface",
            "colorbar": {
             "outlinewidth": 0,
             "ticks": ""
            },
            "colorscale": [
             [
              0.0,
              "#0d0887"
             ],
             [
              0.1111111111111111,
              "#46039f"
             ],
             [
              0.2222222222222222,
              "#7201a8"
             ],
             [
              0.3333333333333333,
              "#9c179e"
             ],
             [
              0.4444444444444444,
              "#bd3786"
             ],
             [
              0.5555555555555556,
              "#d8576b"
             ],
             [
              0.6666666666666666,
              "#ed7953"
             ],
             [
              0.7777777777777778,
              "#fb9f3a"
             ],
             [
              0.8888888888888888,
              "#fdca26"
             ],
             [
              1.0,
              "#f0f921"
             ]
            ]
           }
          ],
          "mesh3d": [
           {
            "type": "mesh3d",
            "colorbar": {
             "outlinewidth": 0,
             "ticks": ""
            }
           }
          ],
          "scatter": [
           {
            "marker": {
             "line": {
              "color": "#283442"
             }
            },
            "type": "scatter"
           }
          ],
          "parcoords": [
           {
            "type": "parcoords",
            "line": {
             "colorbar": {
              "outlinewidth": 0,
              "ticks": ""
             }
            }
           }
          ],
          "scatterpolargl": [
           {
            "type": "scatterpolargl",
            "marker": {
             "colorbar": {
              "outlinewidth": 0,
              "ticks": ""
             }
            }
           }
          ],
          "bar": [
           {
            "error_x": {
             "color": "#f2f5fa"
            },
            "error_y": {
             "color": "#f2f5fa"
            },
            "marker": {
             "line": {
              "color": "rgb(17,17,17)",
              "width": 0.5
             },
             "pattern": {
              "fillmode": "overlay",
              "size": 10,
              "solidity": 0.2
             }
            },
            "type": "bar"
           }
          ],
          "scattergeo": [
           {
            "type": "scattergeo",
            "marker": {
             "colorbar": {
              "outlinewidth": 0,
              "ticks": ""
             }
            }
           }
          ],
          "scatterpolar": [
           {
            "type": "scatterpolar",
            "marker": {
             "colorbar": {
              "outlinewidth": 0,
              "ticks": ""
             }
            }
           }
          ],
          "histogram": [
           {
            "marker": {
             "pattern": {
              "fillmode": "overlay",
              "size": 10,
              "solidity": 0.2
             }
            },
            "type": "histogram"
           }
          ],
          "scattergl": [
           {
            "marker": {
             "line": {
              "color": "#283442"
             }
            },
            "type": "scattergl"
           }
          ],
          "scatter3d": [
           {
            "type": "scatter3d",
            "line": {
             "colorbar": {
              "outlinewidth": 0,
              "ticks": ""
             }
            },
            "marker": {
             "colorbar": {
              "outlinewidth": 0,
              "ticks": ""
             }
            }
           }
          ],
          "scattermapbox": [
           {
            "type": "scattermapbox",
            "marker": {
             "colorbar": {
              "outlinewidth": 0,
              "ticks": ""
             }
            }
           }
          ],
          "scatterternary": [
           {
            "type": "scatterternary",
            "marker": {
             "colorbar": {
              "outlinewidth": 0,
              "ticks": ""
             }
            }
           }
          ],
          "scattercarpet": [
           {
            "type": "scattercarpet",
            "marker": {
             "colorbar": {
              "outlinewidth": 0,
              "ticks": ""
             }
            }
           }
          ],
          "carpet": [
           {
            "aaxis": {
             "endlinecolor": "#A2B1C6",
             "gridcolor": "#506784",
             "linecolor": "#506784",
             "minorgridcolor": "#506784",
             "startlinecolor": "#A2B1C6"
            },
            "baxis": {
             "endlinecolor": "#A2B1C6",
             "gridcolor": "#506784",
             "linecolor": "#506784",
             "minorgridcolor": "#506784",
             "startlinecolor": "#A2B1C6"
            },
            "type": "carpet"
           }
          ],
          "table": [
           {
            "cells": {
             "fill": {
              "color": "#506784"
             },
             "line": {
              "color": "rgb(17,17,17)"
             }
            },
            "header": {
             "fill": {
              "color": "#2a3f5f"
             },
             "line": {
              "color": "rgb(17,17,17)"
             }
            },
            "type": "table"
           }
          ],
          "barpolar": [
           {
            "marker": {
             "line": {
              "color": "rgb(17,17,17)",
              "width": 0.5
             },
             "pattern": {
              "fillmode": "overlay",
              "size": 10,
              "solidity": 0.2
             }
            },
            "type": "barpolar"
           }
          ],
          "pie": [
           {
            "automargin": true,
            "type": "pie"
           }
          ]
         },
         "layout": {
          "autotypenumbers": "strict",
          "colorway": [
           "#636efa",
           "#EF553B",
           "#00cc96",
           "#ab63fa",
           "#FFA15A",
           "#19d3f3",
           "#FF6692",
           "#B6E880",
           "#FF97FF",
           "#FECB52"
          ],
          "font": {
           "color": "#f2f5fa"
          },
          "hovermode": "closest",
          "hoverlabel": {
           "align": "left"
          },
          "paper_bgcolor": "rgb(17,17,17)",
          "plot_bgcolor": "rgb(17,17,17)",
          "polar": {
           "bgcolor": "rgb(17,17,17)",
           "angularaxis": {
            "gridcolor": "#506784",
            "linecolor": "#506784",
            "ticks": ""
           },
           "radialaxis": {
            "gridcolor": "#506784",
            "linecolor": "#506784",
            "ticks": ""
           }
          },
          "ternary": {
           "bgcolor": "rgb(17,17,17)",
           "aaxis": {
            "gridcolor": "#506784",
            "linecolor": "#506784",
            "ticks": ""
           },
           "baxis": {
            "gridcolor": "#506784",
            "linecolor": "#506784",
            "ticks": ""
           },
           "caxis": {
            "gridcolor": "#506784",
            "linecolor": "#506784",
            "ticks": ""
           }
          },
          "coloraxis": {
           "colorbar": {
            "outlinewidth": 0,
            "ticks": ""
           }
          },
          "colorscale": {
           "sequential": [
            [
             0.0,
             "#0d0887"
            ],
            [
             0.1111111111111111,
             "#46039f"
            ],
            [
             0.2222222222222222,
             "#7201a8"
            ],
            [
             0.3333333333333333,
             "#9c179e"
            ],
            [
             0.4444444444444444,
             "#bd3786"
            ],
            [
             0.5555555555555556,
             "#d8576b"
            ],
            [
             0.6666666666666666,
             "#ed7953"
            ],
            [
             0.7777777777777778,
             "#fb9f3a"
            ],
            [
             0.8888888888888888,
             "#fdca26"
            ],
            [
             1.0,
             "#f0f921"
            ]
           ],
           "sequentialminus": [
            [
             0.0,
             "#0d0887"
            ],
            [
             0.1111111111111111,
             "#46039f"
            ],
            [
             0.2222222222222222,
             "#7201a8"
            ],
            [
             0.3333333333333333,
             "#9c179e"
            ],
            [
             0.4444444444444444,
             "#bd3786"
            ],
            [
             0.5555555555555556,
             "#d8576b"
            ],
            [
             0.6666666666666666,
             "#ed7953"
            ],
            [
             0.7777777777777778,
             "#fb9f3a"
            ],
            [
             0.8888888888888888,
             "#fdca26"
            ],
            [
             1.0,
             "#f0f921"
            ]
           ],
           "diverging": [
            [
             0,
             "#8e0152"
            ],
            [
             0.1,
             "#c51b7d"
            ],
            [
             0.2,
             "#de77ae"
            ],
            [
             0.3,
             "#f1b6da"
            ],
            [
             0.4,
             "#fde0ef"
            ],
            [
             0.5,
             "#f7f7f7"
            ],
            [
             0.6,
             "#e6f5d0"
            ],
            [
             0.7,
             "#b8e186"
            ],
            [
             0.8,
             "#7fbc41"
            ],
            [
             0.9,
             "#4d9221"
            ],
            [
             1,
             "#276419"
            ]
           ]
          },
          "xaxis": {
           "gridcolor": "#283442",
           "linecolor": "#506784",
           "ticks": "",
           "title": {
            "standoff": 15
           },
           "zerolinecolor": "#283442",
           "automargin": true,
           "zerolinewidth": 2
          },
          "yaxis": {
           "gridcolor": "#283442",
           "linecolor": "#506784",
           "ticks": "",
           "title": {
            "standoff": 15
           },
           "zerolinecolor": "#283442",
           "automargin": true,
           "zerolinewidth": 2
          },
          "scene": {
           "xaxis": {
            "backgroundcolor": "rgb(17,17,17)",
            "gridcolor": "#506784",
            "linecolor": "#506784",
            "showbackground": true,
            "ticks": "",
            "zerolinecolor": "#C8D4E3",
            "gridwidth": 2
           },
           "yaxis": {
            "backgroundcolor": "rgb(17,17,17)",
            "gridcolor": "#506784",
            "linecolor": "#506784",
            "showbackground": true,
            "ticks": "",
            "zerolinecolor": "#C8D4E3",
            "gridwidth": 2
           },
           "zaxis": {
            "backgroundcolor": "rgb(17,17,17)",
            "gridcolor": "#506784",
            "linecolor": "#506784",
            "showbackground": true,
            "ticks": "",
            "zerolinecolor": "#C8D4E3",
            "gridwidth": 2
           }
          },
          "shapedefaults": {
           "line": {
            "color": "#f2f5fa"
           }
          },
          "annotationdefaults": {
           "arrowcolor": "#f2f5fa",
           "arrowhead": 0,
           "arrowwidth": 1
          },
          "geo": {
           "bgcolor": "rgb(17,17,17)",
           "landcolor": "rgb(17,17,17)",
           "subunitcolor": "#506784",
           "showland": true,
           "showlakes": true,
           "lakecolor": "rgb(17,17,17)"
          },
          "title": {
           "x": 0.05
          },
          "updatemenudefaults": {
           "bgcolor": "#506784",
           "borderwidth": 0
          },
          "sliderdefaults": {
           "bgcolor": "#C8D4E3",
           "borderwidth": 1,
           "bordercolor": "rgb(17,17,17)",
           "tickwidth": 0
          },
          "mapbox": {
           "style": "dark"
          }
         }
        },
        "xaxis": {
         "anchor": "y",
         "domain": [
          0.0,
          1.0
         ],
         "title": {
          "text": "date"
         }
        },
        "yaxis": {
         "anchor": "x",
         "domain": [
          0.0,
          1.0
         ],
         "title": {
          "text": "value"
         }
        },
        "legend": {
         "title": {},
         "tracegroupgap": 0,
         "yanchor": "top",
         "y": 0.99,
         "xanchor": "left",
         "x": 0.01
        },
        "title": {
         "text": "Weekly blood pressure"
        },
        "height": 500
       },
       "config": {
        "plotlyServerURL": "https://plot.ly"
       }
      },
      "text/html": "<div>                            <div id=\"b5632ced-5b28-45ea-8292-119ed1c61c62\" class=\"plotly-graph-div\" style=\"height:500px; width:100%;\"></div>            <script type=\"text/javascript\">                require([\"plotly\"], function(Plotly) {                    window.PLOTLYENV=window.PLOTLYENV || {};                                    if (document.getElementById(\"b5632ced-5b28-45ea-8292-119ed1c61c62\")) {                    Plotly.newPlot(                        \"b5632ced-5b28-45ea-8292-119ed1c61c62\",                        [{\"hovertemplate\":\"variable=bloodpressuresystolic_mmHg<br>date=%{x}<br>value=%{y}<extra></extra>\",\"legendgroup\":\"bloodpressuresystolic_mmHg\",\"line\":{\"color\":\"#636efa\",\"dash\":\"solid\"},\"marker\":{\"symbol\":\"circle\"},\"mode\":\"lines\",\"name\":\"bloodpressuresystolic_mmHg\",\"orientation\":\"v\",\"showlegend\":true,\"x\":[\"2020-01-05T00:00:00\",\"2020-01-12T00:00:00\",\"2020-01-19T00:00:00\",\"2020-01-26T00:00:00\",\"2020-02-02T00:00:00\",\"2020-02-09T00:00:00\",\"2020-02-16T00:00:00\",\"2020-02-23T00:00:00\",\"2020-03-01T00:00:00\",\"2020-03-08T00:00:00\",\"2020-03-15T00:00:00\",\"2020-03-22T00:00:00\",\"2020-03-29T00:00:00\",\"2020-04-05T00:00:00\",\"2020-04-12T00:00:00\",\"2020-04-19T00:00:00\",\"2020-04-26T00:00:00\",\"2020-05-03T00:00:00\",\"2020-05-10T00:00:00\",\"2020-05-17T00:00:00\",\"2020-05-24T00:00:00\",\"2020-05-31T00:00:00\",\"2020-06-07T00:00:00\",\"2020-06-14T00:00:00\",\"2020-06-21T00:00:00\",\"2020-06-28T00:00:00\",\"2020-07-05T00:00:00\",\"2020-07-12T00:00:00\",\"2020-07-19T00:00:00\",\"2020-07-26T00:00:00\",\"2020-08-02T00:00:00\",\"2020-08-09T00:00:00\",\"2020-08-16T00:00:00\",\"2020-08-23T00:00:00\",\"2020-08-30T00:00:00\",\"2020-09-06T00:00:00\",\"2020-09-13T00:00:00\",\"2020-09-20T00:00:00\",\"2020-09-27T00:00:00\",\"2020-10-04T00:00:00\",\"2020-10-11T00:00:00\",\"2020-10-18T00:00:00\",\"2020-10-25T00:00:00\",\"2020-11-01T00:00:00\",\"2020-11-08T00:00:00\",\"2020-11-15T00:00:00\",\"2020-11-22T00:00:00\",\"2020-11-29T00:00:00\",\"2020-12-06T00:00:00\",\"2020-12-13T00:00:00\",\"2020-12-20T00:00:00\",\"2020-12-27T00:00:00\",\"2021-01-03T00:00:00\",\"2021-01-10T00:00:00\",\"2021-01-17T00:00:00\",\"2021-01-24T00:00:00\",\"2021-01-31T00:00:00\",\"2021-02-07T00:00:00\",\"2021-02-14T00:00:00\",\"2021-02-21T00:00:00\",\"2021-02-28T00:00:00\",\"2021-03-07T00:00:00\",\"2021-03-14T00:00:00\",\"2021-03-21T00:00:00\",\"2021-03-28T00:00:00\",\"2021-04-04T00:00:00\",\"2021-04-11T00:00:00\",\"2021-04-18T00:00:00\",\"2021-04-25T00:00:00\",\"2021-05-02T00:00:00\",\"2021-05-09T00:00:00\",\"2021-05-16T00:00:00\",\"2021-05-23T00:00:00\",\"2021-05-30T00:00:00\",\"2021-06-06T00:00:00\",\"2021-06-13T00:00:00\",\"2021-06-20T00:00:00\",\"2021-06-27T00:00:00\",\"2021-07-04T00:00:00\",\"2021-07-11T00:00:00\",\"2021-07-18T00:00:00\",\"2021-07-25T00:00:00\",\"2021-08-01T00:00:00\",\"2021-08-08T00:00:00\",\"2021-08-15T00:00:00\",\"2021-08-22T00:00:00\",\"2021-08-29T00:00:00\",\"2021-09-05T00:00:00\",\"2021-09-12T00:00:00\",\"2021-09-19T00:00:00\",\"2021-09-26T00:00:00\",\"2021-10-03T00:00:00\",\"2021-10-10T00:00:00\",\"2021-10-17T00:00:00\",\"2021-10-24T00:00:00\",\"2021-10-31T00:00:00\",\"2021-11-07T00:00:00\",\"2021-11-14T00:00:00\",\"2021-11-21T00:00:00\",\"2021-11-28T00:00:00\",\"2021-12-05T00:00:00\",\"2021-12-12T00:00:00\",\"2021-12-19T00:00:00\",\"2021-12-26T00:00:00\",\"2022-01-02T00:00:00\",\"2022-01-09T00:00:00\",\"2022-01-16T00:00:00\",\"2022-01-23T00:00:00\",\"2022-01-30T00:00:00\",\"2022-02-06T00:00:00\",\"2022-02-13T00:00:00\",\"2022-02-20T00:00:00\",\"2022-02-27T00:00:00\",\"2022-03-06T00:00:00\",\"2022-03-13T00:00:00\",\"2022-03-20T00:00:00\",\"2022-03-27T00:00:00\",\"2022-04-03T00:00:00\"],\"xaxis\":\"x\",\"y\":[null,null,125.11112370430988,124.09897872340424,122.04227659574468,119.16289361702127,116.28351063829787,113.40412765957446,110.52474468085107,108.37977905073649,107.44588979814512,107.72307692307692,108.47692307692307,109.23076923076923,109.98461538461538,110.73846153846154,111.49230769230769,112.24615384615385,113.0,113.75384615384615,114.50769230769231,115.26153846153846,116.01538461538462,116.76923076923077,117.52307692307693,118.27692307692308,119.03076923076924,119.78461538461539,120.53846153846155,121.29230769230769,122.04615384615384,122.8,123.55384615384615,124.3076923076923,125.06153846153846,125.81538461538462,126.46153846153845,126.70646648130986,126.4377108433735,125.76296385542169,124.97575903614457,124.18855421686747,123.40134939759037,122.61414457831324,121.82693975903614,121.03973493975904,120.25253012048192,119.46532530120481,118.6781204819277,118.12239493107565,117.85710251818084,117.88224324324324,117.96633783783784,118.05043243243243,118.13452702702703,118.21862162162161,118.30271621621621,118.3868108108108,118.4709054054054,118.555,118.6390945945946,118.7231891891892,118.80728378378377,118.89137837837838,118.97547297297297,119.05956756756757,119.14366216216216,119.22775675675676,119.31185135135134,119.39594594594594,119.48004054054053,119.56413513513513,119.64822972972974,119.73232432432432,119.81641891891893,119.9005135135135,119.9846081081081,120.0687027027027,120.1527972972973,120.2368918918919,120.32098648648649,120.40508108108106,120.48917567567567,120.57327027027027,120.65736486486487,120.74145945945946,120.82555405405405,120.90964864864866,120.99374324324323,121.07783783783783,121.16193243243242,121.24602702702703,121.33012162162163,121.41421621621622,121.49831081081082,121.5824054054054,121.6665,121.75059459459459,121.83468918918919,121.91878378378378,122.00287837837838,122.08697297297296,122.17106756756756,122.25516216216215,122.33925675675675,122.42335135135136,122.50744594594595,122.59154054054055,122.67563513513512,122.75972972972973,122.84382432432432,122.99534298584298,123.61883011583011,124.64285714285715,126.79351190476189,128.99974999999998,128.92552777777777,128.14777777777778],\"yaxis\":\"y\",\"type\":\"scatter\"},{\"hovertemplate\":\"variable=bloodpressurediastolic_mmHg<br>date=%{x}<br>value=%{y}<extra></extra>\",\"legendgroup\":\"bloodpressurediastolic_mmHg\",\"line\":{\"color\":\"#EF553B\",\"dash\":\"solid\"},\"marker\":{\"symbol\":\"circle\"},\"mode\":\"lines\",\"name\":\"bloodpressurediastolic_mmHg\",\"orientation\":\"v\",\"showlegend\":true,\"x\":[\"2020-01-05T00:00:00\",\"2020-01-12T00:00:00\",\"2020-01-19T00:00:00\",\"2020-01-26T00:00:00\",\"2020-02-02T00:00:00\",\"2020-02-09T00:00:00\",\"2020-02-16T00:00:00\",\"2020-02-23T00:00:00\",\"2020-03-01T00:00:00\",\"2020-03-08T00:00:00\",\"2020-03-15T00:00:00\",\"2020-03-22T00:00:00\",\"2020-03-29T00:00:00\",\"2020-04-05T00:00:00\",\"2020-04-12T00:00:00\",\"2020-04-19T00:00:00\",\"2020-04-26T00:00:00\",\"2020-05-03T00:00:00\",\"2020-05-10T00:00:00\",\"2020-05-17T00:00:00\",\"2020-05-24T00:00:00\",\"2020-05-31T00:00:00\",\"2020-06-07T00:00:00\",\"2020-06-14T00:00:00\",\"2020-06-21T00:00:00\",\"2020-06-28T00:00:00\",\"2020-07-05T00:00:00\",\"2020-07-12T00:00:00\",\"2020-07-19T00:00:00\",\"2020-07-26T00:00:00\",\"2020-08-02T00:00:00\",\"2020-08-09T00:00:00\",\"2020-08-16T00:00:00\",\"2020-08-23T00:00:00\",\"2020-08-30T00:00:00\",\"2020-09-06T00:00:00\",\"2020-09-13T00:00:00\",\"2020-09-20T00:00:00\",\"2020-09-27T00:00:00\",\"2020-10-04T00:00:00\",\"2020-10-11T00:00:00\",\"2020-10-18T00:00:00\",\"2020-10-25T00:00:00\",\"2020-11-01T00:00:00\",\"2020-11-08T00:00:00\",\"2020-11-15T00:00:00\",\"2020-11-22T00:00:00\",\"2020-11-29T00:00:00\",\"2020-12-06T00:00:00\",\"2020-12-13T00:00:00\",\"2020-12-20T00:00:00\",\"2020-12-27T00:00:00\",\"2021-01-03T00:00:00\",\"2021-01-10T00:00:00\",\"2021-01-17T00:00:00\",\"2021-01-24T00:00:00\",\"2021-01-31T00:00:00\",\"2021-02-07T00:00:00\",\"2021-02-14T00:00:00\",\"2021-02-21T00:00:00\",\"2021-02-28T00:00:00\",\"2021-03-07T00:00:00\",\"2021-03-14T00:00:00\",\"2021-03-21T00:00:00\",\"2021-03-28T00:00:00\",\"2021-04-04T00:00:00\",\"2021-04-11T00:00:00\",\"2021-04-18T00:00:00\",\"2021-04-25T00:00:00\",\"2021-05-02T00:00:00\",\"2021-05-09T00:00:00\",\"2021-05-16T00:00:00\",\"2021-05-23T00:00:00\",\"2021-05-30T00:00:00\",\"2021-06-06T00:00:00\",\"2021-06-13T00:00:00\",\"2021-06-20T00:00:00\",\"2021-06-27T00:00:00\",\"2021-07-04T00:00:00\",\"2021-07-11T00:00:00\",\"2021-07-18T00:00:00\",\"2021-07-25T00:00:00\",\"2021-08-01T00:00:00\",\"2021-08-08T00:00:00\",\"2021-08-15T00:00:00\",\"2021-08-22T00:00:00\",\"2021-08-29T00:00:00\",\"2021-09-05T00:00:00\",\"2021-09-12T00:00:00\",\"2021-09-19T00:00:00\",\"2021-09-26T00:00:00\",\"2021-10-03T00:00:00\",\"2021-10-10T00:00:00\",\"2021-10-17T00:00:00\",\"2021-10-24T00:00:00\",\"2021-10-31T00:00:00\",\"2021-11-07T00:00:00\",\"2021-11-14T00:00:00\",\"2021-11-21T00:00:00\",\"2021-11-28T00:00:00\",\"2021-12-05T00:00:00\",\"2021-12-12T00:00:00\",\"2021-12-19T00:00:00\",\"2021-12-26T00:00:00\",\"2022-01-02T00:00:00\",\"2022-01-09T00:00:00\",\"2022-01-16T00:00:00\",\"2022-01-23T00:00:00\",\"2022-01-30T00:00:00\",\"2022-02-06T00:00:00\",\"2022-02-13T00:00:00\",\"2022-02-20T00:00:00\",\"2022-02-27T00:00:00\",\"2022-03-06T00:00:00\",\"2022-03-13T00:00:00\",\"2022-03-20T00:00:00\",\"2022-03-27T00:00:00\",\"2022-04-03T00:00:00\"],\"xaxis\":\"x\",\"y\":[null,null,82.81306210220039,82.17021276595744,80.7872340425532,78.85106382978724,76.91489361702128,74.97872340425532,73.04255319148936,71.57271718494273,70.89584560829242,71.01193846153846,71.45466153846154,71.89738461538461,72.3401076923077,72.78283076923077,73.22555384615384,73.66827692307692,74.111,74.55372307692308,74.99644615384615,75.43916923076922,75.88189230769231,76.32461538461538,76.76733846153846,77.21006153846155,77.65278461538462,78.09550769230769,78.53823076923076,78.98095384615385,79.42367692307693,79.8664,80.30912307692307,80.75184615384615,81.19456923076922,81.6372923076923,82.01676923076923,82.20582842137782,82.1723373493976,81.9795421686747,81.75461445783132,81.52968674698793,81.30475903614457,81.0798313253012,80.85490361445783,80.62997590361444,80.40504819277108,80.1801204819277,79.95519277108434,79.83612708491624,79.82532408914939,79.92278378378377,80.02264414414414,80.12250450450449,80.22236486486486,80.32222522522522,80.42208558558559,80.52194594594594,80.62180630630631,80.72166666666665,80.82152702702703,80.92138738738738,81.02124774774774,81.1211081081081,81.22096846846847,81.32082882882884,81.42068918918919,81.52054954954956,81.6204099099099,81.72027027027026,81.82013063063062,81.91999099099098,82.01985135135135,82.11971171171172,82.21957207207208,82.31943243243244,82.4192927927928,82.51915315315314,82.61901351351351,82.71887387387386,82.81873423423423,82.9185945945946,83.01845495495496,83.11831531531531,83.21817567567568,83.31803603603603,83.41789639639639,83.51775675675675,83.61761711711712,83.71747747747747,83.81733783783784,83.9171981981982,84.01705855855856,84.11691891891891,84.21677927927928,84.31663963963963,84.4165,84.51636036036037,84.61622072072072,84.71608108108109,84.81594144144144,84.9158018018018,85.01566216216216,85.11552252252251,85.21538288288288,85.31524324324324,85.4151036036036,85.51496396396396,85.61482432432433,85.7146846846847,85.81454504504505,85.96519776919776,86.47139703989704,87.27759523809523,88.99963095238097,90.77725,89.17415476190477,87.61857142857143],\"yaxis\":\"y\",\"type\":\"scatter\"}],                        {\"template\":{\"data\":{\"histogram2dcontour\":[{\"type\":\"histogram2dcontour\",\"colorbar\":{\"outlinewidth\":0,\"ticks\":\"\"},\"colorscale\":[[0.0,\"#0d0887\"],[0.1111111111111111,\"#46039f\"],[0.2222222222222222,\"#7201a8\"],[0.3333333333333333,\"#9c179e\"],[0.4444444444444444,\"#bd3786\"],[0.5555555555555556,\"#d8576b\"],[0.6666666666666666,\"#ed7953\"],[0.7777777777777778,\"#fb9f3a\"],[0.8888888888888888,\"#fdca26\"],[1.0,\"#f0f921\"]]}],\"choropleth\":[{\"type\":\"choropleth\",\"colorbar\":{\"outlinewidth\":0,\"ticks\":\"\"}}],\"histogram2d\":[{\"type\":\"histogram2d\",\"colorbar\":{\"outlinewidth\":0,\"ticks\":\"\"},\"colorscale\":[[0.0,\"#0d0887\"],[0.1111111111111111,\"#46039f\"],[0.2222222222222222,\"#7201a8\"],[0.3333333333333333,\"#9c179e\"],[0.4444444444444444,\"#bd3786\"],[0.5555555555555556,\"#d8576b\"],[0.6666666666666666,\"#ed7953\"],[0.7777777777777778,\"#fb9f3a\"],[0.8888888888888888,\"#fdca26\"],[1.0,\"#f0f921\"]]}],\"heatmap\":[{\"type\":\"heatmap\",\"colorbar\":{\"outlinewidth\":0,\"ticks\":\"\"},\"colorscale\":[[0.0,\"#0d0887\"],[0.1111111111111111,\"#46039f\"],[0.2222222222222222,\"#7201a8\"],[0.3333333333333333,\"#9c179e\"],[0.4444444444444444,\"#bd3786\"],[0.5555555555555556,\"#d8576b\"],[0.6666666666666666,\"#ed7953\"],[0.7777777777777778,\"#fb9f3a\"],[0.8888888888888888,\"#fdca26\"],[1.0,\"#f0f921\"]]}],\"heatmapgl\":[{\"type\":\"heatmapgl\",\"colorbar\":{\"outlinewidth\":0,\"ticks\":\"\"},\"colorscale\":[[0.0,\"#0d0887\"],[0.1111111111111111,\"#46039f\"],[0.2222222222222222,\"#7201a8\"],[0.3333333333333333,\"#9c179e\"],[0.4444444444444444,\"#bd3786\"],[0.5555555555555556,\"#d8576b\"],[0.6666666666666666,\"#ed7953\"],[0.7777777777777778,\"#fb9f3a\"],[0.8888888888888888,\"#fdca26\"],[1.0,\"#f0f921\"]]}],\"contourcarpet\":[{\"type\":\"contourcarpet\",\"colorbar\":{\"outlinewidth\":0,\"ticks\":\"\"}}],\"contour\":[{\"type\":\"contour\",\"colorbar\":{\"outlinewidth\":0,\"ticks\":\"\"},\"colorscale\":[[0.0,\"#0d0887\"],[0.1111111111111111,\"#46039f\"],[0.2222222222222222,\"#7201a8\"],[0.3333333333333333,\"#9c179e\"],[0.4444444444444444,\"#bd3786\"],[0.5555555555555556,\"#d8576b\"],[0.6666666666666666,\"#ed7953\"],[0.7777777777777778,\"#fb9f3a\"],[0.8888888888888888,\"#fdca26\"],[1.0,\"#f0f921\"]]}],\"surface\":[{\"type\":\"surface\",\"colorbar\":{\"outlinewidth\":0,\"ticks\":\"\"},\"colorscale\":[[0.0,\"#0d0887\"],[0.1111111111111111,\"#46039f\"],[0.2222222222222222,\"#7201a8\"],[0.3333333333333333,\"#9c179e\"],[0.4444444444444444,\"#bd3786\"],[0.5555555555555556,\"#d8576b\"],[0.6666666666666666,\"#ed7953\"],[0.7777777777777778,\"#fb9f3a\"],[0.8888888888888888,\"#fdca26\"],[1.0,\"#f0f921\"]]}],\"mesh3d\":[{\"type\":\"mesh3d\",\"colorbar\":{\"outlinewidth\":0,\"ticks\":\"\"}}],\"scatter\":[{\"marker\":{\"line\":{\"color\":\"#283442\"}},\"type\":\"scatter\"}],\"parcoords\":[{\"type\":\"parcoords\",\"line\":{\"colorbar\":{\"outlinewidth\":0,\"ticks\":\"\"}}}],\"scatterpolargl\":[{\"type\":\"scatterpolargl\",\"marker\":{\"colorbar\":{\"outlinewidth\":0,\"ticks\":\"\"}}}],\"bar\":[{\"error_x\":{\"color\":\"#f2f5fa\"},\"error_y\":{\"color\":\"#f2f5fa\"},\"marker\":{\"line\":{\"color\":\"rgb(17,17,17)\",\"width\":0.5},\"pattern\":{\"fillmode\":\"overlay\",\"size\":10,\"solidity\":0.2}},\"type\":\"bar\"}],\"scattergeo\":[{\"type\":\"scattergeo\",\"marker\":{\"colorbar\":{\"outlinewidth\":0,\"ticks\":\"\"}}}],\"scatterpolar\":[{\"type\":\"scatterpolar\",\"marker\":{\"colorbar\":{\"outlinewidth\":0,\"ticks\":\"\"}}}],\"histogram\":[{\"marker\":{\"pattern\":{\"fillmode\":\"overlay\",\"size\":10,\"solidity\":0.2}},\"type\":\"histogram\"}],\"scattergl\":[{\"marker\":{\"line\":{\"color\":\"#283442\"}},\"type\":\"scattergl\"}],\"scatter3d\":[{\"type\":\"scatter3d\",\"line\":{\"colorbar\":{\"outlinewidth\":0,\"ticks\":\"\"}},\"marker\":{\"colorbar\":{\"outlinewidth\":0,\"ticks\":\"\"}}}],\"scattermapbox\":[{\"type\":\"scattermapbox\",\"marker\":{\"colorbar\":{\"outlinewidth\":0,\"ticks\":\"\"}}}],\"scatterternary\":[{\"type\":\"scatterternary\",\"marker\":{\"colorbar\":{\"outlinewidth\":0,\"ticks\":\"\"}}}],\"scattercarpet\":[{\"type\":\"scattercarpet\",\"marker\":{\"colorbar\":{\"outlinewidth\":0,\"ticks\":\"\"}}}],\"carpet\":[{\"aaxis\":{\"endlinecolor\":\"#A2B1C6\",\"gridcolor\":\"#506784\",\"linecolor\":\"#506784\",\"minorgridcolor\":\"#506784\",\"startlinecolor\":\"#A2B1C6\"},\"baxis\":{\"endlinecolor\":\"#A2B1C6\",\"gridcolor\":\"#506784\",\"linecolor\":\"#506784\",\"minorgridcolor\":\"#506784\",\"startlinecolor\":\"#A2B1C6\"},\"type\":\"carpet\"}],\"table\":[{\"cells\":{\"fill\":{\"color\":\"#506784\"},\"line\":{\"color\":\"rgb(17,17,17)\"}},\"header\":{\"fill\":{\"color\":\"#2a3f5f\"},\"line\":{\"color\":\"rgb(17,17,17)\"}},\"type\":\"table\"}],\"barpolar\":[{\"marker\":{\"line\":{\"color\":\"rgb(17,17,17)\",\"width\":0.5},\"pattern\":{\"fillmode\":\"overlay\",\"size\":10,\"solidity\":0.2}},\"type\":\"barpolar\"}],\"pie\":[{\"automargin\":true,\"type\":\"pie\"}]},\"layout\":{\"autotypenumbers\":\"strict\",\"colorway\":[\"#636efa\",\"#EF553B\",\"#00cc96\",\"#ab63fa\",\"#FFA15A\",\"#19d3f3\",\"#FF6692\",\"#B6E880\",\"#FF97FF\",\"#FECB52\"],\"font\":{\"color\":\"#f2f5fa\"},\"hovermode\":\"closest\",\"hoverlabel\":{\"align\":\"left\"},\"paper_bgcolor\":\"rgb(17,17,17)\",\"plot_bgcolor\":\"rgb(17,17,17)\",\"polar\":{\"bgcolor\":\"rgb(17,17,17)\",\"angularaxis\":{\"gridcolor\":\"#506784\",\"linecolor\":\"#506784\",\"ticks\":\"\"},\"radialaxis\":{\"gridcolor\":\"#506784\",\"linecolor\":\"#506784\",\"ticks\":\"\"}},\"ternary\":{\"bgcolor\":\"rgb(17,17,17)\",\"aaxis\":{\"gridcolor\":\"#506784\",\"linecolor\":\"#506784\",\"ticks\":\"\"},\"baxis\":{\"gridcolor\":\"#506784\",\"linecolor\":\"#506784\",\"ticks\":\"\"},\"caxis\":{\"gridcolor\":\"#506784\",\"linecolor\":\"#506784\",\"ticks\":\"\"}},\"coloraxis\":{\"colorbar\":{\"outlinewidth\":0,\"ticks\":\"\"}},\"colorscale\":{\"sequential\":[[0.0,\"#0d0887\"],[0.1111111111111111,\"#46039f\"],[0.2222222222222222,\"#7201a8\"],[0.3333333333333333,\"#9c179e\"],[0.4444444444444444,\"#bd3786\"],[0.5555555555555556,\"#d8576b\"],[0.6666666666666666,\"#ed7953\"],[0.7777777777777778,\"#fb9f3a\"],[0.8888888888888888,\"#fdca26\"],[1.0,\"#f0f921\"]],\"sequentialminus\":[[0.0,\"#0d0887\"],[0.1111111111111111,\"#46039f\"],[0.2222222222222222,\"#7201a8\"],[0.3333333333333333,\"#9c179e\"],[0.4444444444444444,\"#bd3786\"],[0.5555555555555556,\"#d8576b\"],[0.6666666666666666,\"#ed7953\"],[0.7777777777777778,\"#fb9f3a\"],[0.8888888888888888,\"#fdca26\"],[1.0,\"#f0f921\"]],\"diverging\":[[0,\"#8e0152\"],[0.1,\"#c51b7d\"],[0.2,\"#de77ae\"],[0.3,\"#f1b6da\"],[0.4,\"#fde0ef\"],[0.5,\"#f7f7f7\"],[0.6,\"#e6f5d0\"],[0.7,\"#b8e186\"],[0.8,\"#7fbc41\"],[0.9,\"#4d9221\"],[1,\"#276419\"]]},\"xaxis\":{\"gridcolor\":\"#283442\",\"linecolor\":\"#506784\",\"ticks\":\"\",\"title\":{\"standoff\":15},\"zerolinecolor\":\"#283442\",\"automargin\":true,\"zerolinewidth\":2},\"yaxis\":{\"gridcolor\":\"#283442\",\"linecolor\":\"#506784\",\"ticks\":\"\",\"title\":{\"standoff\":15},\"zerolinecolor\":\"#283442\",\"automargin\":true,\"zerolinewidth\":2},\"scene\":{\"xaxis\":{\"backgroundcolor\":\"rgb(17,17,17)\",\"gridcolor\":\"#506784\",\"linecolor\":\"#506784\",\"showbackground\":true,\"ticks\":\"\",\"zerolinecolor\":\"#C8D4E3\",\"gridwidth\":2},\"yaxis\":{\"backgroundcolor\":\"rgb(17,17,17)\",\"gridcolor\":\"#506784\",\"linecolor\":\"#506784\",\"showbackground\":true,\"ticks\":\"\",\"zerolinecolor\":\"#C8D4E3\",\"gridwidth\":2},\"zaxis\":{\"backgroundcolor\":\"rgb(17,17,17)\",\"gridcolor\":\"#506784\",\"linecolor\":\"#506784\",\"showbackground\":true,\"ticks\":\"\",\"zerolinecolor\":\"#C8D4E3\",\"gridwidth\":2}},\"shapedefaults\":{\"line\":{\"color\":\"#f2f5fa\"}},\"annotationdefaults\":{\"arrowcolor\":\"#f2f5fa\",\"arrowhead\":0,\"arrowwidth\":1},\"geo\":{\"bgcolor\":\"rgb(17,17,17)\",\"landcolor\":\"rgb(17,17,17)\",\"subunitcolor\":\"#506784\",\"showland\":true,\"showlakes\":true,\"lakecolor\":\"rgb(17,17,17)\"},\"title\":{\"x\":0.05},\"updatemenudefaults\":{\"bgcolor\":\"#506784\",\"borderwidth\":0},\"sliderdefaults\":{\"bgcolor\":\"#C8D4E3\",\"borderwidth\":1,\"bordercolor\":\"rgb(17,17,17)\",\"tickwidth\":0},\"mapbox\":{\"style\":\"dark\"}}},\"xaxis\":{\"anchor\":\"y\",\"domain\":[0.0,1.0],\"title\":{\"text\":\"date\"}},\"yaxis\":{\"anchor\":\"x\",\"domain\":[0.0,1.0],\"title\":{\"text\":\"value\"}},\"legend\":{\"title\":{},\"tracegroupgap\":0,\"yanchor\":\"top\",\"y\":0.99,\"xanchor\":\"left\",\"x\":0.01},\"title\":{\"text\":\"Weekly blood pressure\"},\"height\":500},                        {\"responsive\": true}                    ).then(function(){\n                            \nvar gd = document.getElementById('b5632ced-5b28-45ea-8292-119ed1c61c62');\nvar x = new MutationObserver(function (mutations, observer) {{\n        var display = window.getComputedStyle(gd).display;\n        if (!display || display === 'none') {{\n            console.log([gd, 'removed!']);\n            Plotly.purge(gd);\n            observer.disconnect();\n        }}\n}});\n\n// Listen for the removal of the full notebook cells\nvar notebookContainer = gd.closest('#notebook-container');\nif (notebookContainer) {{\n    x.observe(notebookContainer, {childList: true});\n}}\n\n// Listen for the clearing of the current output cell\nvar outputEl = gd.closest('.output');\nif (outputEl) {{\n    x.observe(outputEl, {childList: true});\n}}\n\n                        })                };                });            </script>        </div>"
     },
     "metadata": {},
     "output_type": "display_data"
    }
   ],
   "source": [
    "dff = df_filtered.resample('W').max()\n",
    "both = [\"bloodpressuresystolic_mmHg\", \"bloodpressurediastolic_mmHg\"]\n",
    "for _ in both:\n",
    "    dff[_] = dff[_].rolling(3).mean()\n",
    "l = px.line(dff, y=both, title=\"Weekly blood pressure\", height=500)\n",
    "l.update_layout(legend=dict(yanchor=\"top\", y=0.99, xanchor=\"left\", x=0.01), legend_title_text=None)"
   ],
   "metadata": {
    "collapsed": false,
    "pycharm": {
     "name": "#%%\n"
    }
   }
  },
  {
   "cell_type": "code",
   "execution_count": 84,
   "outputs": [
    {
     "data": {
      "application/vnd.plotly.v1+json": {
       "data": [
        {
         "hovertemplate": "date=%{x}<br>bodymass_kg=%{y}<extra></extra>",
         "legendgroup": "",
         "line": {
          "color": "#636efa",
          "dash": "solid"
         },
         "marker": {
          "symbol": "circle"
         },
         "mode": "lines",
         "name": "",
         "orientation": "v",
         "showlegend": false,
         "x": [
          "2020-01-05T00:00:00",
          "2020-01-12T00:00:00",
          "2020-01-19T00:00:00",
          "2020-01-26T00:00:00",
          "2020-02-02T00:00:00",
          "2020-02-09T00:00:00",
          "2020-02-16T00:00:00",
          "2020-02-23T00:00:00",
          "2020-03-01T00:00:00",
          "2020-03-08T00:00:00",
          "2020-03-15T00:00:00",
          "2020-03-22T00:00:00",
          "2020-03-29T00:00:00",
          "2020-04-05T00:00:00",
          "2020-04-12T00:00:00",
          "2020-04-19T00:00:00",
          "2020-04-26T00:00:00",
          "2020-05-03T00:00:00",
          "2020-05-10T00:00:00",
          "2020-05-17T00:00:00",
          "2020-05-24T00:00:00",
          "2020-05-31T00:00:00",
          "2020-06-07T00:00:00",
          "2020-06-14T00:00:00",
          "2020-06-21T00:00:00",
          "2020-06-28T00:00:00",
          "2020-07-05T00:00:00",
          "2020-07-12T00:00:00",
          "2020-07-19T00:00:00",
          "2020-07-26T00:00:00",
          "2020-08-02T00:00:00",
          "2020-08-09T00:00:00",
          "2020-08-16T00:00:00",
          "2020-08-23T00:00:00",
          "2020-08-30T00:00:00",
          "2020-09-06T00:00:00",
          "2020-09-13T00:00:00",
          "2020-09-20T00:00:00",
          "2020-09-27T00:00:00",
          "2020-10-04T00:00:00",
          "2020-10-11T00:00:00",
          "2020-10-18T00:00:00",
          "2020-10-25T00:00:00",
          "2020-11-01T00:00:00",
          "2020-11-08T00:00:00",
          "2020-11-15T00:00:00",
          "2020-11-22T00:00:00",
          "2020-11-29T00:00:00",
          "2020-12-06T00:00:00",
          "2020-12-13T00:00:00",
          "2020-12-20T00:00:00",
          "2020-12-27T00:00:00",
          "2021-01-03T00:00:00",
          "2021-01-10T00:00:00",
          "2021-01-17T00:00:00",
          "2021-01-24T00:00:00",
          "2021-01-31T00:00:00",
          "2021-02-07T00:00:00",
          "2021-02-14T00:00:00",
          "2021-02-21T00:00:00",
          "2021-02-28T00:00:00",
          "2021-03-07T00:00:00",
          "2021-03-14T00:00:00",
          "2021-03-21T00:00:00",
          "2021-03-28T00:00:00",
          "2021-04-04T00:00:00",
          "2021-04-11T00:00:00",
          "2021-04-18T00:00:00",
          "2021-04-25T00:00:00",
          "2021-05-02T00:00:00",
          "2021-05-09T00:00:00",
          "2021-05-16T00:00:00",
          "2021-05-23T00:00:00",
          "2021-05-30T00:00:00",
          "2021-06-06T00:00:00",
          "2021-06-13T00:00:00",
          "2021-06-20T00:00:00",
          "2021-06-27T00:00:00",
          "2021-07-04T00:00:00",
          "2021-07-11T00:00:00",
          "2021-07-18T00:00:00",
          "2021-07-25T00:00:00",
          "2021-08-01T00:00:00",
          "2021-08-08T00:00:00",
          "2021-08-15T00:00:00",
          "2021-08-22T00:00:00",
          "2021-08-29T00:00:00",
          "2021-09-05T00:00:00",
          "2021-09-12T00:00:00",
          "2021-09-19T00:00:00",
          "2021-09-26T00:00:00",
          "2021-10-03T00:00:00",
          "2021-10-10T00:00:00",
          "2021-10-17T00:00:00",
          "2021-10-24T00:00:00",
          "2021-10-31T00:00:00",
          "2021-11-07T00:00:00",
          "2021-11-14T00:00:00",
          "2021-11-21T00:00:00",
          "2021-11-28T00:00:00",
          "2021-12-05T00:00:00",
          "2021-12-12T00:00:00",
          "2021-12-19T00:00:00",
          "2021-12-26T00:00:00",
          "2022-01-02T00:00:00",
          "2022-01-09T00:00:00",
          "2022-01-16T00:00:00",
          "2022-01-23T00:00:00",
          "2022-01-30T00:00:00",
          "2022-02-06T00:00:00",
          "2022-02-13T00:00:00",
          "2022-02-20T00:00:00",
          "2022-02-27T00:00:00",
          "2022-03-06T00:00:00",
          "2022-03-13T00:00:00",
          "2022-03-20T00:00:00",
          "2022-03-27T00:00:00",
          "2022-04-03T00:00:00"
         ],
         "xaxis": "x",
         "y": [
          null,
          null,
          null,
          null,
          83.85945555555557,
          83.98762222222224,
          83.74107777777779,
          83.41643148148148,
          83.25768333333333,
          83.02332777777778,
          82.67079444444444,
          82.65269444444445,
          82.51722777777778,
          82.07898333333334,
          81.68066196581196,
          81.47556196581196,
          81.27363888888888,
          81.22945555555556,
          81.26716666666667,
          81.2672435897436,
          81.23007692307692,
          81.15566666666666,
          81.04566666666668,
          80.91733333333335,
          80.79436666666666,
          80.69018333333334,
          80.60478333333334,
          80.53816666666667,
          80.49033333333333,
          80.459245,
          80.43738499999999,
          80.42475333333331,
          80.42134999999999,
          80.42717499999999,
          80.43889999999999,
          80.450625,
          80.46235,
          80.474075,
          80.48580000000001,
          80.497525,
          80.54178142857143,
          80.64296785714285,
          80.80108428571428,
          81.01613071428571,
          81.28810714285714,
          81.58448214285715,
          81.88085714285714,
          82.17723214285715,
          82.43973571428572,
          82.6310642857143,
          82.76570674603174,
          82.85375198412699,
          82.89627555555555,
          82.94001841269842,
          83.08051841269842,
          83.19862952380953,
          83.23476285714287,
          83.18784285714285,
          83.03383333333333,
          82.83083333333335,
          82.54871904761906,
          82.17845904761904,
          81.81785904761905,
          81.49824571428572,
          81.24944571428571,
          81.12231,
          81.17537,
          81.30757,
          81.43345000000001,
          81.32444277108434,
          81.201878313253,
          81.06575662650603,
          80.91932771084336,
          80.82789156626505,
          80.87385542168674,
          80.91981927710842,
          80.9657831325301,
          81.01174698795181,
          81.05771084337348,
          81.10367469879517,
          81.15201101549053,
          81.21695456110155,
          81.2948196213425,
          81.35440619621343,
          81.37299999999999,
          81.34822857142856,
          81.26585714285714,
          81.12957142857144,
          80.97057142857143,
          80.81157142857144,
          80.65257142857142,
          80.47202266009853,
          80.21605320197044,
          79.8846630541872,
          79.47785221674879,
          79.06971247648903,
          78.77369605015674,
          78.64367485893418,
          78.67964890282131,
          78.8816181818182,
          79.17549090909091,
          79.46936363636364,
          79.75484,
          79.93325181818182,
          79.88387409090909,
          79.60670681818182,
          79.10175,
          78.3774,
          77.59682043478261,
          77.3047602173913,
          77.5012193478261,
          78.14289720496895,
          78.9699900621118,
          79.92303105590062,
          80.60079627329193,
          80.87140000000001,
          null,
          null
         ],
         "yaxis": "y",
         "type": "scatter"
        }
       ],
       "layout": {
        "template": {
         "data": {
          "histogram2dcontour": [
           {
            "type": "histogram2dcontour",
            "colorbar": {
             "outlinewidth": 0,
             "ticks": ""
            },
            "colorscale": [
             [
              0.0,
              "#0d0887"
             ],
             [
              0.1111111111111111,
              "#46039f"
             ],
             [
              0.2222222222222222,
              "#7201a8"
             ],
             [
              0.3333333333333333,
              "#9c179e"
             ],
             [
              0.4444444444444444,
              "#bd3786"
             ],
             [
              0.5555555555555556,
              "#d8576b"
             ],
             [
              0.6666666666666666,
              "#ed7953"
             ],
             [
              0.7777777777777778,
              "#fb9f3a"
             ],
             [
              0.8888888888888888,
              "#fdca26"
             ],
             [
              1.0,
              "#f0f921"
             ]
            ]
           }
          ],
          "choropleth": [
           {
            "type": "choropleth",
            "colorbar": {
             "outlinewidth": 0,
             "ticks": ""
            }
           }
          ],
          "histogram2d": [
           {
            "type": "histogram2d",
            "colorbar": {
             "outlinewidth": 0,
             "ticks": ""
            },
            "colorscale": [
             [
              0.0,
              "#0d0887"
             ],
             [
              0.1111111111111111,
              "#46039f"
             ],
             [
              0.2222222222222222,
              "#7201a8"
             ],
             [
              0.3333333333333333,
              "#9c179e"
             ],
             [
              0.4444444444444444,
              "#bd3786"
             ],
             [
              0.5555555555555556,
              "#d8576b"
             ],
             [
              0.6666666666666666,
              "#ed7953"
             ],
             [
              0.7777777777777778,
              "#fb9f3a"
             ],
             [
              0.8888888888888888,
              "#fdca26"
             ],
             [
              1.0,
              "#f0f921"
             ]
            ]
           }
          ],
          "heatmap": [
           {
            "type": "heatmap",
            "colorbar": {
             "outlinewidth": 0,
             "ticks": ""
            },
            "colorscale": [
             [
              0.0,
              "#0d0887"
             ],
             [
              0.1111111111111111,
              "#46039f"
             ],
             [
              0.2222222222222222,
              "#7201a8"
             ],
             [
              0.3333333333333333,
              "#9c179e"
             ],
             [
              0.4444444444444444,
              "#bd3786"
             ],
             [
              0.5555555555555556,
              "#d8576b"
             ],
             [
              0.6666666666666666,
              "#ed7953"
             ],
             [
              0.7777777777777778,
              "#fb9f3a"
             ],
             [
              0.8888888888888888,
              "#fdca26"
             ],
             [
              1.0,
              "#f0f921"
             ]
            ]
           }
          ],
          "heatmapgl": [
           {
            "type": "heatmapgl",
            "colorbar": {
             "outlinewidth": 0,
             "ticks": ""
            },
            "colorscale": [
             [
              0.0,
              "#0d0887"
             ],
             [
              0.1111111111111111,
              "#46039f"
             ],
             [
              0.2222222222222222,
              "#7201a8"
             ],
             [
              0.3333333333333333,
              "#9c179e"
             ],
             [
              0.4444444444444444,
              "#bd3786"
             ],
             [
              0.5555555555555556,
              "#d8576b"
             ],
             [
              0.6666666666666666,
              "#ed7953"
             ],
             [
              0.7777777777777778,
              "#fb9f3a"
             ],
             [
              0.8888888888888888,
              "#fdca26"
             ],
             [
              1.0,
              "#f0f921"
             ]
            ]
           }
          ],
          "contourcarpet": [
           {
            "type": "contourcarpet",
            "colorbar": {
             "outlinewidth": 0,
             "ticks": ""
            }
           }
          ],
          "contour": [
           {
            "type": "contour",
            "colorbar": {
             "outlinewidth": 0,
             "ticks": ""
            },
            "colorscale": [
             [
              0.0,
              "#0d0887"
             ],
             [
              0.1111111111111111,
              "#46039f"
             ],
             [
              0.2222222222222222,
              "#7201a8"
             ],
             [
              0.3333333333333333,
              "#9c179e"
             ],
             [
              0.4444444444444444,
              "#bd3786"
             ],
             [
              0.5555555555555556,
              "#d8576b"
             ],
             [
              0.6666666666666666,
              "#ed7953"
             ],
             [
              0.7777777777777778,
              "#fb9f3a"
             ],
             [
              0.8888888888888888,
              "#fdca26"
             ],
             [
              1.0,
              "#f0f921"
             ]
            ]
           }
          ],
          "surface": [
           {
            "type": "surface",
            "colorbar": {
             "outlinewidth": 0,
             "ticks": ""
            },
            "colorscale": [
             [
              0.0,
              "#0d0887"
             ],
             [
              0.1111111111111111,
              "#46039f"
             ],
             [
              0.2222222222222222,
              "#7201a8"
             ],
             [
              0.3333333333333333,
              "#9c179e"
             ],
             [
              0.4444444444444444,
              "#bd3786"
             ],
             [
              0.5555555555555556,
              "#d8576b"
             ],
             [
              0.6666666666666666,
              "#ed7953"
             ],
             [
              0.7777777777777778,
              "#fb9f3a"
             ],
             [
              0.8888888888888888,
              "#fdca26"
             ],
             [
              1.0,
              "#f0f921"
             ]
            ]
           }
          ],
          "mesh3d": [
           {
            "type": "mesh3d",
            "colorbar": {
             "outlinewidth": 0,
             "ticks": ""
            }
           }
          ],
          "scatter": [
           {
            "marker": {
             "line": {
              "color": "#283442"
             }
            },
            "type": "scatter"
           }
          ],
          "parcoords": [
           {
            "type": "parcoords",
            "line": {
             "colorbar": {
              "outlinewidth": 0,
              "ticks": ""
             }
            }
           }
          ],
          "scatterpolargl": [
           {
            "type": "scatterpolargl",
            "marker": {
             "colorbar": {
              "outlinewidth": 0,
              "ticks": ""
             }
            }
           }
          ],
          "bar": [
           {
            "error_x": {
             "color": "#f2f5fa"
            },
            "error_y": {
             "color": "#f2f5fa"
            },
            "marker": {
             "line": {
              "color": "rgb(17,17,17)",
              "width": 0.5
             },
             "pattern": {
              "fillmode": "overlay",
              "size": 10,
              "solidity": 0.2
             }
            },
            "type": "bar"
           }
          ],
          "scattergeo": [
           {
            "type": "scattergeo",
            "marker": {
             "colorbar": {
              "outlinewidth": 0,
              "ticks": ""
             }
            }
           }
          ],
          "scatterpolar": [
           {
            "type": "scatterpolar",
            "marker": {
             "colorbar": {
              "outlinewidth": 0,
              "ticks": ""
             }
            }
           }
          ],
          "histogram": [
           {
            "marker": {
             "pattern": {
              "fillmode": "overlay",
              "size": 10,
              "solidity": 0.2
             }
            },
            "type": "histogram"
           }
          ],
          "scattergl": [
           {
            "marker": {
             "line": {
              "color": "#283442"
             }
            },
            "type": "scattergl"
           }
          ],
          "scatter3d": [
           {
            "type": "scatter3d",
            "line": {
             "colorbar": {
              "outlinewidth": 0,
              "ticks": ""
             }
            },
            "marker": {
             "colorbar": {
              "outlinewidth": 0,
              "ticks": ""
             }
            }
           }
          ],
          "scattermapbox": [
           {
            "type": "scattermapbox",
            "marker": {
             "colorbar": {
              "outlinewidth": 0,
              "ticks": ""
             }
            }
           }
          ],
          "scatterternary": [
           {
            "type": "scatterternary",
            "marker": {
             "colorbar": {
              "outlinewidth": 0,
              "ticks": ""
             }
            }
           }
          ],
          "scattercarpet": [
           {
            "type": "scattercarpet",
            "marker": {
             "colorbar": {
              "outlinewidth": 0,
              "ticks": ""
             }
            }
           }
          ],
          "carpet": [
           {
            "aaxis": {
             "endlinecolor": "#A2B1C6",
             "gridcolor": "#506784",
             "linecolor": "#506784",
             "minorgridcolor": "#506784",
             "startlinecolor": "#A2B1C6"
            },
            "baxis": {
             "endlinecolor": "#A2B1C6",
             "gridcolor": "#506784",
             "linecolor": "#506784",
             "minorgridcolor": "#506784",
             "startlinecolor": "#A2B1C6"
            },
            "type": "carpet"
           }
          ],
          "table": [
           {
            "cells": {
             "fill": {
              "color": "#506784"
             },
             "line": {
              "color": "rgb(17,17,17)"
             }
            },
            "header": {
             "fill": {
              "color": "#2a3f5f"
             },
             "line": {
              "color": "rgb(17,17,17)"
             }
            },
            "type": "table"
           }
          ],
          "barpolar": [
           {
            "marker": {
             "line": {
              "color": "rgb(17,17,17)",
              "width": 0.5
             },
             "pattern": {
              "fillmode": "overlay",
              "size": 10,
              "solidity": 0.2
             }
            },
            "type": "barpolar"
           }
          ],
          "pie": [
           {
            "automargin": true,
            "type": "pie"
           }
          ]
         },
         "layout": {
          "autotypenumbers": "strict",
          "colorway": [
           "#636efa",
           "#EF553B",
           "#00cc96",
           "#ab63fa",
           "#FFA15A",
           "#19d3f3",
           "#FF6692",
           "#B6E880",
           "#FF97FF",
           "#FECB52"
          ],
          "font": {
           "color": "#f2f5fa"
          },
          "hovermode": "closest",
          "hoverlabel": {
           "align": "left"
          },
          "paper_bgcolor": "rgb(17,17,17)",
          "plot_bgcolor": "rgb(17,17,17)",
          "polar": {
           "bgcolor": "rgb(17,17,17)",
           "angularaxis": {
            "gridcolor": "#506784",
            "linecolor": "#506784",
            "ticks": ""
           },
           "radialaxis": {
            "gridcolor": "#506784",
            "linecolor": "#506784",
            "ticks": ""
           }
          },
          "ternary": {
           "bgcolor": "rgb(17,17,17)",
           "aaxis": {
            "gridcolor": "#506784",
            "linecolor": "#506784",
            "ticks": ""
           },
           "baxis": {
            "gridcolor": "#506784",
            "linecolor": "#506784",
            "ticks": ""
           },
           "caxis": {
            "gridcolor": "#506784",
            "linecolor": "#506784",
            "ticks": ""
           }
          },
          "coloraxis": {
           "colorbar": {
            "outlinewidth": 0,
            "ticks": ""
           }
          },
          "colorscale": {
           "sequential": [
            [
             0.0,
             "#0d0887"
            ],
            [
             0.1111111111111111,
             "#46039f"
            ],
            [
             0.2222222222222222,
             "#7201a8"
            ],
            [
             0.3333333333333333,
             "#9c179e"
            ],
            [
             0.4444444444444444,
             "#bd3786"
            ],
            [
             0.5555555555555556,
             "#d8576b"
            ],
            [
             0.6666666666666666,
             "#ed7953"
            ],
            [
             0.7777777777777778,
             "#fb9f3a"
            ],
            [
             0.8888888888888888,
             "#fdca26"
            ],
            [
             1.0,
             "#f0f921"
            ]
           ],
           "sequentialminus": [
            [
             0.0,
             "#0d0887"
            ],
            [
             0.1111111111111111,
             "#46039f"
            ],
            [
             0.2222222222222222,
             "#7201a8"
            ],
            [
             0.3333333333333333,
             "#9c179e"
            ],
            [
             0.4444444444444444,
             "#bd3786"
            ],
            [
             0.5555555555555556,
             "#d8576b"
            ],
            [
             0.6666666666666666,
             "#ed7953"
            ],
            [
             0.7777777777777778,
             "#fb9f3a"
            ],
            [
             0.8888888888888888,
             "#fdca26"
            ],
            [
             1.0,
             "#f0f921"
            ]
           ],
           "diverging": [
            [
             0,
             "#8e0152"
            ],
            [
             0.1,
             "#c51b7d"
            ],
            [
             0.2,
             "#de77ae"
            ],
            [
             0.3,
             "#f1b6da"
            ],
            [
             0.4,
             "#fde0ef"
            ],
            [
             0.5,
             "#f7f7f7"
            ],
            [
             0.6,
             "#e6f5d0"
            ],
            [
             0.7,
             "#b8e186"
            ],
            [
             0.8,
             "#7fbc41"
            ],
            [
             0.9,
             "#4d9221"
            ],
            [
             1,
             "#276419"
            ]
           ]
          },
          "xaxis": {
           "gridcolor": "#283442",
           "linecolor": "#506784",
           "ticks": "",
           "title": {
            "standoff": 15
           },
           "zerolinecolor": "#283442",
           "automargin": true,
           "zerolinewidth": 2
          },
          "yaxis": {
           "gridcolor": "#283442",
           "linecolor": "#506784",
           "ticks": "",
           "title": {
            "standoff": 15
           },
           "zerolinecolor": "#283442",
           "automargin": true,
           "zerolinewidth": 2
          },
          "scene": {
           "xaxis": {
            "backgroundcolor": "rgb(17,17,17)",
            "gridcolor": "#506784",
            "linecolor": "#506784",
            "showbackground": true,
            "ticks": "",
            "zerolinecolor": "#C8D4E3",
            "gridwidth": 2
           },
           "yaxis": {
            "backgroundcolor": "rgb(17,17,17)",
            "gridcolor": "#506784",
            "linecolor": "#506784",
            "showbackground": true,
            "ticks": "",
            "zerolinecolor": "#C8D4E3",
            "gridwidth": 2
           },
           "zaxis": {
            "backgroundcolor": "rgb(17,17,17)",
            "gridcolor": "#506784",
            "linecolor": "#506784",
            "showbackground": true,
            "ticks": "",
            "zerolinecolor": "#C8D4E3",
            "gridwidth": 2
           }
          },
          "shapedefaults": {
           "line": {
            "color": "#f2f5fa"
           }
          },
          "annotationdefaults": {
           "arrowcolor": "#f2f5fa",
           "arrowhead": 0,
           "arrowwidth": 1
          },
          "geo": {
           "bgcolor": "rgb(17,17,17)",
           "landcolor": "rgb(17,17,17)",
           "subunitcolor": "#506784",
           "showland": true,
           "showlakes": true,
           "lakecolor": "rgb(17,17,17)"
          },
          "title": {
           "x": 0.05
          },
          "updatemenudefaults": {
           "bgcolor": "#506784",
           "borderwidth": 0
          },
          "sliderdefaults": {
           "bgcolor": "#C8D4E3",
           "borderwidth": 1,
           "bordercolor": "rgb(17,17,17)",
           "tickwidth": 0
          },
          "mapbox": {
           "style": "dark"
          }
         }
        },
        "xaxis": {
         "anchor": "y",
         "domain": [
          0.0,
          1.0
         ],
         "title": {
          "text": "date"
         }
        },
        "yaxis": {
         "anchor": "x",
         "domain": [
          0.0,
          1.0
         ],
         "title": {
          "text": "bodymass_kg"
         }
        },
        "legend": {
         "tracegroupgap": 0,
         "yanchor": "top",
         "y": 0.99,
         "xanchor": "left",
         "x": 0.01
        },
        "title": {
         "text": "Average weight"
        },
        "height": 500
       },
       "config": {
        "plotlyServerURL": "https://plot.ly"
       }
      },
      "text/html": "<div>                            <div id=\"a3ad6621-efa2-4938-b7f3-3593a3f926b5\" class=\"plotly-graph-div\" style=\"height:500px; width:100%;\"></div>            <script type=\"text/javascript\">                require([\"plotly\"], function(Plotly) {                    window.PLOTLYENV=window.PLOTLYENV || {};                                    if (document.getElementById(\"a3ad6621-efa2-4938-b7f3-3593a3f926b5\")) {                    Plotly.newPlot(                        \"a3ad6621-efa2-4938-b7f3-3593a3f926b5\",                        [{\"hovertemplate\":\"date=%{x}<br>bodymass_kg=%{y}<extra></extra>\",\"legendgroup\":\"\",\"line\":{\"color\":\"#636efa\",\"dash\":\"solid\"},\"marker\":{\"symbol\":\"circle\"},\"mode\":\"lines\",\"name\":\"\",\"orientation\":\"v\",\"showlegend\":false,\"x\":[\"2020-01-05T00:00:00\",\"2020-01-12T00:00:00\",\"2020-01-19T00:00:00\",\"2020-01-26T00:00:00\",\"2020-02-02T00:00:00\",\"2020-02-09T00:00:00\",\"2020-02-16T00:00:00\",\"2020-02-23T00:00:00\",\"2020-03-01T00:00:00\",\"2020-03-08T00:00:00\",\"2020-03-15T00:00:00\",\"2020-03-22T00:00:00\",\"2020-03-29T00:00:00\",\"2020-04-05T00:00:00\",\"2020-04-12T00:00:00\",\"2020-04-19T00:00:00\",\"2020-04-26T00:00:00\",\"2020-05-03T00:00:00\",\"2020-05-10T00:00:00\",\"2020-05-17T00:00:00\",\"2020-05-24T00:00:00\",\"2020-05-31T00:00:00\",\"2020-06-07T00:00:00\",\"2020-06-14T00:00:00\",\"2020-06-21T00:00:00\",\"2020-06-28T00:00:00\",\"2020-07-05T00:00:00\",\"2020-07-12T00:00:00\",\"2020-07-19T00:00:00\",\"2020-07-26T00:00:00\",\"2020-08-02T00:00:00\",\"2020-08-09T00:00:00\",\"2020-08-16T00:00:00\",\"2020-08-23T00:00:00\",\"2020-08-30T00:00:00\",\"2020-09-06T00:00:00\",\"2020-09-13T00:00:00\",\"2020-09-20T00:00:00\",\"2020-09-27T00:00:00\",\"2020-10-04T00:00:00\",\"2020-10-11T00:00:00\",\"2020-10-18T00:00:00\",\"2020-10-25T00:00:00\",\"2020-11-01T00:00:00\",\"2020-11-08T00:00:00\",\"2020-11-15T00:00:00\",\"2020-11-22T00:00:00\",\"2020-11-29T00:00:00\",\"2020-12-06T00:00:00\",\"2020-12-13T00:00:00\",\"2020-12-20T00:00:00\",\"2020-12-27T00:00:00\",\"2021-01-03T00:00:00\",\"2021-01-10T00:00:00\",\"2021-01-17T00:00:00\",\"2021-01-24T00:00:00\",\"2021-01-31T00:00:00\",\"2021-02-07T00:00:00\",\"2021-02-14T00:00:00\",\"2021-02-21T00:00:00\",\"2021-02-28T00:00:00\",\"2021-03-07T00:00:00\",\"2021-03-14T00:00:00\",\"2021-03-21T00:00:00\",\"2021-03-28T00:00:00\",\"2021-04-04T00:00:00\",\"2021-04-11T00:00:00\",\"2021-04-18T00:00:00\",\"2021-04-25T00:00:00\",\"2021-05-02T00:00:00\",\"2021-05-09T00:00:00\",\"2021-05-16T00:00:00\",\"2021-05-23T00:00:00\",\"2021-05-30T00:00:00\",\"2021-06-06T00:00:00\",\"2021-06-13T00:00:00\",\"2021-06-20T00:00:00\",\"2021-06-27T00:00:00\",\"2021-07-04T00:00:00\",\"2021-07-11T00:00:00\",\"2021-07-18T00:00:00\",\"2021-07-25T00:00:00\",\"2021-08-01T00:00:00\",\"2021-08-08T00:00:00\",\"2021-08-15T00:00:00\",\"2021-08-22T00:00:00\",\"2021-08-29T00:00:00\",\"2021-09-05T00:00:00\",\"2021-09-12T00:00:00\",\"2021-09-19T00:00:00\",\"2021-09-26T00:00:00\",\"2021-10-03T00:00:00\",\"2021-10-10T00:00:00\",\"2021-10-17T00:00:00\",\"2021-10-24T00:00:00\",\"2021-10-31T00:00:00\",\"2021-11-07T00:00:00\",\"2021-11-14T00:00:00\",\"2021-11-21T00:00:00\",\"2021-11-28T00:00:00\",\"2021-12-05T00:00:00\",\"2021-12-12T00:00:00\",\"2021-12-19T00:00:00\",\"2021-12-26T00:00:00\",\"2022-01-02T00:00:00\",\"2022-01-09T00:00:00\",\"2022-01-16T00:00:00\",\"2022-01-23T00:00:00\",\"2022-01-30T00:00:00\",\"2022-02-06T00:00:00\",\"2022-02-13T00:00:00\",\"2022-02-20T00:00:00\",\"2022-02-27T00:00:00\",\"2022-03-06T00:00:00\",\"2022-03-13T00:00:00\",\"2022-03-20T00:00:00\",\"2022-03-27T00:00:00\",\"2022-04-03T00:00:00\"],\"xaxis\":\"x\",\"y\":[null,null,null,null,83.85945555555557,83.98762222222224,83.74107777777779,83.41643148148148,83.25768333333333,83.02332777777778,82.67079444444444,82.65269444444445,82.51722777777778,82.07898333333334,81.68066196581196,81.47556196581196,81.27363888888888,81.22945555555556,81.26716666666667,81.2672435897436,81.23007692307692,81.15566666666666,81.04566666666668,80.91733333333335,80.79436666666666,80.69018333333334,80.60478333333334,80.53816666666667,80.49033333333333,80.459245,80.43738499999999,80.42475333333331,80.42134999999999,80.42717499999999,80.43889999999999,80.450625,80.46235,80.474075,80.48580000000001,80.497525,80.54178142857143,80.64296785714285,80.80108428571428,81.01613071428571,81.28810714285714,81.58448214285715,81.88085714285714,82.17723214285715,82.43973571428572,82.6310642857143,82.76570674603174,82.85375198412699,82.89627555555555,82.94001841269842,83.08051841269842,83.19862952380953,83.23476285714287,83.18784285714285,83.03383333333333,82.83083333333335,82.54871904761906,82.17845904761904,81.81785904761905,81.49824571428572,81.24944571428571,81.12231,81.17537,81.30757,81.43345000000001,81.32444277108434,81.201878313253,81.06575662650603,80.91932771084336,80.82789156626505,80.87385542168674,80.91981927710842,80.9657831325301,81.01174698795181,81.05771084337348,81.10367469879517,81.15201101549053,81.21695456110155,81.2948196213425,81.35440619621343,81.37299999999999,81.34822857142856,81.26585714285714,81.12957142857144,80.97057142857143,80.81157142857144,80.65257142857142,80.47202266009853,80.21605320197044,79.8846630541872,79.47785221674879,79.06971247648903,78.77369605015674,78.64367485893418,78.67964890282131,78.8816181818182,79.17549090909091,79.46936363636364,79.75484,79.93325181818182,79.88387409090909,79.60670681818182,79.10175,78.3774,77.59682043478261,77.3047602173913,77.5012193478261,78.14289720496895,78.9699900621118,79.92303105590062,80.60079627329193,80.87140000000001,null,null],\"yaxis\":\"y\",\"type\":\"scatter\"}],                        {\"template\":{\"data\":{\"histogram2dcontour\":[{\"type\":\"histogram2dcontour\",\"colorbar\":{\"outlinewidth\":0,\"ticks\":\"\"},\"colorscale\":[[0.0,\"#0d0887\"],[0.1111111111111111,\"#46039f\"],[0.2222222222222222,\"#7201a8\"],[0.3333333333333333,\"#9c179e\"],[0.4444444444444444,\"#bd3786\"],[0.5555555555555556,\"#d8576b\"],[0.6666666666666666,\"#ed7953\"],[0.7777777777777778,\"#fb9f3a\"],[0.8888888888888888,\"#fdca26\"],[1.0,\"#f0f921\"]]}],\"choropleth\":[{\"type\":\"choropleth\",\"colorbar\":{\"outlinewidth\":0,\"ticks\":\"\"}}],\"histogram2d\":[{\"type\":\"histogram2d\",\"colorbar\":{\"outlinewidth\":0,\"ticks\":\"\"},\"colorscale\":[[0.0,\"#0d0887\"],[0.1111111111111111,\"#46039f\"],[0.2222222222222222,\"#7201a8\"],[0.3333333333333333,\"#9c179e\"],[0.4444444444444444,\"#bd3786\"],[0.5555555555555556,\"#d8576b\"],[0.6666666666666666,\"#ed7953\"],[0.7777777777777778,\"#fb9f3a\"],[0.8888888888888888,\"#fdca26\"],[1.0,\"#f0f921\"]]}],\"heatmap\":[{\"type\":\"heatmap\",\"colorbar\":{\"outlinewidth\":0,\"ticks\":\"\"},\"colorscale\":[[0.0,\"#0d0887\"],[0.1111111111111111,\"#46039f\"],[0.2222222222222222,\"#7201a8\"],[0.3333333333333333,\"#9c179e\"],[0.4444444444444444,\"#bd3786\"],[0.5555555555555556,\"#d8576b\"],[0.6666666666666666,\"#ed7953\"],[0.7777777777777778,\"#fb9f3a\"],[0.8888888888888888,\"#fdca26\"],[1.0,\"#f0f921\"]]}],\"heatmapgl\":[{\"type\":\"heatmapgl\",\"colorbar\":{\"outlinewidth\":0,\"ticks\":\"\"},\"colorscale\":[[0.0,\"#0d0887\"],[0.1111111111111111,\"#46039f\"],[0.2222222222222222,\"#7201a8\"],[0.3333333333333333,\"#9c179e\"],[0.4444444444444444,\"#bd3786\"],[0.5555555555555556,\"#d8576b\"],[0.6666666666666666,\"#ed7953\"],[0.7777777777777778,\"#fb9f3a\"],[0.8888888888888888,\"#fdca26\"],[1.0,\"#f0f921\"]]}],\"contourcarpet\":[{\"type\":\"contourcarpet\",\"colorbar\":{\"outlinewidth\":0,\"ticks\":\"\"}}],\"contour\":[{\"type\":\"contour\",\"colorbar\":{\"outlinewidth\":0,\"ticks\":\"\"},\"colorscale\":[[0.0,\"#0d0887\"],[0.1111111111111111,\"#46039f\"],[0.2222222222222222,\"#7201a8\"],[0.3333333333333333,\"#9c179e\"],[0.4444444444444444,\"#bd3786\"],[0.5555555555555556,\"#d8576b\"],[0.6666666666666666,\"#ed7953\"],[0.7777777777777778,\"#fb9f3a\"],[0.8888888888888888,\"#fdca26\"],[1.0,\"#f0f921\"]]}],\"surface\":[{\"type\":\"surface\",\"colorbar\":{\"outlinewidth\":0,\"ticks\":\"\"},\"colorscale\":[[0.0,\"#0d0887\"],[0.1111111111111111,\"#46039f\"],[0.2222222222222222,\"#7201a8\"],[0.3333333333333333,\"#9c179e\"],[0.4444444444444444,\"#bd3786\"],[0.5555555555555556,\"#d8576b\"],[0.6666666666666666,\"#ed7953\"],[0.7777777777777778,\"#fb9f3a\"],[0.8888888888888888,\"#fdca26\"],[1.0,\"#f0f921\"]]}],\"mesh3d\":[{\"type\":\"mesh3d\",\"colorbar\":{\"outlinewidth\":0,\"ticks\":\"\"}}],\"scatter\":[{\"marker\":{\"line\":{\"color\":\"#283442\"}},\"type\":\"scatter\"}],\"parcoords\":[{\"type\":\"parcoords\",\"line\":{\"colorbar\":{\"outlinewidth\":0,\"ticks\":\"\"}}}],\"scatterpolargl\":[{\"type\":\"scatterpolargl\",\"marker\":{\"colorbar\":{\"outlinewidth\":0,\"ticks\":\"\"}}}],\"bar\":[{\"error_x\":{\"color\":\"#f2f5fa\"},\"error_y\":{\"color\":\"#f2f5fa\"},\"marker\":{\"line\":{\"color\":\"rgb(17,17,17)\",\"width\":0.5},\"pattern\":{\"fillmode\":\"overlay\",\"size\":10,\"solidity\":0.2}},\"type\":\"bar\"}],\"scattergeo\":[{\"type\":\"scattergeo\",\"marker\":{\"colorbar\":{\"outlinewidth\":0,\"ticks\":\"\"}}}],\"scatterpolar\":[{\"type\":\"scatterpolar\",\"marker\":{\"colorbar\":{\"outlinewidth\":0,\"ticks\":\"\"}}}],\"histogram\":[{\"marker\":{\"pattern\":{\"fillmode\":\"overlay\",\"size\":10,\"solidity\":0.2}},\"type\":\"histogram\"}],\"scattergl\":[{\"marker\":{\"line\":{\"color\":\"#283442\"}},\"type\":\"scattergl\"}],\"scatter3d\":[{\"type\":\"scatter3d\",\"line\":{\"colorbar\":{\"outlinewidth\":0,\"ticks\":\"\"}},\"marker\":{\"colorbar\":{\"outlinewidth\":0,\"ticks\":\"\"}}}],\"scattermapbox\":[{\"type\":\"scattermapbox\",\"marker\":{\"colorbar\":{\"outlinewidth\":0,\"ticks\":\"\"}}}],\"scatterternary\":[{\"type\":\"scatterternary\",\"marker\":{\"colorbar\":{\"outlinewidth\":0,\"ticks\":\"\"}}}],\"scattercarpet\":[{\"type\":\"scattercarpet\",\"marker\":{\"colorbar\":{\"outlinewidth\":0,\"ticks\":\"\"}}}],\"carpet\":[{\"aaxis\":{\"endlinecolor\":\"#A2B1C6\",\"gridcolor\":\"#506784\",\"linecolor\":\"#506784\",\"minorgridcolor\":\"#506784\",\"startlinecolor\":\"#A2B1C6\"},\"baxis\":{\"endlinecolor\":\"#A2B1C6\",\"gridcolor\":\"#506784\",\"linecolor\":\"#506784\",\"minorgridcolor\":\"#506784\",\"startlinecolor\":\"#A2B1C6\"},\"type\":\"carpet\"}],\"table\":[{\"cells\":{\"fill\":{\"color\":\"#506784\"},\"line\":{\"color\":\"rgb(17,17,17)\"}},\"header\":{\"fill\":{\"color\":\"#2a3f5f\"},\"line\":{\"color\":\"rgb(17,17,17)\"}},\"type\":\"table\"}],\"barpolar\":[{\"marker\":{\"line\":{\"color\":\"rgb(17,17,17)\",\"width\":0.5},\"pattern\":{\"fillmode\":\"overlay\",\"size\":10,\"solidity\":0.2}},\"type\":\"barpolar\"}],\"pie\":[{\"automargin\":true,\"type\":\"pie\"}]},\"layout\":{\"autotypenumbers\":\"strict\",\"colorway\":[\"#636efa\",\"#EF553B\",\"#00cc96\",\"#ab63fa\",\"#FFA15A\",\"#19d3f3\",\"#FF6692\",\"#B6E880\",\"#FF97FF\",\"#FECB52\"],\"font\":{\"color\":\"#f2f5fa\"},\"hovermode\":\"closest\",\"hoverlabel\":{\"align\":\"left\"},\"paper_bgcolor\":\"rgb(17,17,17)\",\"plot_bgcolor\":\"rgb(17,17,17)\",\"polar\":{\"bgcolor\":\"rgb(17,17,17)\",\"angularaxis\":{\"gridcolor\":\"#506784\",\"linecolor\":\"#506784\",\"ticks\":\"\"},\"radialaxis\":{\"gridcolor\":\"#506784\",\"linecolor\":\"#506784\",\"ticks\":\"\"}},\"ternary\":{\"bgcolor\":\"rgb(17,17,17)\",\"aaxis\":{\"gridcolor\":\"#506784\",\"linecolor\":\"#506784\",\"ticks\":\"\"},\"baxis\":{\"gridcolor\":\"#506784\",\"linecolor\":\"#506784\",\"ticks\":\"\"},\"caxis\":{\"gridcolor\":\"#506784\",\"linecolor\":\"#506784\",\"ticks\":\"\"}},\"coloraxis\":{\"colorbar\":{\"outlinewidth\":0,\"ticks\":\"\"}},\"colorscale\":{\"sequential\":[[0.0,\"#0d0887\"],[0.1111111111111111,\"#46039f\"],[0.2222222222222222,\"#7201a8\"],[0.3333333333333333,\"#9c179e\"],[0.4444444444444444,\"#bd3786\"],[0.5555555555555556,\"#d8576b\"],[0.6666666666666666,\"#ed7953\"],[0.7777777777777778,\"#fb9f3a\"],[0.8888888888888888,\"#fdca26\"],[1.0,\"#f0f921\"]],\"sequentialminus\":[[0.0,\"#0d0887\"],[0.1111111111111111,\"#46039f\"],[0.2222222222222222,\"#7201a8\"],[0.3333333333333333,\"#9c179e\"],[0.4444444444444444,\"#bd3786\"],[0.5555555555555556,\"#d8576b\"],[0.6666666666666666,\"#ed7953\"],[0.7777777777777778,\"#fb9f3a\"],[0.8888888888888888,\"#fdca26\"],[1.0,\"#f0f921\"]],\"diverging\":[[0,\"#8e0152\"],[0.1,\"#c51b7d\"],[0.2,\"#de77ae\"],[0.3,\"#f1b6da\"],[0.4,\"#fde0ef\"],[0.5,\"#f7f7f7\"],[0.6,\"#e6f5d0\"],[0.7,\"#b8e186\"],[0.8,\"#7fbc41\"],[0.9,\"#4d9221\"],[1,\"#276419\"]]},\"xaxis\":{\"gridcolor\":\"#283442\",\"linecolor\":\"#506784\",\"ticks\":\"\",\"title\":{\"standoff\":15},\"zerolinecolor\":\"#283442\",\"automargin\":true,\"zerolinewidth\":2},\"yaxis\":{\"gridcolor\":\"#283442\",\"linecolor\":\"#506784\",\"ticks\":\"\",\"title\":{\"standoff\":15},\"zerolinecolor\":\"#283442\",\"automargin\":true,\"zerolinewidth\":2},\"scene\":{\"xaxis\":{\"backgroundcolor\":\"rgb(17,17,17)\",\"gridcolor\":\"#506784\",\"linecolor\":\"#506784\",\"showbackground\":true,\"ticks\":\"\",\"zerolinecolor\":\"#C8D4E3\",\"gridwidth\":2},\"yaxis\":{\"backgroundcolor\":\"rgb(17,17,17)\",\"gridcolor\":\"#506784\",\"linecolor\":\"#506784\",\"showbackground\":true,\"ticks\":\"\",\"zerolinecolor\":\"#C8D4E3\",\"gridwidth\":2},\"zaxis\":{\"backgroundcolor\":\"rgb(17,17,17)\",\"gridcolor\":\"#506784\",\"linecolor\":\"#506784\",\"showbackground\":true,\"ticks\":\"\",\"zerolinecolor\":\"#C8D4E3\",\"gridwidth\":2}},\"shapedefaults\":{\"line\":{\"color\":\"#f2f5fa\"}},\"annotationdefaults\":{\"arrowcolor\":\"#f2f5fa\",\"arrowhead\":0,\"arrowwidth\":1},\"geo\":{\"bgcolor\":\"rgb(17,17,17)\",\"landcolor\":\"rgb(17,17,17)\",\"subunitcolor\":\"#506784\",\"showland\":true,\"showlakes\":true,\"lakecolor\":\"rgb(17,17,17)\"},\"title\":{\"x\":0.05},\"updatemenudefaults\":{\"bgcolor\":\"#506784\",\"borderwidth\":0},\"sliderdefaults\":{\"bgcolor\":\"#C8D4E3\",\"borderwidth\":1,\"bordercolor\":\"rgb(17,17,17)\",\"tickwidth\":0},\"mapbox\":{\"style\":\"dark\"}}},\"xaxis\":{\"anchor\":\"y\",\"domain\":[0.0,1.0],\"title\":{\"text\":\"date\"}},\"yaxis\":{\"anchor\":\"x\",\"domain\":[0.0,1.0],\"title\":{\"text\":\"bodymass_kg\"}},\"legend\":{\"tracegroupgap\":0,\"yanchor\":\"top\",\"y\":0.99,\"xanchor\":\"left\",\"x\":0.01},\"title\":{\"text\":\"Average weight\"},\"height\":500},                        {\"responsive\": true}                    ).then(function(){\n                            \nvar gd = document.getElementById('a3ad6621-efa2-4938-b7f3-3593a3f926b5');\nvar x = new MutationObserver(function (mutations, observer) {{\n        var display = window.getComputedStyle(gd).display;\n        if (!display || display === 'none') {{\n            console.log([gd, 'removed!']);\n            Plotly.purge(gd);\n            observer.disconnect();\n        }}\n}});\n\n// Listen for the removal of the full notebook cells\nvar notebookContainer = gd.closest('#notebook-container');\nif (notebookContainer) {{\n    x.observe(notebookContainer, {childList: true});\n}}\n\n// Listen for the clearing of the current output cell\nvar outputEl = gd.closest('.output');\nif (outputEl) {{\n    x.observe(outputEl, {childList: true});\n}}\n\n                        })                };                });            </script>        </div>"
     },
     "metadata": {},
     "output_type": "display_data"
    }
   ],
   "source": [
    "dff = df_filtered.resample('W').max()\n",
    "dff['bodymass_kg'] = dff['bodymass_kg'].rolling(5).mean()\n",
    "l = px.line(dff, y='bodymass_kg', title=\"Weekly average weight\", height=500)\n",
    "l.update_layout(legend=dict(yanchor=\"top\", y=0.99, xanchor=\"left\", x=0.01), legend_title_text=None)"
   ],
   "metadata": {
    "collapsed": false,
    "pycharm": {
     "name": "#%%\n"
    }
   }
  },
  {
   "cell_type": "code",
   "execution_count": 84,
   "outputs": [],
   "source": [],
   "metadata": {
    "collapsed": false,
    "pycharm": {
     "name": "#%%\n"
    }
   }
  }
 ],
 "metadata": {
  "kernelspec": {
   "display_name": "Python 3",
   "language": "python",
   "name": "python3"
  },
  "language_info": {
   "codemirror_mode": {
    "name": "ipython",
    "version": 2
   },
   "file_extension": ".py",
   "mimetype": "text/x-python",
   "name": "python",
   "nbconvert_exporter": "python",
   "pygments_lexer": "ipython2",
   "version": "2.7.6"
  }
 },
 "nbformat": 4,
 "nbformat_minor": 0
}