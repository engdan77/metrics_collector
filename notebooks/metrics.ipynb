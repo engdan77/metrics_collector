{
 "cells": [
  {
   "cell_type": "code",
   "execution_count": 494,
   "metadata": {
    "collapsed": true
   },
   "outputs": [],
   "source": [
    "import pandas as pd\n",
    "import datetime\n",
    "import plotly_express as px\n",
    "import numpy as np\n",
    "df = pd.read_pickle('health2.pickle')"
   ]
  },
  {
   "cell_type": "code",
   "execution_count": null,
   "outputs": [],
   "source": [
    "df.columns"
   ],
   "metadata": {
    "collapsed": false,
    "pycharm": {
     "name": "#%%\n",
     "is_executing": true
    }
   }
  },
  {
   "cell_type": "code",
   "execution_count": null,
   "outputs": [],
   "source": [
    "df.index = pd.to_datetime(df.index)\n",
    "df.sort_index(inplace=True)\n",
    "df"
   ],
   "metadata": {
    "collapsed": false,
    "pycharm": {
     "name": "#%%\n",
     "is_executing": true
    }
   }
  },
  {
   "cell_type": "markdown",
   "source": [],
   "metadata": {
    "collapsed": false
   }
  },
  {
   "cell_type": "code",
   "execution_count": null,
   "outputs": [],
   "source": [
    "# Add column for average speed on running\n",
    "TRIP_DISTANCE_METERS = 6000\n",
    "MARGIN_PERCANTAGE = 8\n",
    "diff_meters = (MARGIN_PERCANTAGE / 100) * TRIP_DISTANCE_METERS\n",
    "# TODO: only calc for trip distance\n",
    "df['avg_speed_running_trip'] = df.apply(lambda row: (row.running_duration_seconds/60) / row.running_distance_meters if row.running_distance_meters and row.running_distance_meters - diff_meters <= row.running_distance_meters <= row.running_distance_meters + diff_meters and row.running_distance_meters >= () else np.NaN, axis=1)\n"
   ],
   "metadata": {
    "collapsed": false,
    "pycharm": {
     "name": "#%%\n",
     "is_executing": true
    }
   }
  },
  {
   "cell_type": "code",
   "execution_count": null,
   "outputs": [],
   "source": [
    "# combining where date occurs twice\n",
    "relevant_columns = ('date', 'bodymass_kg_mean', 'stepcount_count_sum', 'distancewalkingrunning_km_sum', 'bodymass_kg', 'bloodpressuresystolic_mmHg', 'bloodpressurediastolic_mmHg', 'walking_distance_meters', 'running_distance_meters', 'avg_speed_running_trip')\n",
    "strategy = {_: 'first' for _ in relevant_columns}\n",
    "df = df.groupby(df.index).agg(strategy)\n",
    "df.sort_index()\n",
    "df.drop('date', axis=1, inplace=True)\n",
    "df.tail(40)"
   ],
   "metadata": {
    "collapsed": false,
    "pycharm": {
     "name": "#%%\n"
    }
   }
  },
  {
   "cell_type": "code",
   "execution_count": null,
   "outputs": [],
   "source": [
    "df['running_distance_garmin'] = df.running_distance_meters.apply(lambda x: x / 1000 if not pd.isna(x) else 0)\n",
    "df['walking_distance_garmin'] = df.walking_distance_meters.apply(lambda x: x / 1000 if not pd.isna(x) else 0)\n",
    "df['walking_running_distance_applehealth'] = df.distancewalkingrunning_km_sum.apply(lambda x: x if not pd.isna(x) else 0)\n",
    "\n",
    "df['walking_km'] = df.apply(lambda row: row.walking_running_distance_applehealth - row.running_distance_garmin if row.walking_running_distance_applehealth >= row.walking_distance_garmin + row.running_distance_garmin else row.walking_running_distance_applehealth, axis=1)\n",
    "df['running_km'] = df.apply(lambda row: row.running_distance_garmin, axis=1)\n",
    "\n",
    "df"
   ],
   "metadata": {
    "collapsed": false,
    "pycharm": {
     "name": "#%%\n"
    }
   }
  },
  {
   "cell_type": "code",
   "execution_count": null,
   "outputs": [],
   "source": [
    "df['total_distance_km'] = df.apply(lambda row: row.running_km + row.walking_km, axis=1)"
   ],
   "metadata": {
    "collapsed": false,
    "pycharm": {
     "name": "#%%\n"
    }
   }
  },
  {
   "cell_type": "code",
   "execution_count": null,
   "outputs": [],
   "source": [
    "# Fixing blood preassure\n",
    "for _ in ('bloodpressurediastolic_mmHg', 'bloodpressuresystolic_mmHg', 'bodymass_kg'):\n",
    "    df[_].replace(0.0, np.NaN, inplace=True)\n",
    "    df[_].interpolate(method='linear', limit_direction='backward', inplace=True)\n",
    "\n",
    "# filtering\n",
    "df_all = df.copy()\n",
    "f, t = datetime.date(2020, 1, 1), datetime.date(2023, 1, 1)\n",
    "dff = df.query('date > @f & date < @t')\n",
    "df_filtered = dff.copy()"
   ],
   "metadata": {
    "collapsed": false,
    "pycharm": {
     "name": "#%%\n"
    }
   }
  },
  {
   "cell_type": "code",
   "execution_count": null,
   "outputs": [],
   "source": [
    "dff = dff.resample('W').sum()\n",
    "dff['walking_running_km_mean'] = dff.total_distance_km.mean()\n",
    "\n",
    "dff"
   ],
   "metadata": {
    "collapsed": false,
    "pycharm": {
     "name": "#%%\n"
    }
   }
  },
  {
   "cell_type": "code",
   "execution_count": null,
   "outputs": [],
   "source": [
    "b = px.bar(dff, y=['walking_km', 'running_km'], title=\"Weekly distance\", height=500)\n",
    "b.update_layout(legend=dict(yanchor=\"top\", y=0.99, xanchor=\"left\", x=0.01), legend_title_text=None)\n",
    "l = px.line(dff, y=\"walking_running_km_mean\")\n",
    "b.add_traces(l.data)"
   ],
   "metadata": {
    "collapsed": false,
    "pycharm": {
     "name": "#%%\n"
    }
   }
  },
  {
   "cell_type": "code",
   "execution_count": null,
   "outputs": [],
   "source": [
    "dff = df_filtered.resample('W').max()\n",
    "both = [\"bloodpressuresystolic_mmHg\", \"bloodpressurediastolic_mmHg\"]\n",
    "for _ in both:\n",
    "    dff[_] = dff[_].rolling(3).mean()\n",
    "l = px.line(dff, y=both, title=\"Weekly blood pressure\", height=500)\n",
    "l.update_layout(legend=dict(yanchor=\"top\", y=0.99, xanchor=\"left\", x=0.01), legend_title_text=None)"
   ],
   "metadata": {
    "collapsed": false,
    "pycharm": {
     "name": "#%%\n"
    }
   }
  },
  {
   "cell_type": "code",
   "execution_count": null,
   "outputs": [],
   "source": [
    "dff = df_filtered.resample('W').max()\n",
    "dff['bodymass_kg'] = dff['bodymass_kg'].rolling(5).mean()\n",
    "l = px.line(dff, y='bodymass_kg', title=\"Average weight\", height=500)\n",
    "l.update_layout(legend=dict(yanchor=\"top\", y=0.99, xanchor=\"left\", x=0.01), legend_title_text=None)"
   ],
   "metadata": {
    "collapsed": false,
    "pycharm": {
     "name": "#%%\n"
    }
   }
  },
  {
   "cell_type": "code",
   "execution_count": null,
   "outputs": [],
   "source": [],
   "metadata": {
    "collapsed": false,
    "pycharm": {
     "name": "#%%\n"
    }
   }
  }
 ],
 "metadata": {
  "kernelspec": {
   "display_name": "Python 3",
   "language": "python",
   "name": "python3"
  },
  "language_info": {
   "codemirror_mode": {
    "name": "ipython",
    "version": 2
   },
   "file_extension": ".py",
   "mimetype": "text/x-python",
   "name": "python",
   "nbconvert_exporter": "python",
   "pygments_lexer": "ipython2",
   "version": "2.7.6"
  }
 },
 "nbformat": 4,
 "nbformat_minor": 0
}