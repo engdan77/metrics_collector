{
 "cells": [
  {
   "cell_type": "code",
   "execution_count": 1,
   "metadata": {
    "collapsed": true
   },
   "outputs": [],
   "source": [
    "import pandas as pd\n",
    "import datetime\n",
    "import plotly_express as px\n",
    "import numpy as np\n",
    "df = pd.read_pickle('health2.pickle')"
   ]
  },
  {
   "cell_type": "code",
   "execution_count": 2,
   "outputs": [
    {
     "data": {
      "text/plain": "Index(['date', 'bodymassindex_count_max', 'bodymassindex_count_min',\n       'bodymassindex_count_mean', 'bodymassindex_count_sum',\n       'bodymass_kg_max', 'bodymass_kg_min', 'bodymass_kg_mean',\n       'bodymass_kg_sum', 'bodyfatpercentage_%', 'stepcount_count_max',\n       'stepcount_count_min', 'stepcount_count_mean', 'stepcount_count_sum',\n       'distancewalkingrunning_km_max', 'distancewalkingrunning_km_min',\n       'distancewalkingrunning_km_mean', 'distancewalkingrunning_km_sum',\n       'bodymassindex_count', 'bodymass_kg', 'bodyfatpercentage_%_max',\n       'bodyfatpercentage_%_min', 'bodyfatpercentage_%_mean',\n       'bodyfatpercentage_%_sum', 'bloodpressuresystolic_mmHg',\n       'bloodpressurediastolic_mmHg', 'stepcount_count',\n       'distancewalkingrunning_km', 'walking_distance_meters',\n       'walking_duration_seconds', 'walking_calories_cal', 'walking_maxHR_bpm',\n       'walking_averageHR_bpm', 'walking_steps_count',\n       'running_distance_meters', 'running_duration_seconds',\n       'running_calories_cal', 'running_maxHR_bpm', 'running_averageHR_bpm',\n       'running_steps_count', 'running_distance_meters_max',\n       'running_distance_meters_min', 'running_distance_meters_mean',\n       'running_distance_meters_sum', 'running_duration_seconds_max',\n       'running_duration_seconds_min', 'running_duration_seconds_mean',\n       'running_duration_seconds_sum', 'running_calories_cal_max',\n       'running_calories_cal_min', 'running_calories_cal_mean',\n       'running_calories_cal_sum', 'running_steps_count_max',\n       'running_steps_count_min', 'running_steps_count_mean',\n       'running_steps_count_sum', 'multi_sport_distance_meters',\n       'multi_sport_duration_seconds', 'multi_sport_calories_cal',\n       'multi_sport_maxHR_bpm', 'multi_sport_averageHR_bpm',\n       'multi_sport_steps_count'],\n      dtype='object')"
     },
     "execution_count": 2,
     "metadata": {},
     "output_type": "execute_result"
    }
   ],
   "source": [
    "df.columns"
   ],
   "metadata": {
    "collapsed": false,
    "pycharm": {
     "name": "#%%\n"
    }
   }
  },
  {
   "cell_type": "code",
   "execution_count": 3,
   "outputs": [
    {
     "data": {
      "text/plain": "                  date  bodymassindex_count_max  bodymassindex_count_min  \\\ndate                                                                       \n2015-11-30  2015-11-30                      NaN                      NaN   \n2015-12-01  2015-12-01                      NaN                      NaN   \n2015-12-02  2015-12-02                      NaN                      NaN   \n2015-12-03  2015-12-03                      NaN                      NaN   \n2015-12-04  2015-12-04                      NaN                      NaN   \n...                ...                      ...                      ...   \n2022-03-27  2022-03-27                      NaN                      NaN   \n2022-03-27  2022-03-27                      NaN                      NaN   \n2022-03-28  2022-03-28                      NaN                      NaN   \n2022-03-29  2022-03-29                      NaN                      NaN   \n2022-03-29  2022-03-29                      NaN                      NaN   \n\n            bodymassindex_count_mean  bodymassindex_count_sum  \\\ndate                                                            \n2015-11-30                       NaN                      NaN   \n2015-12-01                       NaN                      NaN   \n2015-12-02                       NaN                      NaN   \n2015-12-03                       NaN                      NaN   \n2015-12-04                       NaN                      NaN   \n...                              ...                      ...   \n2022-03-27                       NaN                      NaN   \n2022-03-27                       NaN                      NaN   \n2022-03-28                       NaN                      NaN   \n2022-03-29                       NaN                      NaN   \n2022-03-29                       NaN                      NaN   \n\n            bodymass_kg_max  bodymass_kg_min  bodymass_kg_mean  \\\ndate                                                             \n2015-11-30              NaN              NaN               NaN   \n2015-12-01              NaN              NaN               NaN   \n2015-12-02              NaN              NaN               NaN   \n2015-12-03              NaN              NaN               NaN   \n2015-12-04              NaN              NaN               NaN   \n...                     ...              ...               ...   \n2022-03-27              NaN              NaN               NaN   \n2022-03-27              NaN              NaN               NaN   \n2022-03-28              NaN              NaN               NaN   \n2022-03-29              NaN              NaN               NaN   \n2022-03-29              NaN              NaN               NaN   \n\n            bodymass_kg_sum  bodyfatpercentage_%  ...  \\\ndate                                              ...   \n2015-11-30              NaN                  NaN  ...   \n2015-12-01              NaN                  NaN  ...   \n2015-12-02              NaN                  NaN  ...   \n2015-12-03              NaN                  NaN  ...   \n2015-12-04              NaN                  NaN  ...   \n...                     ...                  ...  ...   \n2022-03-27              NaN                  NaN  ...   \n2022-03-27              NaN                  NaN  ...   \n2022-03-28              NaN                  NaN  ...   \n2022-03-29              NaN                  NaN  ...   \n2022-03-29              NaN                  NaN  ...   \n\n            running_steps_count_max  running_steps_count_min  \\\ndate                                                           \n2015-11-30                      NaN                      NaN   \n2015-12-01                      NaN                      NaN   \n2015-12-02                      NaN                      NaN   \n2015-12-03                      NaN                      NaN   \n2015-12-04                      NaN                      NaN   \n...                             ...                      ...   \n2022-03-27                      NaN                      NaN   \n2022-03-27                      NaN                      NaN   \n2022-03-28                      NaN                      NaN   \n2022-03-29                      NaN                      NaN   \n2022-03-29                      NaN                      NaN   \n\n            running_steps_count_mean  running_steps_count_sum  \\\ndate                                                            \n2015-11-30                       NaN                      NaN   \n2015-12-01                       NaN                      NaN   \n2015-12-02                       NaN                      NaN   \n2015-12-03                       NaN                      NaN   \n2015-12-04                       NaN                      NaN   \n...                              ...                      ...   \n2022-03-27                       NaN                      NaN   \n2022-03-27                       NaN                      NaN   \n2022-03-28                       NaN                      NaN   \n2022-03-29                       NaN                      NaN   \n2022-03-29                       NaN                      NaN   \n\n            multi_sport_distance_meters  multi_sport_duration_seconds  \\\ndate                                                                    \n2015-11-30                          NaN                           NaN   \n2015-12-01                          NaN                           NaN   \n2015-12-02                          NaN                           NaN   \n2015-12-03                          NaN                           NaN   \n2015-12-04                          NaN                           NaN   \n...                                 ...                           ...   \n2022-03-27                          NaN                           NaN   \n2022-03-27                          NaN                           NaN   \n2022-03-28                          NaN                           NaN   \n2022-03-29                          NaN                           NaN   \n2022-03-29                          NaN                           NaN   \n\n            multi_sport_calories_cal  multi_sport_maxHR_bpm  \\\ndate                                                          \n2015-11-30                       NaN                    NaN   \n2015-12-01                       NaN                    NaN   \n2015-12-02                       NaN                    NaN   \n2015-12-03                       NaN                    NaN   \n2015-12-04                       NaN                    NaN   \n...                              ...                    ...   \n2022-03-27                       NaN                    NaN   \n2022-03-27                       NaN                    NaN   \n2022-03-28                       NaN                    NaN   \n2022-03-29                       NaN                    NaN   \n2022-03-29                       NaN                    NaN   \n\n            multi_sport_averageHR_bpm  multi_sport_steps_count  \ndate                                                            \n2015-11-30                        NaN                      NaN  \n2015-12-01                        NaN                      NaN  \n2015-12-02                        NaN                      NaN  \n2015-12-03                        NaN                      NaN  \n2015-12-04                        NaN                      NaN  \n...                               ...                      ...  \n2022-03-27                        NaN                      NaN  \n2022-03-27                        NaN                      NaN  \n2022-03-28                        NaN                      NaN  \n2022-03-29                        NaN                      NaN  \n2022-03-29                        NaN                      NaN  \n\n[2472 rows x 62 columns]",
      "text/html": "<div>\n<style scoped>\n    .dataframe tbody tr th:only-of-type {\n        vertical-align: middle;\n    }\n\n    .dataframe tbody tr th {\n        vertical-align: top;\n    }\n\n    .dataframe thead th {\n        text-align: right;\n    }\n</style>\n<table border=\"1\" class=\"dataframe\">\n  <thead>\n    <tr style=\"text-align: right;\">\n      <th></th>\n      <th>date</th>\n      <th>bodymassindex_count_max</th>\n      <th>bodymassindex_count_min</th>\n      <th>bodymassindex_count_mean</th>\n      <th>bodymassindex_count_sum</th>\n      <th>bodymass_kg_max</th>\n      <th>bodymass_kg_min</th>\n      <th>bodymass_kg_mean</th>\n      <th>bodymass_kg_sum</th>\n      <th>bodyfatpercentage_%</th>\n      <th>...</th>\n      <th>running_steps_count_max</th>\n      <th>running_steps_count_min</th>\n      <th>running_steps_count_mean</th>\n      <th>running_steps_count_sum</th>\n      <th>multi_sport_distance_meters</th>\n      <th>multi_sport_duration_seconds</th>\n      <th>multi_sport_calories_cal</th>\n      <th>multi_sport_maxHR_bpm</th>\n      <th>multi_sport_averageHR_bpm</th>\n      <th>multi_sport_steps_count</th>\n    </tr>\n    <tr>\n      <th>date</th>\n      <th></th>\n      <th></th>\n      <th></th>\n      <th></th>\n      <th></th>\n      <th></th>\n      <th></th>\n      <th></th>\n      <th></th>\n      <th></th>\n      <th></th>\n      <th></th>\n      <th></th>\n      <th></th>\n      <th></th>\n      <th></th>\n      <th></th>\n      <th></th>\n      <th></th>\n      <th></th>\n      <th></th>\n    </tr>\n  </thead>\n  <tbody>\n    <tr>\n      <th>2015-11-30</th>\n      <td>2015-11-30</td>\n      <td>NaN</td>\n      <td>NaN</td>\n      <td>NaN</td>\n      <td>NaN</td>\n      <td>NaN</td>\n      <td>NaN</td>\n      <td>NaN</td>\n      <td>NaN</td>\n      <td>NaN</td>\n      <td>...</td>\n      <td>NaN</td>\n      <td>NaN</td>\n      <td>NaN</td>\n      <td>NaN</td>\n      <td>NaN</td>\n      <td>NaN</td>\n      <td>NaN</td>\n      <td>NaN</td>\n      <td>NaN</td>\n      <td>NaN</td>\n    </tr>\n    <tr>\n      <th>2015-12-01</th>\n      <td>2015-12-01</td>\n      <td>NaN</td>\n      <td>NaN</td>\n      <td>NaN</td>\n      <td>NaN</td>\n      <td>NaN</td>\n      <td>NaN</td>\n      <td>NaN</td>\n      <td>NaN</td>\n      <td>NaN</td>\n      <td>...</td>\n      <td>NaN</td>\n      <td>NaN</td>\n      <td>NaN</td>\n      <td>NaN</td>\n      <td>NaN</td>\n      <td>NaN</td>\n      <td>NaN</td>\n      <td>NaN</td>\n      <td>NaN</td>\n      <td>NaN</td>\n    </tr>\n    <tr>\n      <th>2015-12-02</th>\n      <td>2015-12-02</td>\n      <td>NaN</td>\n      <td>NaN</td>\n      <td>NaN</td>\n      <td>NaN</td>\n      <td>NaN</td>\n      <td>NaN</td>\n      <td>NaN</td>\n      <td>NaN</td>\n      <td>NaN</td>\n      <td>...</td>\n      <td>NaN</td>\n      <td>NaN</td>\n      <td>NaN</td>\n      <td>NaN</td>\n      <td>NaN</td>\n      <td>NaN</td>\n      <td>NaN</td>\n      <td>NaN</td>\n      <td>NaN</td>\n      <td>NaN</td>\n    </tr>\n    <tr>\n      <th>2015-12-03</th>\n      <td>2015-12-03</td>\n      <td>NaN</td>\n      <td>NaN</td>\n      <td>NaN</td>\n      <td>NaN</td>\n      <td>NaN</td>\n      <td>NaN</td>\n      <td>NaN</td>\n      <td>NaN</td>\n      <td>NaN</td>\n      <td>...</td>\n      <td>NaN</td>\n      <td>NaN</td>\n      <td>NaN</td>\n      <td>NaN</td>\n      <td>NaN</td>\n      <td>NaN</td>\n      <td>NaN</td>\n      <td>NaN</td>\n      <td>NaN</td>\n      <td>NaN</td>\n    </tr>\n    <tr>\n      <th>2015-12-04</th>\n      <td>2015-12-04</td>\n      <td>NaN</td>\n      <td>NaN</td>\n      <td>NaN</td>\n      <td>NaN</td>\n      <td>NaN</td>\n      <td>NaN</td>\n      <td>NaN</td>\n      <td>NaN</td>\n      <td>NaN</td>\n      <td>...</td>\n      <td>NaN</td>\n      <td>NaN</td>\n      <td>NaN</td>\n      <td>NaN</td>\n      <td>NaN</td>\n      <td>NaN</td>\n      <td>NaN</td>\n      <td>NaN</td>\n      <td>NaN</td>\n      <td>NaN</td>\n    </tr>\n    <tr>\n      <th>...</th>\n      <td>...</td>\n      <td>...</td>\n      <td>...</td>\n      <td>...</td>\n      <td>...</td>\n      <td>...</td>\n      <td>...</td>\n      <td>...</td>\n      <td>...</td>\n      <td>...</td>\n      <td>...</td>\n      <td>...</td>\n      <td>...</td>\n      <td>...</td>\n      <td>...</td>\n      <td>...</td>\n      <td>...</td>\n      <td>...</td>\n      <td>...</td>\n      <td>...</td>\n      <td>...</td>\n    </tr>\n    <tr>\n      <th>2022-03-27</th>\n      <td>2022-03-27</td>\n      <td>NaN</td>\n      <td>NaN</td>\n      <td>NaN</td>\n      <td>NaN</td>\n      <td>NaN</td>\n      <td>NaN</td>\n      <td>NaN</td>\n      <td>NaN</td>\n      <td>NaN</td>\n      <td>...</td>\n      <td>NaN</td>\n      <td>NaN</td>\n      <td>NaN</td>\n      <td>NaN</td>\n      <td>NaN</td>\n      <td>NaN</td>\n      <td>NaN</td>\n      <td>NaN</td>\n      <td>NaN</td>\n      <td>NaN</td>\n    </tr>\n    <tr>\n      <th>2022-03-27</th>\n      <td>2022-03-27</td>\n      <td>NaN</td>\n      <td>NaN</td>\n      <td>NaN</td>\n      <td>NaN</td>\n      <td>NaN</td>\n      <td>NaN</td>\n      <td>NaN</td>\n      <td>NaN</td>\n      <td>NaN</td>\n      <td>...</td>\n      <td>NaN</td>\n      <td>NaN</td>\n      <td>NaN</td>\n      <td>NaN</td>\n      <td>NaN</td>\n      <td>NaN</td>\n      <td>NaN</td>\n      <td>NaN</td>\n      <td>NaN</td>\n      <td>NaN</td>\n    </tr>\n    <tr>\n      <th>2022-03-28</th>\n      <td>2022-03-28</td>\n      <td>NaN</td>\n      <td>NaN</td>\n      <td>NaN</td>\n      <td>NaN</td>\n      <td>NaN</td>\n      <td>NaN</td>\n      <td>NaN</td>\n      <td>NaN</td>\n      <td>NaN</td>\n      <td>...</td>\n      <td>NaN</td>\n      <td>NaN</td>\n      <td>NaN</td>\n      <td>NaN</td>\n      <td>NaN</td>\n      <td>NaN</td>\n      <td>NaN</td>\n      <td>NaN</td>\n      <td>NaN</td>\n      <td>NaN</td>\n    </tr>\n    <tr>\n      <th>2022-03-29</th>\n      <td>2022-03-29</td>\n      <td>NaN</td>\n      <td>NaN</td>\n      <td>NaN</td>\n      <td>NaN</td>\n      <td>NaN</td>\n      <td>NaN</td>\n      <td>NaN</td>\n      <td>NaN</td>\n      <td>NaN</td>\n      <td>...</td>\n      <td>NaN</td>\n      <td>NaN</td>\n      <td>NaN</td>\n      <td>NaN</td>\n      <td>NaN</td>\n      <td>NaN</td>\n      <td>NaN</td>\n      <td>NaN</td>\n      <td>NaN</td>\n      <td>NaN</td>\n    </tr>\n    <tr>\n      <th>2022-03-29</th>\n      <td>2022-03-29</td>\n      <td>NaN</td>\n      <td>NaN</td>\n      <td>NaN</td>\n      <td>NaN</td>\n      <td>NaN</td>\n      <td>NaN</td>\n      <td>NaN</td>\n      <td>NaN</td>\n      <td>NaN</td>\n      <td>...</td>\n      <td>NaN</td>\n      <td>NaN</td>\n      <td>NaN</td>\n      <td>NaN</td>\n      <td>NaN</td>\n      <td>NaN</td>\n      <td>NaN</td>\n      <td>NaN</td>\n      <td>NaN</td>\n      <td>NaN</td>\n    </tr>\n  </tbody>\n</table>\n<p>2472 rows × 62 columns</p>\n</div>"
     },
     "execution_count": 3,
     "metadata": {},
     "output_type": "execute_result"
    }
   ],
   "source": [
    "df.index = pd.to_datetime(df.index)\n",
    "df.sort_index(inplace=True)\n",
    "df"
   ],
   "metadata": {
    "collapsed": false,
    "pycharm": {
     "name": "#%%\n"
    }
   }
  },
  {
   "cell_type": "markdown",
   "source": [],
   "metadata": {
    "collapsed": false
   }
  },
  {
   "cell_type": "code",
   "execution_count": 7,
   "outputs": [
    {
     "data": {
      "text/plain": "                  date  bodymassindex_count_max  bodymassindex_count_min  \\\ndate                                                                       \n2015-11-30  2015-11-30                      NaN                      NaN   \n2015-12-01  2015-12-01                      NaN                      NaN   \n2015-12-02  2015-12-02                      NaN                      NaN   \n2015-12-03  2015-12-03                      NaN                      NaN   \n2015-12-04  2015-12-04                      NaN                      NaN   \n...                ...                      ...                      ...   \n2022-03-27  2022-03-27                      NaN                      NaN   \n2022-03-27  2022-03-27                      NaN                      NaN   \n2022-03-28  2022-03-28                      NaN                      NaN   \n2022-03-29  2022-03-29                      NaN                      NaN   \n2022-03-29  2022-03-29                      NaN                      NaN   \n\n            bodymassindex_count_mean  bodymassindex_count_sum  \\\ndate                                                            \n2015-11-30                       NaN                      NaN   \n2015-12-01                       NaN                      NaN   \n2015-12-02                       NaN                      NaN   \n2015-12-03                       NaN                      NaN   \n2015-12-04                       NaN                      NaN   \n...                              ...                      ...   \n2022-03-27                       NaN                      NaN   \n2022-03-27                       NaN                      NaN   \n2022-03-28                       NaN                      NaN   \n2022-03-29                       NaN                      NaN   \n2022-03-29                       NaN                      NaN   \n\n            bodymass_kg_max  bodymass_kg_min  bodymass_kg_mean  \\\ndate                                                             \n2015-11-30              NaN              NaN               NaN   \n2015-12-01              NaN              NaN               NaN   \n2015-12-02              NaN              NaN               NaN   \n2015-12-03              NaN              NaN               NaN   \n2015-12-04              NaN              NaN               NaN   \n...                     ...              ...               ...   \n2022-03-27              NaN              NaN               NaN   \n2022-03-27              NaN              NaN               NaN   \n2022-03-28              NaN              NaN               NaN   \n2022-03-29              NaN              NaN               NaN   \n2022-03-29              NaN              NaN               NaN   \n\n            bodymass_kg_sum  bodyfatpercentage_%  ...  \\\ndate                                              ...   \n2015-11-30              NaN                  NaN  ...   \n2015-12-01              NaN                  NaN  ...   \n2015-12-02              NaN                  NaN  ...   \n2015-12-03              NaN                  NaN  ...   \n2015-12-04              NaN                  NaN  ...   \n...                     ...                  ...  ...   \n2022-03-27              NaN                  NaN  ...   \n2022-03-27              NaN                  NaN  ...   \n2022-03-28              NaN                  NaN  ...   \n2022-03-29              NaN                  NaN  ...   \n2022-03-29              NaN                  NaN  ...   \n\n            running_steps_count_min  running_steps_count_mean  \\\ndate                                                            \n2015-11-30                      NaN                       NaN   \n2015-12-01                      NaN                       NaN   \n2015-12-02                      NaN                       NaN   \n2015-12-03                      NaN                       NaN   \n2015-12-04                      NaN                       NaN   \n...                             ...                       ...   \n2022-03-27                      NaN                       NaN   \n2022-03-27                      NaN                       NaN   \n2022-03-28                      NaN                       NaN   \n2022-03-29                      NaN                       NaN   \n2022-03-29                      NaN                       NaN   \n\n            running_steps_count_sum  multi_sport_distance_meters  \\\ndate                                                               \n2015-11-30                      NaN                          NaN   \n2015-12-01                      NaN                          NaN   \n2015-12-02                      NaN                          NaN   \n2015-12-03                      NaN                          NaN   \n2015-12-04                      NaN                          NaN   \n...                             ...                          ...   \n2022-03-27                      NaN                          NaN   \n2022-03-27                      NaN                          NaN   \n2022-03-28                      NaN                          NaN   \n2022-03-29                      NaN                          NaN   \n2022-03-29                      NaN                          NaN   \n\n            multi_sport_duration_seconds  multi_sport_calories_cal  \\\ndate                                                                 \n2015-11-30                           NaN                       NaN   \n2015-12-01                           NaN                       NaN   \n2015-12-02                           NaN                       NaN   \n2015-12-03                           NaN                       NaN   \n2015-12-04                           NaN                       NaN   \n...                                  ...                       ...   \n2022-03-27                           NaN                       NaN   \n2022-03-27                           NaN                       NaN   \n2022-03-28                           NaN                       NaN   \n2022-03-29                           NaN                       NaN   \n2022-03-29                           NaN                       NaN   \n\n            multi_sport_maxHR_bpm  multi_sport_averageHR_bpm  \\\ndate                                                           \n2015-11-30                    NaN                        NaN   \n2015-12-01                    NaN                        NaN   \n2015-12-02                    NaN                        NaN   \n2015-12-03                    NaN                        NaN   \n2015-12-04                    NaN                        NaN   \n...                           ...                        ...   \n2022-03-27                    NaN                        NaN   \n2022-03-27                    NaN                        NaN   \n2022-03-28                    NaN                        NaN   \n2022-03-29                    NaN                        NaN   \n2022-03-29                    NaN                        NaN   \n\n            multi_sport_steps_count  avg_speed_running_trip  \ndate                                                         \n2015-11-30                      NaN                     NaN  \n2015-12-01                      NaN                     NaN  \n2015-12-02                      NaN                     NaN  \n2015-12-03                      NaN                     NaN  \n2015-12-04                      NaN                     NaN  \n...                             ...                     ...  \n2022-03-27                      NaN                     NaN  \n2022-03-27                      NaN                6.381378  \n2022-03-28                      NaN                     NaN  \n2022-03-29                      NaN                     NaN  \n2022-03-29                      NaN                6.473471  \n\n[2472 rows x 63 columns]",
      "text/html": "<div>\n<style scoped>\n    .dataframe tbody tr th:only-of-type {\n        vertical-align: middle;\n    }\n\n    .dataframe tbody tr th {\n        vertical-align: top;\n    }\n\n    .dataframe thead th {\n        text-align: right;\n    }\n</style>\n<table border=\"1\" class=\"dataframe\">\n  <thead>\n    <tr style=\"text-align: right;\">\n      <th></th>\n      <th>date</th>\n      <th>bodymassindex_count_max</th>\n      <th>bodymassindex_count_min</th>\n      <th>bodymassindex_count_mean</th>\n      <th>bodymassindex_count_sum</th>\n      <th>bodymass_kg_max</th>\n      <th>bodymass_kg_min</th>\n      <th>bodymass_kg_mean</th>\n      <th>bodymass_kg_sum</th>\n      <th>bodyfatpercentage_%</th>\n      <th>...</th>\n      <th>running_steps_count_min</th>\n      <th>running_steps_count_mean</th>\n      <th>running_steps_count_sum</th>\n      <th>multi_sport_distance_meters</th>\n      <th>multi_sport_duration_seconds</th>\n      <th>multi_sport_calories_cal</th>\n      <th>multi_sport_maxHR_bpm</th>\n      <th>multi_sport_averageHR_bpm</th>\n      <th>multi_sport_steps_count</th>\n      <th>avg_speed_running_trip</th>\n    </tr>\n    <tr>\n      <th>date</th>\n      <th></th>\n      <th></th>\n      <th></th>\n      <th></th>\n      <th></th>\n      <th></th>\n      <th></th>\n      <th></th>\n      <th></th>\n      <th></th>\n      <th></th>\n      <th></th>\n      <th></th>\n      <th></th>\n      <th></th>\n      <th></th>\n      <th></th>\n      <th></th>\n      <th></th>\n      <th></th>\n      <th></th>\n    </tr>\n  </thead>\n  <tbody>\n    <tr>\n      <th>2015-11-30</th>\n      <td>2015-11-30</td>\n      <td>NaN</td>\n      <td>NaN</td>\n      <td>NaN</td>\n      <td>NaN</td>\n      <td>NaN</td>\n      <td>NaN</td>\n      <td>NaN</td>\n      <td>NaN</td>\n      <td>NaN</td>\n      <td>...</td>\n      <td>NaN</td>\n      <td>NaN</td>\n      <td>NaN</td>\n      <td>NaN</td>\n      <td>NaN</td>\n      <td>NaN</td>\n      <td>NaN</td>\n      <td>NaN</td>\n      <td>NaN</td>\n      <td>NaN</td>\n    </tr>\n    <tr>\n      <th>2015-12-01</th>\n      <td>2015-12-01</td>\n      <td>NaN</td>\n      <td>NaN</td>\n      <td>NaN</td>\n      <td>NaN</td>\n      <td>NaN</td>\n      <td>NaN</td>\n      <td>NaN</td>\n      <td>NaN</td>\n      <td>NaN</td>\n      <td>...</td>\n      <td>NaN</td>\n      <td>NaN</td>\n      <td>NaN</td>\n      <td>NaN</td>\n      <td>NaN</td>\n      <td>NaN</td>\n      <td>NaN</td>\n      <td>NaN</td>\n      <td>NaN</td>\n      <td>NaN</td>\n    </tr>\n    <tr>\n      <th>2015-12-02</th>\n      <td>2015-12-02</td>\n      <td>NaN</td>\n      <td>NaN</td>\n      <td>NaN</td>\n      <td>NaN</td>\n      <td>NaN</td>\n      <td>NaN</td>\n      <td>NaN</td>\n      <td>NaN</td>\n      <td>NaN</td>\n      <td>...</td>\n      <td>NaN</td>\n      <td>NaN</td>\n      <td>NaN</td>\n      <td>NaN</td>\n      <td>NaN</td>\n      <td>NaN</td>\n      <td>NaN</td>\n      <td>NaN</td>\n      <td>NaN</td>\n      <td>NaN</td>\n    </tr>\n    <tr>\n      <th>2015-12-03</th>\n      <td>2015-12-03</td>\n      <td>NaN</td>\n      <td>NaN</td>\n      <td>NaN</td>\n      <td>NaN</td>\n      <td>NaN</td>\n      <td>NaN</td>\n      <td>NaN</td>\n      <td>NaN</td>\n      <td>NaN</td>\n      <td>...</td>\n      <td>NaN</td>\n      <td>NaN</td>\n      <td>NaN</td>\n      <td>NaN</td>\n      <td>NaN</td>\n      <td>NaN</td>\n      <td>NaN</td>\n      <td>NaN</td>\n      <td>NaN</td>\n      <td>NaN</td>\n    </tr>\n    <tr>\n      <th>2015-12-04</th>\n      <td>2015-12-04</td>\n      <td>NaN</td>\n      <td>NaN</td>\n      <td>NaN</td>\n      <td>NaN</td>\n      <td>NaN</td>\n      <td>NaN</td>\n      <td>NaN</td>\n      <td>NaN</td>\n      <td>NaN</td>\n      <td>...</td>\n      <td>NaN</td>\n      <td>NaN</td>\n      <td>NaN</td>\n      <td>NaN</td>\n      <td>NaN</td>\n      <td>NaN</td>\n      <td>NaN</td>\n      <td>NaN</td>\n      <td>NaN</td>\n      <td>NaN</td>\n    </tr>\n    <tr>\n      <th>...</th>\n      <td>...</td>\n      <td>...</td>\n      <td>...</td>\n      <td>...</td>\n      <td>...</td>\n      <td>...</td>\n      <td>...</td>\n      <td>...</td>\n      <td>...</td>\n      <td>...</td>\n      <td>...</td>\n      <td>...</td>\n      <td>...</td>\n      <td>...</td>\n      <td>...</td>\n      <td>...</td>\n      <td>...</td>\n      <td>...</td>\n      <td>...</td>\n      <td>...</td>\n      <td>...</td>\n    </tr>\n    <tr>\n      <th>2022-03-27</th>\n      <td>2022-03-27</td>\n      <td>NaN</td>\n      <td>NaN</td>\n      <td>NaN</td>\n      <td>NaN</td>\n      <td>NaN</td>\n      <td>NaN</td>\n      <td>NaN</td>\n      <td>NaN</td>\n      <td>NaN</td>\n      <td>...</td>\n      <td>NaN</td>\n      <td>NaN</td>\n      <td>NaN</td>\n      <td>NaN</td>\n      <td>NaN</td>\n      <td>NaN</td>\n      <td>NaN</td>\n      <td>NaN</td>\n      <td>NaN</td>\n      <td>NaN</td>\n    </tr>\n    <tr>\n      <th>2022-03-27</th>\n      <td>2022-03-27</td>\n      <td>NaN</td>\n      <td>NaN</td>\n      <td>NaN</td>\n      <td>NaN</td>\n      <td>NaN</td>\n      <td>NaN</td>\n      <td>NaN</td>\n      <td>NaN</td>\n      <td>NaN</td>\n      <td>...</td>\n      <td>NaN</td>\n      <td>NaN</td>\n      <td>NaN</td>\n      <td>NaN</td>\n      <td>NaN</td>\n      <td>NaN</td>\n      <td>NaN</td>\n      <td>NaN</td>\n      <td>NaN</td>\n      <td>6.381378</td>\n    </tr>\n    <tr>\n      <th>2022-03-28</th>\n      <td>2022-03-28</td>\n      <td>NaN</td>\n      <td>NaN</td>\n      <td>NaN</td>\n      <td>NaN</td>\n      <td>NaN</td>\n      <td>NaN</td>\n      <td>NaN</td>\n      <td>NaN</td>\n      <td>NaN</td>\n      <td>...</td>\n      <td>NaN</td>\n      <td>NaN</td>\n      <td>NaN</td>\n      <td>NaN</td>\n      <td>NaN</td>\n      <td>NaN</td>\n      <td>NaN</td>\n      <td>NaN</td>\n      <td>NaN</td>\n      <td>NaN</td>\n    </tr>\n    <tr>\n      <th>2022-03-29</th>\n      <td>2022-03-29</td>\n      <td>NaN</td>\n      <td>NaN</td>\n      <td>NaN</td>\n      <td>NaN</td>\n      <td>NaN</td>\n      <td>NaN</td>\n      <td>NaN</td>\n      <td>NaN</td>\n      <td>NaN</td>\n      <td>...</td>\n      <td>NaN</td>\n      <td>NaN</td>\n      <td>NaN</td>\n      <td>NaN</td>\n      <td>NaN</td>\n      <td>NaN</td>\n      <td>NaN</td>\n      <td>NaN</td>\n      <td>NaN</td>\n      <td>NaN</td>\n    </tr>\n    <tr>\n      <th>2022-03-29</th>\n      <td>2022-03-29</td>\n      <td>NaN</td>\n      <td>NaN</td>\n      <td>NaN</td>\n      <td>NaN</td>\n      <td>NaN</td>\n      <td>NaN</td>\n      <td>NaN</td>\n      <td>NaN</td>\n      <td>NaN</td>\n      <td>...</td>\n      <td>NaN</td>\n      <td>NaN</td>\n      <td>NaN</td>\n      <td>NaN</td>\n      <td>NaN</td>\n      <td>NaN</td>\n      <td>NaN</td>\n      <td>NaN</td>\n      <td>NaN</td>\n      <td>6.473471</td>\n    </tr>\n  </tbody>\n</table>\n<p>2472 rows × 63 columns</p>\n</div>"
     },
     "execution_count": 7,
     "metadata": {},
     "output_type": "execute_result"
    }
   ],
   "source": [
    "# Add column for average speed on running\n",
    "TRIP_DISTANCE_METERS = 6000\n",
    "MARGIN_PERCANTAGE = 8\n",
    "diff_meters = (MARGIN_PERCANTAGE / 100) * TRIP_DISTANCE_METERS\n",
    "# TODO: only calc for trip distance\n",
    "df['avg_speed_running_trip'] = df.apply(lambda row: (row.running_duration_seconds/60) / (row.running_distance_meters / 1000) if row.running_distance_meters and row.running_distance_meters - diff_meters <= row.running_distance_meters <= row.running_distance_meters + diff_meters else np.NaN, axis=1)\n",
    "df\n"
   ],
   "metadata": {
    "collapsed": false,
    "pycharm": {
     "name": "#%%\n"
    }
   }
  },
  {
   "cell_type": "code",
   "execution_count": null,
   "outputs": [],
   "source": [
    "# combining where date occurs twice\n",
    "relevant_columns = ('date', 'bodymass_kg_mean', 'stepcount_count_sum', 'distancewalkingrunning_km_sum', 'bodymass_kg', 'bloodpressuresystolic_mmHg', 'bloodpressurediastolic_mmHg', 'walking_distance_meters', 'running_distance_meters', 'avg_speed_running_trip')\n",
    "strategy = {_: 'first' for _ in relevant_columns}\n",
    "df = df.groupby(df.index).agg(strategy)\n",
    "df.sort_index()\n",
    "df.drop('date', axis=1, inplace=True)\n",
    "df.tail(40)"
   ],
   "metadata": {
    "collapsed": false,
    "pycharm": {
     "name": "#%%\n"
    }
   }
  },
  {
   "cell_type": "code",
   "execution_count": null,
   "outputs": [],
   "source": [
    "df['running_distance_garmin'] = df.running_distance_meters.apply(lambda x: x / 1000 if not pd.isna(x) else 0)\n",
    "df['walking_distance_garmin'] = df.walking_distance_meters.apply(lambda x: x / 1000 if not pd.isna(x) else 0)\n",
    "df['walking_running_distance_applehealth'] = df.distancewalkingrunning_km_sum.apply(lambda x: x if not pd.isna(x) else 0)\n",
    "\n",
    "df['walking_km'] = df.apply(lambda row: row.walking_running_distance_applehealth - row.running_distance_garmin if row.walking_running_distance_applehealth >= row.walking_distance_garmin + row.running_distance_garmin else row.walking_running_distance_applehealth, axis=1)\n",
    "df['running_km'] = df.apply(lambda row: row.running_distance_garmin, axis=1)\n",
    "\n",
    "df"
   ],
   "metadata": {
    "collapsed": false,
    "pycharm": {
     "name": "#%%\n"
    }
   }
  },
  {
   "cell_type": "code",
   "execution_count": null,
   "outputs": [],
   "source": [
    "df['total_distance_km'] = df.apply(lambda row: row.running_km + row.walking_km, axis=1)"
   ],
   "metadata": {
    "collapsed": false,
    "pycharm": {
     "name": "#%%\n"
    }
   }
  },
  {
   "cell_type": "code",
   "execution_count": null,
   "outputs": [],
   "source": [
    "# Fixing blood preassure\n",
    "for _ in ('bloodpressurediastolic_mmHg', 'bloodpressuresystolic_mmHg', 'bodymass_kg'):\n",
    "    df[_].replace(0.0, np.NaN, inplace=True)\n",
    "    df[_].interpolate(method='linear', limit_direction='backward', inplace=True)\n",
    "\n",
    "# filtering\n",
    "df_all = df.copy()\n",
    "f, t = datetime.date(2020, 1, 1), datetime.date(2023, 1, 1)\n",
    "dff = df.query('date > @f & date < @t')\n",
    "df_filtered = dff.copy()"
   ],
   "metadata": {
    "collapsed": false,
    "pycharm": {
     "name": "#%%\n"
    }
   }
  },
  {
   "cell_type": "code",
   "execution_count": null,
   "outputs": [],
   "source": [
    "dff = dff.resample('W').sum()\n",
    "dff['walking_running_km_mean'] = dff.total_distance_km.mean()\n",
    "\n",
    "dff"
   ],
   "metadata": {
    "collapsed": false,
    "pycharm": {
     "name": "#%%\n"
    }
   }
  },
  {
   "cell_type": "code",
   "execution_count": null,
   "outputs": [],
   "source": [
    "b = px.bar(dff, y=['walking_km', 'running_km'], title=\"Weekly distance\", height=500)\n",
    "b.update_layout(legend=dict(yanchor=\"top\", y=0.99, xanchor=\"left\", x=0.01), legend_title_text=None)\n",
    "l = px.line(dff, y=\"walking_running_km_mean\")\n",
    "b.add_traces(l.data)"
   ],
   "metadata": {
    "collapsed": false,
    "pycharm": {
     "name": "#%%\n"
    }
   }
  },
  {
   "cell_type": "code",
   "execution_count": null,
   "outputs": [],
   "source": [
    "dff = df_filtered.resample('W').max()\n",
    "both = [\"bloodpressuresystolic_mmHg\", \"bloodpressurediastolic_mmHg\"]\n",
    "for _ in both:\n",
    "    dff[_] = dff[_].rolling(3).mean()\n",
    "l = px.line(dff, y=both, title=\"Weekly blood pressure\", height=500)\n",
    "l.update_layout(legend=dict(yanchor=\"top\", y=0.99, xanchor=\"left\", x=0.01), legend_title_text=None)"
   ],
   "metadata": {
    "collapsed": false,
    "pycharm": {
     "name": "#%%\n"
    }
   }
  },
  {
   "cell_type": "code",
   "execution_count": null,
   "outputs": [],
   "source": [
    "dff = df_filtered.resample('W').max()\n",
    "dff['bodymass_kg'] = dff['bodymass_kg'].rolling(5).mean()\n",
    "l = px.line(dff, y='bodymass_kg', title=\"Average weight\", height=500)\n",
    "l.update_layout(legend=dict(yanchor=\"top\", y=0.99, xanchor=\"left\", x=0.01), legend_title_text=None)"
   ],
   "metadata": {
    "collapsed": false,
    "pycharm": {
     "name": "#%%\n"
    }
   }
  },
  {
   "cell_type": "code",
   "execution_count": null,
   "outputs": [],
   "source": [],
   "metadata": {
    "collapsed": false,
    "pycharm": {
     "name": "#%%\n"
    }
   }
  }
 ],
 "metadata": {
  "kernelspec": {
   "display_name": "Python 3",
   "language": "python",
   "name": "python3"
  },
  "language_info": {
   "codemirror_mode": {
    "name": "ipython",
    "version": 2
   },
   "file_extension": ".py",
   "mimetype": "text/x-python",
   "name": "python",
   "nbconvert_exporter": "python",
   "pygments_lexer": "ipython2",
   "version": "2.7.6"
  }
 },
 "nbformat": 4,
 "nbformat_minor": 0
}